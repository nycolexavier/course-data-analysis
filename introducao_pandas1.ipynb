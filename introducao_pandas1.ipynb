{
 "cells": [
  {
   "cell_type": "markdown",
   "id": "625c8554",
   "metadata": {
    "heading_collapsed": true
   },
   "source": [
    "# Exercício -  Manipulando o DataFrame"
   ]
  },
  {
   "cell_type": "code",
   "execution_count": 12,
   "id": "987dddf0",
   "metadata": {
    "ExecuteTime": {
     "end_time": "2021-07-01T15:07:09.331868Z",
     "start_time": "2021-07-01T15:07:09.059854Z"
    },
    "hidden": true
   },
   "outputs": [],
   "source": [
    "# 1. Abra o arquivo wold_happiness_report_2015.csv e o aloque em um datafram\n",
    "import pandas as pd\n",
    "\n",
    "df = pd.read_csv('world_happiness_report_2015.csv')"
   ]
  },
  {
   "cell_type": "code",
   "execution_count": 15,
   "id": "e4f9ad1a",
   "metadata": {
    "ExecuteTime": {
     "end_time": "2021-07-01T15:07:49.264521Z",
     "start_time": "2021-07-01T15:07:49.235526Z"
    },
    "hidden": true
   },
   "outputs": [
    {
     "data": {
      "text/html": [
       "<div>\n",
       "<style scoped>\n",
       "    .dataframe tbody tr th:only-of-type {\n",
       "        vertical-align: middle;\n",
       "    }\n",
       "\n",
       "    .dataframe tbody tr th {\n",
       "        vertical-align: top;\n",
       "    }\n",
       "\n",
       "    .dataframe thead th {\n",
       "        text-align: right;\n",
       "    }\n",
       "</style>\n",
       "<table border=\"1\" class=\"dataframe\">\n",
       "  <thead>\n",
       "    <tr style=\"text-align: right;\">\n",
       "      <th></th>\n",
       "      <th>country</th>\n",
       "      <th>region</th>\n",
       "      <th>happiness rank</th>\n",
       "      <th>happiness score</th>\n",
       "      <th>standard error</th>\n",
       "      <th>economy (GDP per Capita)</th>\n",
       "      <th>family</th>\n",
       "      <th>health (Life Expectancy)</th>\n",
       "      <th>freedom</th>\n",
       "      <th>trust (Government Corruption)</th>\n",
       "      <th>generosity</th>\n",
       "      <th>dystopia residual</th>\n",
       "    </tr>\n",
       "  </thead>\n",
       "  <tbody>\n",
       "    <tr>\n",
       "      <th>0</th>\n",
       "      <td>Switzerland</td>\n",
       "      <td>Western Europe</td>\n",
       "      <td>1</td>\n",
       "      <td>7,587</td>\n",
       "      <td>3,411</td>\n",
       "      <td>139,651</td>\n",
       "      <td>134,951</td>\n",
       "      <td>94,143</td>\n",
       "      <td>66,557</td>\n",
       "      <td>41,978</td>\n",
       "      <td>29,678</td>\n",
       "      <td>251,738</td>\n",
       "    </tr>\n",
       "    <tr>\n",
       "      <th>1</th>\n",
       "      <td>Iceland</td>\n",
       "      <td>Western Europe</td>\n",
       "      <td>2</td>\n",
       "      <td>7,561</td>\n",
       "      <td>4,884</td>\n",
       "      <td>130,232</td>\n",
       "      <td>140,223</td>\n",
       "      <td>94,784</td>\n",
       "      <td>62,877</td>\n",
       "      <td>14,145</td>\n",
       "      <td>4,363</td>\n",
       "      <td>270,201</td>\n",
       "    </tr>\n",
       "    <tr>\n",
       "      <th>2</th>\n",
       "      <td>Denmark</td>\n",
       "      <td>Western Europe</td>\n",
       "      <td>3</td>\n",
       "      <td>7,527</td>\n",
       "      <td>3,328</td>\n",
       "      <td>132,548</td>\n",
       "      <td>136,058</td>\n",
       "      <td>87,464</td>\n",
       "      <td>64,938</td>\n",
       "      <td>48,357</td>\n",
       "      <td>34,139</td>\n",
       "      <td>249,204</td>\n",
       "    </tr>\n",
       "    <tr>\n",
       "      <th>3</th>\n",
       "      <td>Norway</td>\n",
       "      <td>Western Europe</td>\n",
       "      <td>4</td>\n",
       "      <td>7,522</td>\n",
       "      <td>388</td>\n",
       "      <td>1,459</td>\n",
       "      <td>133,095</td>\n",
       "      <td>88,521</td>\n",
       "      <td>66,973</td>\n",
       "      <td>36,503</td>\n",
       "      <td>34,699</td>\n",
       "      <td>246,531</td>\n",
       "    </tr>\n",
       "    <tr>\n",
       "      <th>4</th>\n",
       "      <td>Canada</td>\n",
       "      <td>North America</td>\n",
       "      <td>5</td>\n",
       "      <td>7,427</td>\n",
       "      <td>3,553</td>\n",
       "      <td>132,629</td>\n",
       "      <td>132,261</td>\n",
       "      <td>90,563</td>\n",
       "      <td>63,297</td>\n",
       "      <td>32,957</td>\n",
       "      <td>45,811</td>\n",
       "      <td>245,176</td>\n",
       "    </tr>\n",
       "  </tbody>\n",
       "</table>\n",
       "</div>"
      ],
      "text/plain": [
       "       country          region  happiness rank happiness score standard error  \\\n",
       "0  Switzerland  Western Europe               1           7,587          3,411   \n",
       "1      Iceland  Western Europe               2           7,561          4,884   \n",
       "2      Denmark  Western Europe               3           7,527          3,328   \n",
       "3       Norway  Western Europe               4           7,522            388   \n",
       "4       Canada   North America               5           7,427          3,553   \n",
       "\n",
       "  economy (GDP per Capita)   family health (Life Expectancy) freedom  \\\n",
       "0                  139,651  134,951                   94,143  66,557   \n",
       "1                  130,232  140,223                   94,784  62,877   \n",
       "2                  132,548  136,058                   87,464  64,938   \n",
       "3                    1,459  133,095                   88,521  66,973   \n",
       "4                  132,629  132,261                   90,563  63,297   \n",
       "\n",
       "  trust (Government Corruption) generosity dystopia residual  \n",
       "0                        41,978     29,678           251,738  \n",
       "1                        14,145      4,363           270,201  \n",
       "2                        48,357     34,139           249,204  \n",
       "3                        36,503     34,699           246,531  \n",
       "4                        32,957     45,811           245,176  "
      ]
     },
     "execution_count": 15,
     "metadata": {},
     "output_type": "execute_result"
    }
   ],
   "source": [
    "# 2. Verifique o cabeçalho e o final do dataframe\n",
    "df.head()"
   ]
  },
  {
   "cell_type": "code",
   "execution_count": 18,
   "id": "e44a2fcc",
   "metadata": {
    "ExecuteTime": {
     "end_time": "2021-07-01T15:08:14.659624Z",
     "start_time": "2021-07-01T15:08:14.651625Z"
    },
    "hidden": true
   },
   "outputs": [
    {
     "data": {
      "text/plain": [
       "Index(['country', 'region', 'happiness rank', 'happiness score',\n",
       "       'standard error', 'economy (GDP per Capita)', 'family',\n",
       "       'health (Life Expectancy)', 'freedom', 'trust (Government Corruption)',\n",
       "       'generosity', 'dystopia residual'],\n",
       "      dtype='object')"
      ]
     },
     "execution_count": 18,
     "metadata": {},
     "output_type": "execute_result"
    }
   ],
   "source": [
    "# 3. Quais as colunas desse dataframe?\n",
    "df.columns"
   ]
  },
  {
   "cell_type": "code",
   "execution_count": 19,
   "id": "91236b35",
   "metadata": {
    "ExecuteTime": {
     "end_time": "2021-07-01T15:08:24.355373Z",
     "start_time": "2021-07-01T15:08:24.316383Z"
    },
    "collapsed": true,
    "hidden": true
   },
   "outputs": [
    {
     "data": {
      "text/plain": [
       "country                          object\n",
       "region                           object\n",
       "happiness rank                    int64\n",
       "happiness score                  object\n",
       "standard error                   object\n",
       "economy (GDP per Capita)         object\n",
       "family                           object\n",
       "health (Life Expectancy)         object\n",
       "freedom                          object\n",
       "trust (Government Corruption)    object\n",
       "generosity                       object\n",
       "dystopia residual                object\n",
       "dtype: object"
      ]
     },
     "execution_count": 19,
     "metadata": {},
     "output_type": "execute_result"
    }
   ],
   "source": [
    "# 4. Quais os tipos de dados temos no datagrame?\n",
    "df.dtypes"
   ]
  },
  {
   "cell_type": "code",
   "execution_count": 5,
   "id": "e4be984a",
   "metadata": {
    "ExecuteTime": {
     "end_time": "2021-07-01T14:59:20.993071Z",
     "start_time": "2021-07-01T14:59:20.987073Z"
    },
    "hidden": true
   },
   "outputs": [],
   "source": [
    "# 5. Há valores faltantes ou nulos? Em quais colunas?"
   ]
  },
  {
   "cell_type": "code",
   "execution_count": 40,
   "id": "29bf37b6",
   "metadata": {
    "ExecuteTime": {
     "end_time": "2021-07-01T15:41:57.779353Z",
     "start_time": "2021-07-01T15:41:57.767356Z"
    },
    "code_folding": [],
    "hidden": true
   },
   "outputs": [],
   "source": [
    "# 6. Renomeie as varáveis como segue:\n",
    "df.rename(columns={'happiness rank': 'rank_felicidade'}, inplace=True)\n",
    "df.rename(columns={'happiness score': 'score_felicidade'}, inplace=True)\n",
    "df.rename(columns={'standard error': 'stand_error'}, inplace=True)\n",
    "df.rename(columns={'economy (GDP per Capita)' : 'PIB'}, inplace=True)\n",
    "df.rename(columns={'health (Life Expectancy)': 'expect_vida'}, inplace=True)\n",
    "df.rename(columns={'trust (Government Corruption)': 'corrupcao'}, inplace=True)"
   ]
  },
  {
   "cell_type": "code",
   "execution_count": 49,
   "id": "0838fce0",
   "metadata": {
    "ExecuteTime": {
     "end_time": "2021-07-01T15:46:15.827018Z",
     "start_time": "2021-07-01T15:46:15.779029Z"
    },
    "code_folding": [],
    "collapsed": true,
    "hidden": true
   },
   "outputs": [
    {
     "data": {
      "text/plain": [
       "0      94,143\n",
       "1      94,784\n",
       "2      87,464\n",
       "3      88,521\n",
       "4      90,563\n",
       "        ...  \n",
       "159    42,864\n",
       "160     3,191\n",
       "161    72,193\n",
       "162    22,396\n",
       "163    28,443\n",
       "Name: expect_vida, Length: 164, dtype: object"
      ]
     },
     "execution_count": 49,
     "metadata": {},
     "output_type": "execute_result"
    }
   ],
   "source": [
    "# 7. Quais os valores médios de expect_vida? E o valor mediano? E o máximo da variável PIB?\n",
    "df['expect_vida']"
   ]
  },
  {
   "cell_type": "code",
   "execution_count": null,
   "id": "421ad873",
   "metadata": {
    "hidden": true
   },
   "outputs": [],
   "source": [
    "# 8. Crie uma series que contenha a altura de 5 colegas e deixe seus como índice."
   ]
  }
 ],
 "metadata": {
  "kernelspec": {
   "display_name": "Python 3",
   "language": "python",
   "name": "python3"
  },
  "language_info": {
   "codemirror_mode": {
    "name": "ipython",
    "version": 3
   },
   "file_extension": ".py",
   "mimetype": "text/x-python",
   "name": "python",
   "nbconvert_exporter": "python",
   "pygments_lexer": "ipython3",
   "version": "3.8.8"
  },
  "varInspector": {
   "cols": {
    "lenName": 16,
    "lenType": 16,
    "lenVar": 40
   },
   "kernels_config": {
    "python": {
     "delete_cmd_postfix": "",
     "delete_cmd_prefix": "del ",
     "library": "var_list.py",
     "varRefreshCmd": "print(var_dic_list())"
    },
    "r": {
     "delete_cmd_postfix": ") ",
     "delete_cmd_prefix": "rm(",
     "library": "var_list.r",
     "varRefreshCmd": "cat(var_dic_list()) "
    }
   },
   "types_to_exclude": [
    "module",
    "function",
    "builtin_function_or_method",
    "instance",
    "_Feature"
   ],
   "window_display": false
  }
 },
 "nbformat": 4,
 "nbformat_minor": 5
}
