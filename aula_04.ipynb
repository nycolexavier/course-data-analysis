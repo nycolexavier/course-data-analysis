{
 "cells": [
  {
   "cell_type": "code",
   "execution_count": 11,
   "id": "a2f28c21",
   "metadata": {
    "ExecuteTime": {
     "end_time": "2021-06-19T16:49:39.188188Z",
     "start_time": "2021-06-19T16:49:39.010229Z"
    }
   },
   "outputs": [],
   "source": [
    "#2. Atribua os seguintesvalores a variaveis, um a um:\n",
    "    #a. 347\n",
    "    #b. 2.71\n",
    "    #c. \"347\"\n",
    "    #d. 2+3j\n",
    "a = 247\n",
    "b = 2.71\n",
    "c = \"347\"\n",
    "d = 2+3j"
   ]
  },
  {
   "cell_type": "code",
   "execution_count": null,
   "id": "91a60677",
   "metadata": {},
   "outputs": [],
   "source": [
    "# 3. Quais o tipos de variáveis acima?\n",
    "# a = int\n",
    "# b = float\n",
    "# c = str\n",
    "# d = complex"
   ]
  },
  {
   "cell_type": "code",
   "execution_count": null,
   "id": "d9881d6b",
   "metadata": {},
   "outputs": [],
   "source": [
    "# 4. Faça uma atribuição múltipla das variáveis do exercício 2."
   ]
  },
  {
   "cell_type": "code",
   "execution_count": 3,
   "id": "6937fef7",
   "metadata": {
    "ExecuteTime": {
     "end_time": "2021-06-19T16:19:35.184639Z",
     "start_time": "2021-06-19T16:19:35.140648Z"
    }
   },
   "outputs": [
    {
     "data": {
      "text/plain": [
       "False"
      ]
     },
     "execution_count": 3,
     "metadata": {},
     "output_type": "execute_result"
    }
   ],
   "source": [
    "# Teste as seguintes realações\n",
    "x > 7"
   ]
  },
  {
   "cell_type": "code",
   "execution_count": 5,
   "id": "eb156e06",
   "metadata": {
    "ExecuteTime": {
     "end_time": "2021-06-19T16:27:42.522242Z",
     "start_time": "2021-06-19T16:27:42.510245Z"
    }
   },
   "outputs": [
    {
     "data": {
      "text/plain": [
       "12.0"
      ]
     },
     "execution_count": 5,
     "metadata": {},
     "output_type": "execute_result"
    }
   ],
   "source": [
    "x * y"
   ]
  },
  {
   "cell_type": "code",
   "execution_count": 15,
   "id": "8d769c66",
   "metadata": {
    "ExecuteTime": {
     "end_time": "2021-06-19T17:09:26.665002Z",
     "start_time": "2021-06-19T17:09:26.639007Z"
    }
   },
   "outputs": [
    {
     "data": {
      "text/plain": [
       "['abacate', 'coisa']"
      ]
     },
     "execution_count": 15,
     "metadata": {},
     "output_type": "execute_result"
    }
   ],
   "source": [
    "lista = ['abacate','coisa']\n",
    "lista[:2:1]"
   ]
  },
  {
   "cell_type": "code",
   "execution_count": 19,
   "id": "bdf84173",
   "metadata": {
    "ExecuteTime": {
     "end_time": "2021-06-19T17:10:18.610098Z",
     "start_time": "2021-06-19T17:10:18.603098Z"
    }
   },
   "outputs": [],
   "source": [
    "lista.append('ola')"
   ]
  },
  {
   "cell_type": "code",
   "execution_count": 26,
   "id": "87b408f3",
   "metadata": {
    "ExecuteTime": {
     "end_time": "2021-06-19T17:24:48.282309Z",
     "start_time": "2021-06-19T17:24:48.274309Z"
    }
   },
   "outputs": [],
   "source": [
    "tupla1 = 1, 3.14, 'abacate'"
   ]
  },
  {
   "cell_type": "code",
   "execution_count": 30,
   "id": "bbfd2c29",
   "metadata": {
    "ExecuteTime": {
     "end_time": "2021-06-19T17:29:57.299738Z",
     "start_time": "2021-06-19T17:29:57.291738Z"
    }
   },
   "outputs": [],
   "source": [
    "colegas = {'João': '21', 'Maria': '33'}"
   ]
  },
  {
   "cell_type": "code",
   "execution_count": 38,
   "id": "7331c641",
   "metadata": {
    "ExecuteTime": {
     "end_time": "2021-06-19T19:08:46.680343Z",
     "start_time": "2021-06-19T19:08:40.916189Z"
    }
   },
   "outputs": [
    {
     "name": "stdout",
     "output_type": "stream",
     "text": [
      "Qual sua altura: 1.5\n"
     ]
    }
   ],
   "source": [
    "altura = float(input('Qual sua altura: ') )"
   ]
  },
  {
   "cell_type": "code",
   "execution_count": 51,
   "id": "1420c89e",
   "metadata": {
    "ExecuteTime": {
     "end_time": "2021-06-19T19:47:29.640537Z",
     "start_time": "2021-06-19T19:47:21.960318Z"
    },
    "code_folding": []
   },
   "outputs": [
    {
     "name": "stdout",
     "output_type": "stream",
     "text": [
      "A temperatura hoje é: 32\n",
      "Hoje esta muito quente!\n",
      "fim\n"
     ]
    }
   ],
   "source": [
    "temperatura = int(input('A temperatura hoje é: '))\n",
    "if (temperatura > 30):\n",
    "    print('Hoje esta muito quente!')\n",
    "elif (temperatura > 31):\n",
    "    print('31')\n",
    "else:\n",
    "    print('A temperatura hoje esta agradável!')\n",
    "print('fim')"
   ]
  },
  {
   "cell_type": "code",
   "execution_count": null,
   "id": "7eceec51",
   "metadata": {
    "ExecuteTime": {
     "end_time": "2021-06-19T20:20:35.648773Z",
     "start_time": "2021-06-19T20:20:16.369Z"
    }
   },
   "outputs": [],
   "source": [
    "multiplos = [1, 2, 3, 4, 5, 6, 8, 9, 10]"
   ]
  },
  {
   "cell_type": "code",
   "execution_count": null,
   "id": "cd8f5891",
   "metadata": {
    "ExecuteTime": {
     "end_time": "2021-06-19T20:20:35.663770Z",
     "start_time": "2021-06-19T20:20:17.065Z"
    }
   },
   "outputs": [],
   "source": [
    "number = int(input('DIgite um numero entre 0 e 10: ') )"
   ]
  },
  {
   "cell_type": "code",
   "execution_count": null,
   "id": "a4359f06",
   "metadata": {
    "ExecuteTime": {
     "end_time": "2021-06-19T20:20:35.680768Z",
     "start_time": "2021-06-19T20:20:17.279Z"
    }
   },
   "outputs": [],
   "source": [
    "for i in multiplos:\n",
    "    print(number * 1)\n",
    "    print(number * 2)"
   ]
  },
  {
   "cell_type": "code",
   "execution_count": 57,
   "id": "463e7bd4",
   "metadata": {
    "ExecuteTime": {
     "end_time": "2021-06-19T20:32:40.944335Z",
     "start_time": "2021-06-19T20:32:38.730189Z"
    }
   },
   "outputs": [
    {
     "name": "stdout",
     "output_type": "stream",
     "text": [
      "Digite um número entre 2 e 15: 8\n",
      "O fatorial de 8 é 0\n"
     ]
    }
   ],
   "source": [
    "valor = int(input('Digite um número entre 2 e 15: '))\n",
    "fat = 0\n",
    "cont = 0\n",
    "while cont < valor:\n",
    "    fat = fat * valor\n",
    "    cont = cont + 1\n",
    "print('O fatorial de %d é %d' %(valor, fat))"
   ]
  }
 ],
 "metadata": {
  "kernelspec": {
   "display_name": "Python 3",
   "language": "python",
   "name": "python3"
  },
  "language_info": {
   "codemirror_mode": {
    "name": "ipython",
    "version": 3
   },
   "file_extension": ".py",
   "mimetype": "text/x-python",
   "name": "python",
   "nbconvert_exporter": "python",
   "pygments_lexer": "ipython3",
   "version": "3.8.8"
  },
  "varInspector": {
   "cols": {
    "lenName": 16,
    "lenType": 16,
    "lenVar": 40
   },
   "kernels_config": {
    "python": {
     "delete_cmd_postfix": "",
     "delete_cmd_prefix": "del ",
     "library": "var_list.py",
     "varRefreshCmd": "print(var_dic_list())"
    },
    "r": {
     "delete_cmd_postfix": ") ",
     "delete_cmd_prefix": "rm(",
     "library": "var_list.r",
     "varRefreshCmd": "cat(var_dic_list()) "
    }
   },
   "types_to_exclude": [
    "module",
    "function",
    "builtin_function_or_method",
    "instance",
    "_Feature"
   ],
   "window_display": false
  }
 },
 "nbformat": 4,
 "nbformat_minor": 5
}
