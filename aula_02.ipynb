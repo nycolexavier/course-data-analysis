{
 "cells": [
  {
   "cell_type": "markdown",
   "id": "1bfb308a",
   "metadata": {
    "ExecuteTime": {
     "end_time": "2021-06-26T13:09:14.162221Z",
     "start_time": "2021-06-26T13:09:14.098235Z"
    },
    "heading_collapsed": true
   },
   "source": [
    "# Exercícios - fatiamento"
   ]
  },
  {
   "cell_type": "code",
   "execution_count": 4,
   "id": "d3330659",
   "metadata": {
    "ExecuteTime": {
     "end_time": "2021-06-26T13:08:26.420491Z",
     "start_time": "2021-06-26T13:08:26.410497Z"
    },
    "hidden": true
   },
   "outputs": [],
   "source": [
    "import numpy as np"
   ]
  },
  {
   "cell_type": "code",
   "execution_count": 15,
   "id": "d63c3f9f",
   "metadata": {
    "ExecuteTime": {
     "end_time": "2021-06-26T13:16:50.207609Z",
     "start_time": "2021-06-26T13:16:50.184614Z"
    },
    "hidden": true
   },
   "outputs": [],
   "source": [
    "# 2. Crie um array data com as seguite lista [1, 2, 3, 4, 5, 6, 7, 8, 9, 10, 11, 12, 13, 14, 15, 16]\n",
    "data = np.array([1, 2, 3, 4, 5, 6, 7, 8, 9, 10, 11, 12, 13, 14, 15, 16])"
   ]
  },
  {
   "cell_type": "code",
   "execution_count": 13,
   "id": "778f172d",
   "metadata": {
    "ExecuteTime": {
     "end_time": "2021-06-26T13:14:31.084321Z",
     "start_time": "2021-06-26T13:14:31.076337Z"
    },
    "hidden": true
   },
   "outputs": [],
   "source": [
    "# 3. Selecione apenas os dados diferentes de 4,6,8,10\n",
    "data_2 = data[(data !=4) & (data != 6) & (data!= 8) & (data != 10)]"
   ]
  },
  {
   "cell_type": "code",
   "execution_count": 14,
   "id": "bdf4e771",
   "metadata": {
    "ExecuteTime": {
     "end_time": "2021-06-26T13:15:39.245415Z",
     "start_time": "2021-06-26T13:15:39.236419Z"
    },
    "hidden": true
   },
   "outputs": [
    {
     "data": {
      "text/plain": [
       "array([ 1,  2,  3,  5,  7,  9, 11, 12, 13, 14, 15, 16])"
      ]
     },
     "execution_count": 14,
     "metadata": {},
     "output_type": "execute_result"
    }
   ],
   "source": [
    "data_2"
   ]
  },
  {
   "cell_type": "code",
   "execution_count": 16,
   "id": "699f413b",
   "metadata": {
    "ExecuteTime": {
     "end_time": "2021-06-26T13:20:20.082353Z",
     "start_time": "2021-06-26T13:20:20.046361Z"
    },
    "hidden": true
   },
   "outputs": [],
   "source": [
    "# 4. Crie um array dim2 que tenha 2 dimensões e a lista [1,2,3,4,5] na primeira linha e a lista [6,7,8,9,10] na segunda linha\n",
    "dim2 = np.array([[1,2,3,4,5],[6,7,8,9,10]])"
   ]
  },
  {
   "cell_type": "code",
   "execution_count": 18,
   "id": "424bffd0",
   "metadata": {
    "ExecuteTime": {
     "end_time": "2021-06-26T13:20:28.992284Z",
     "start_time": "2021-06-26T13:20:28.982284Z"
    },
    "hidden": true
   },
   "outputs": [
    {
     "data": {
      "text/plain": [
       "array([[ 1,  2,  3,  4,  5],\n",
       "       [ 6,  7,  8,  9, 10]])"
      ]
     },
     "execution_count": 18,
     "metadata": {},
     "output_type": "execute_result"
    }
   ],
   "source": [
    "dim2"
   ]
  },
  {
   "cell_type": "code",
   "execution_count": 20,
   "id": "7eab1cda",
   "metadata": {
    "ExecuteTime": {
     "end_time": "2021-06-26T13:22:55.855453Z",
     "start_time": "2021-06-26T13:22:55.820964Z"
    },
    "hidden": true
   },
   "outputs": [],
   "source": [
    "# 5. Crie um array chamado dim2_2 que seja uma fatia de dim2 e que contenha apenas os valores 3,4,8,9\n",
    "dim2_2 = dim2[:,2:4]"
   ]
  },
  {
   "cell_type": "code",
   "execution_count": 21,
   "id": "ce7ad1f7",
   "metadata": {
    "ExecuteTime": {
     "end_time": "2021-06-26T13:23:05.599711Z",
     "start_time": "2021-06-26T13:23:05.590715Z"
    },
    "hidden": true
   },
   "outputs": [
    {
     "data": {
      "text/plain": [
       "array([[3, 4],\n",
       "       [8, 9]])"
      ]
     },
     "execution_count": 21,
     "metadata": {},
     "output_type": "execute_result"
    }
   ],
   "source": [
    "dim2_2"
   ]
  },
  {
   "cell_type": "markdown",
   "id": "96c7542b",
   "metadata": {},
   "source": [
    "# Prática"
   ]
  },
  {
   "cell_type": "code",
   "execution_count": 23,
   "id": "d394455c",
   "metadata": {
    "ExecuteTime": {
     "end_time": "2021-06-26T13:50:42.152148Z",
     "start_time": "2021-06-26T13:50:42.146149Z"
    }
   },
   "outputs": [],
   "source": [
    "import numpy as np"
   ]
  },
  {
   "cell_type": "code",
   "execution_count": 25,
   "id": "5d133652",
   "metadata": {
    "ExecuteTime": {
     "end_time": "2021-06-26T13:51:27.595430Z",
     "start_time": "2021-06-26T13:51:27.585432Z"
    }
   },
   "outputs": [
    {
     "data": {
      "text/plain": [
       "array([9, 8, 7])"
      ]
     },
     "execution_count": 25,
     "metadata": {},
     "output_type": "execute_result"
    }
   ],
   "source": [
    "np.array([9, 8, 7]) #Uma dimensão"
   ]
  },
  {
   "cell_type": "code",
   "execution_count": 28,
   "id": "cdb1796c",
   "metadata": {
    "ExecuteTime": {
     "end_time": "2021-06-26T13:53:55.845041Z",
     "start_time": "2021-06-26T13:53:55.834042Z"
    }
   },
   "outputs": [
    {
     "data": {
      "text/plain": [
       "array([[  11,    2,   33],\n",
       "       [ 100,    2, 4000]])"
      ]
     },
     "execution_count": 28,
     "metadata": {},
     "output_type": "execute_result"
    }
   ],
   "source": [
    "np.array( [ [ 11, 2, 33 ], [ 100, 2, 4000 ] ] ) #Bidimensional"
   ]
  },
  {
   "cell_type": "code",
   "execution_count": 41,
   "id": "d5275066",
   "metadata": {
    "ExecuteTime": {
     "end_time": "2021-06-26T14:02:24.272895Z",
     "start_time": "2021-06-26T14:02:24.142922Z"
    }
   },
   "outputs": [
    {
     "data": {
      "text/plain": [
       "<function numpy.array>"
      ]
     },
     "execution_count": 41,
     "metadata": {},
     "output_type": "execute_result"
    }
   ],
   "source": [
    "np.array( [ [ [ 22, 56, 38 ], [ 114, 489, 878 ], [ 1001, 1002, 11000] ] ] ) #Tridimensional"
   ]
  },
  {
   "cell_type": "code",
   "execution_count": 43,
   "id": "7823ef38",
   "metadata": {
    "ExecuteTime": {
     "end_time": "2021-06-26T14:02:49.974854Z",
     "start_time": "2021-06-26T14:02:49.967857Z"
    }
   },
   "outputs": [],
   "source": [
    "one = np.ones([2, 2])"
   ]
  },
  {
   "cell_type": "code",
   "execution_count": 44,
   "id": "1fcc4cdb",
   "metadata": {
    "ExecuteTime": {
     "end_time": "2021-06-26T14:03:12.633596Z",
     "start_time": "2021-06-26T14:03:12.622600Z"
    }
   },
   "outputs": [
    {
     "data": {
      "text/plain": [
       "array([[2, 0, 0, 0],\n",
       "       [0, 1, 0, 0],\n",
       "       [0, 0, 4, 0],\n",
       "       [0, 0, 0, 6]])"
      ]
     },
     "execution_count": 44,
     "metadata": {},
     "output_type": "execute_result"
    }
   ],
   "source": [
    "array9 = np.diag((2, 1, 4, 6)) ; array9 #matriz diagonal"
   ]
  },
  {
   "cell_type": "code",
   "execution_count": 56,
   "id": "32ae34ba",
   "metadata": {
    "ExecuteTime": {
     "end_time": "2021-06-26T14:16:18.877376Z",
     "start_time": "2021-06-26T14:16:18.864377Z"
    }
   },
   "outputs": [
    {
     "data": {
      "text/plain": [
       "array([0.54340494, 0.27836939, 0.42451759, 0.84477613, 0.00471886])"
      ]
     },
     "execution_count": 56,
     "metadata": {},
     "output_type": "execute_result"
    }
   ],
   "source": [
    "np.random.seed(100)\n",
    "array10 = np.random.rand(5); array10"
   ]
  },
  {
   "cell_type": "code",
   "execution_count": 64,
   "id": "d2b4f530",
   "metadata": {
    "ExecuteTime": {
     "end_time": "2021-06-26T14:16:59.526665Z",
     "start_time": "2021-06-26T14:16:59.515668Z"
    }
   },
   "outputs": [
    {
     "data": {
      "text/plain": [
       "array([ 1.15117366, -1.02933685, -0.51099219, -2.36027053,  0.10359513])"
      ]
     },
     "execution_count": 64,
     "metadata": {},
     "output_type": "execute_result"
    }
   ],
   "source": [
    "array11 = np.random.randn(5) ;array11"
   ]
  },
  {
   "cell_type": "code",
   "execution_count": 65,
   "id": "936a3650",
   "metadata": {
    "ExecuteTime": {
     "end_time": "2021-06-26T14:26:15.161109Z",
     "start_time": "2021-06-26T14:26:15.151114Z"
    }
   },
   "outputs": [
    {
     "data": {
      "text/plain": [
       "array([[[0., 0.],\n",
       "        [0., 0.]],\n",
       "\n",
       "       [[0., 0.],\n",
       "        [0., 0.]]])"
      ]
     },
     "execution_count": 65,
     "metadata": {},
     "output_type": "execute_result"
    }
   ],
   "source": [
    "zeros = np.zeros([2, 2, 2])\n",
    "zeros"
   ]
  },
  {
   "cell_type": "code",
   "execution_count": 76,
   "id": "7b0c6a8e",
   "metadata": {
    "ExecuteTime": {
     "end_time": "2021-06-26T14:29:32.795382Z",
     "start_time": "2021-06-26T14:29:32.785382Z"
    }
   },
   "outputs": [
    {
     "data": {
      "text/plain": [
       "array([  0,   5,  10,  15,  20,  25,  30,  35,  40,  45,  50,  55,  60,\n",
       "        65,  70,  75,  80,  85,  90,  95, 100, 105, 110, 115, 120, 125,\n",
       "       130, 135, 140, 145])"
      ]
     },
     "execution_count": 76,
     "metadata": {},
     "output_type": "execute_result"
    }
   ],
   "source": [
    "array19 = np.arange(0, 30)*5\n",
    "array19"
   ]
  },
  {
   "cell_type": "code",
   "execution_count": null,
   "id": "e38701f5",
   "metadata": {},
   "outputs": [],
   "source": []
  },
  {
   "cell_type": "code",
   "execution_count": null,
   "id": "84f0d498",
   "metadata": {},
   "outputs": [],
   "source": []
  },
  {
   "cell_type": "code",
   "execution_count": null,
   "id": "581f8c36",
   "metadata": {},
   "outputs": [],
   "source": []
  },
  {
   "cell_type": "code",
   "execution_count": null,
   "id": "9582ec03",
   "metadata": {},
   "outputs": [],
   "source": []
  },
  {
   "cell_type": "code",
   "execution_count": null,
   "id": "a561760d",
   "metadata": {},
   "outputs": [],
   "source": []
  }
 ],
 "metadata": {
  "kernelspec": {
   "display_name": "Python 3",
   "language": "python",
   "name": "python3"
  },
  "language_info": {
   "codemirror_mode": {
    "name": "ipython",
    "version": 3
   },
   "file_extension": ".py",
   "mimetype": "text/x-python",
   "name": "python",
   "nbconvert_exporter": "python",
   "pygments_lexer": "ipython3",
   "version": "3.8.8"
  },
  "varInspector": {
   "cols": {
    "lenName": 16,
    "lenType": 16,
    "lenVar": 40
   },
   "kernels_config": {
    "python": {
     "delete_cmd_postfix": "",
     "delete_cmd_prefix": "del ",
     "library": "var_list.py",
     "varRefreshCmd": "print(var_dic_list())"
    },
    "r": {
     "delete_cmd_postfix": ") ",
     "delete_cmd_prefix": "rm(",
     "library": "var_list.r",
     "varRefreshCmd": "cat(var_dic_list()) "
    }
   },
   "types_to_exclude": [
    "module",
    "function",
    "builtin_function_or_method",
    "instance",
    "_Feature"
   ],
   "window_display": false
  }
 },
 "nbformat": 4,
 "nbformat_minor": 5
}
