{
 "cells": [
  {
   "cell_type": "markdown",
   "id": "94f380ae",
   "metadata": {
    "ExecuteTime": {
     "end_time": "2021-06-26T13:09:14.162221Z",
     "start_time": "2021-06-26T13:09:14.098235Z"
    },
    "heading_collapsed": true
   },
   "source": [
    "# Exercícios - fatiamento"
   ]
  },
  {
   "cell_type": "code",
   "execution_count": 3,
   "id": "37557433",
   "metadata": {
    "ExecuteTime": {
     "end_time": "2021-06-29T12:25:21.268426Z",
     "start_time": "2021-06-29T12:25:21.261425Z"
    },
    "hidden": true
   },
   "outputs": [],
   "source": [
    "import numpy as np"
   ]
  },
  {
   "cell_type": "code",
   "execution_count": 15,
   "id": "179b86cf",
   "metadata": {
    "ExecuteTime": {
     "end_time": "2021-06-26T13:16:50.207609Z",
     "start_time": "2021-06-26T13:16:50.184614Z"
    },
    "hidden": true
   },
   "outputs": [],
   "source": [
    "# 2. Crie um array data com as seguite lista [1, 2, 3, 4, 5, 6, 7, 8, 9, 10, 11, 12, 13, 14, 15, 16]\n",
    "data = np.array([1, 2, 3, 4, 5, 6, 7, 8, 9, 10, 11, 12, 13, 14, 15, 16])"
   ]
  },
  {
   "cell_type": "code",
   "execution_count": 13,
   "id": "d885f11b",
   "metadata": {
    "ExecuteTime": {
     "end_time": "2021-06-26T13:14:31.084321Z",
     "start_time": "2021-06-26T13:14:31.076337Z"
    },
    "hidden": true
   },
   "outputs": [],
   "source": [
    "# 3. Selecione apenas os dados diferentes de 4,6,8,10\n",
    "data_2 = data[(data !=4) & (data != 6) & (data!= 8) & (data != 10)]"
   ]
  },
  {
   "cell_type": "code",
   "execution_count": 14,
   "id": "a90d28cc",
   "metadata": {
    "ExecuteTime": {
     "end_time": "2021-06-26T13:15:39.245415Z",
     "start_time": "2021-06-26T13:15:39.236419Z"
    },
    "hidden": true
   },
   "outputs": [
    {
     "data": {
      "text/plain": [
       "array([ 1,  2,  3,  5,  7,  9, 11, 12, 13, 14, 15, 16])"
      ]
     },
     "execution_count": 14,
     "metadata": {},
     "output_type": "execute_result"
    }
   ],
   "source": [
    "data_2"
   ]
  },
  {
   "cell_type": "code",
   "execution_count": 16,
   "id": "f07a1460",
   "metadata": {
    "ExecuteTime": {
     "end_time": "2021-06-26T13:20:20.082353Z",
     "start_time": "2021-06-26T13:20:20.046361Z"
    },
    "hidden": true
   },
   "outputs": [],
   "source": [
    "# 4. Crie um array dim2 que tenha 2 dimensões e a lista [1,2,3,4,5] na primeira linha e a lista [6,7,8,9,10] na segunda linha\n",
    "dim2 = np.array([[1,2,3,4,5],[6,7,8,9,10]])"
   ]
  },
  {
   "cell_type": "code",
   "execution_count": 18,
   "id": "a0f15bb0",
   "metadata": {
    "ExecuteTime": {
     "end_time": "2021-06-26T13:20:28.992284Z",
     "start_time": "2021-06-26T13:20:28.982284Z"
    },
    "hidden": true
   },
   "outputs": [
    {
     "data": {
      "text/plain": [
       "array([[ 1,  2,  3,  4,  5],\n",
       "       [ 6,  7,  8,  9, 10]])"
      ]
     },
     "execution_count": 18,
     "metadata": {},
     "output_type": "execute_result"
    }
   ],
   "source": [
    "dim2"
   ]
  },
  {
   "cell_type": "code",
   "execution_count": 20,
   "id": "62a8d859",
   "metadata": {
    "ExecuteTime": {
     "end_time": "2021-06-26T13:22:55.855453Z",
     "start_time": "2021-06-26T13:22:55.820964Z"
    },
    "hidden": true
   },
   "outputs": [],
   "source": [
    "# 5. Crie um array chamado dim2_2 que seja uma fatia de dim2 e que contenha apenas os valores 3,4,8,9\n",
    "dim2_2 = dim2[:,2:4]"
   ]
  },
  {
   "cell_type": "code",
   "execution_count": 21,
   "id": "e27ca383",
   "metadata": {
    "ExecuteTime": {
     "end_time": "2021-06-26T13:23:05.599711Z",
     "start_time": "2021-06-26T13:23:05.590715Z"
    },
    "hidden": true
   },
   "outputs": [
    {
     "data": {
      "text/plain": [
       "array([[3, 4],\n",
       "       [8, 9]])"
      ]
     },
     "execution_count": 21,
     "metadata": {},
     "output_type": "execute_result"
    }
   ],
   "source": [
    "dim2_2"
   ]
  },
  {
   "cell_type": "markdown",
   "id": "2b2a34c7",
   "metadata": {
    "ExecuteTime": {
     "end_time": "2021-06-29T12:21:03.143356Z",
     "start_time": "2021-06-29T12:21:03.107366Z"
    },
    "heading_collapsed": true
   },
   "source": [
    "# Exercícios - funções úteis"
   ]
  },
  {
   "cell_type": "code",
   "execution_count": 5,
   "id": "f7fbd940",
   "metadata": {
    "ExecuteTime": {
     "end_time": "2021-06-29T12:26:08.399483Z",
     "start_time": "2021-06-29T12:26:08.254515Z"
    },
    "code_folding": [],
    "collapsed": true,
    "hidden": true
   },
   "outputs": [
    {
     "data": {
      "text/plain": [
       "array([ 1,  2,  3,  4,  5,  6,  7,  8,  9, 10, 11, 12, 13, 14, 15, 16])"
      ]
     },
     "execution_count": 5,
     "metadata": {},
     "output_type": "execute_result"
    }
   ],
   "source": [
    "# 2 Crie um array *data* com a seguinte lista: [1, 2, 3, 4, 5, 6, 7, 8, 9, 10, 11, 12, 13, 14, 16]\n",
    "data = np.array([1, 2, 3, 4, 5, 6, 7, 8, 9, 10, 11, 12, 13, 14, 15, 16])\n",
    "data"
   ]
  },
  {
   "cell_type": "code",
   "execution_count": 13,
   "id": "a61011cd",
   "metadata": {
    "ExecuteTime": {
     "end_time": "2021-06-29T13:35:16.728894Z",
     "start_time": "2021-06-29T13:35:16.663878Z"
    },
    "code_folding": [],
    "hidden": true
   },
   "outputs": [
    {
     "name": "stdout",
     "output_type": "stream",
     "text": [
      "(16,)\n",
      "1\n",
      "16\n"
     ]
    }
   ],
   "source": [
    "# 3. Verifique a dimensão, a quantidade de elementos e a forma desse array\n",
    "print(data.shape) # dimensão (tamanho)\n",
    "print(data.ndim) # o comprimento (1 dimensão)\n",
    "print(data.size) # quantidade elementos\n",
    "\n",
    "\n",
    "# ndim: determina o númerode dimensões de um array\n",
    "# len: determina o comprimento da 1 dimensão de um array\n",
    "# shape: informa as dimensões de um array"
   ]
  },
  {
   "cell_type": "code",
   "execution_count": 15,
   "id": "3a3c7d26",
   "metadata": {
    "ExecuteTime": {
     "end_time": "2021-06-29T13:41:09.302006Z",
     "start_time": "2021-06-29T13:41:09.275008Z"
    },
    "code_folding": [
     0
    ],
    "hidden": true
   },
   "outputs": [],
   "source": [
    "# QUESTION\n",
    "# Qual é a variável que tem que mexer\n",
    "# 4. Crie um novo array chamado data2, com 4x4 elementos, aplicando a função reshape no array data\n",
    "data2 = np.array([[1, 2, 3, 4],\n",
    "                [1, 2, 3, 4],\n",
    "                [1, 2, 3, 4],\n",
    "                [1, 2, 3, 4]])"
   ]
  },
  {
   "cell_type": "code",
   "execution_count": null,
   "id": "c171ed3c",
   "metadata": {
    "hidden": true
   },
   "outputs": [],
   "source": [
    "# 5. Verifique a dimensão, a quantidade de elementos e a forma desse array"
   ]
  },
  {
   "cell_type": "code",
   "execution_count": null,
   "id": "67388a05",
   "metadata": {
    "code_folding": [],
    "hidden": true
   },
   "outputs": [],
   "source": [
    "# 6. Crie um novo array chaamdo data_t, que seja a transposição do array data2"
   ]
  },
  {
   "cell_type": "code",
   "execution_count": null,
   "id": "d2ff8025",
   "metadata": {
    "hidden": true
   },
   "outputs": [],
   "source": [
    "# 7. Use a função np.flatten() e crie o aray data_flat"
   ]
  },
  {
   "cell_type": "code",
   "execution_count": null,
   "id": "c16a3153",
   "metadata": {
    "hidden": true
   },
   "outputs": [],
   "source": [
    "# 8. Compare o array data com o array data_flat"
   ]
  },
  {
   "cell_type": "markdown",
   "id": "ba4fb0fa",
   "metadata": {},
   "source": [
    "# Exercícios - operações com arrays"
   ]
  },
  {
   "cell_type": "code",
   "execution_count": 22,
   "id": "ea737e75",
   "metadata": {
    "ExecuteTime": {
     "end_time": "2021-06-29T13:51:02.374304Z",
     "start_time": "2021-06-29T13:51:02.290326Z"
    }
   },
   "outputs": [],
   "source": [
    "# 2. Crie 5 arrays a, b, c, d e e com as seguintes listas:\n",
    "    # a. [7]\n",
    "    # b. [[4, 6, 8], [3, 5, 7]]\n",
    "    # c. [3, 3, 3]\n",
    "    # d. [[3, 2, 1], [1, 2, 3]]\n",
    "    # e. [5, 10]\n",
    "data_a = np.array([7])\n",
    "data_b = np.array([[4, 6, 8],\n",
    "                  [3, 5, 7]])\n",
    "data_c =="
   ]
  },
  {
   "cell_type": "code",
   "execution_count": 16,
   "id": "483d2cf7",
   "metadata": {
    "ExecuteTime": {
     "end_time": "2021-06-29T13:47:23.869038Z",
     "start_time": "2021-06-29T13:47:23.860039Z"
    }
   },
   "outputs": [],
   "source": [
    "# 3. Faça as seguintes operações\n",
    "    # a. a * b\n",
    "    # b. d - b\n",
    "    # c. c + b\n",
    "    # d. c + e"
   ]
  },
  {
   "cell_type": "code",
   "execution_count": null,
   "id": "92740b9d",
   "metadata": {},
   "outputs": [],
   "source": [
    "# O que aconteceu no item d) do último execício? Explique"
   ]
  },
  {
   "cell_type": "markdown",
   "id": "12deff23",
   "metadata": {
    "heading_collapsed": true
   },
   "source": [
    "# Prática da manhã (9:00 ás 12:00)"
   ]
  },
  {
   "cell_type": "code",
   "execution_count": 23,
   "id": "7ac7efc9",
   "metadata": {
    "ExecuteTime": {
     "end_time": "2021-06-26T13:50:42.152148Z",
     "start_time": "2021-06-26T13:50:42.146149Z"
    },
    "hidden": true
   },
   "outputs": [],
   "source": [
    "import numpy as np"
   ]
  },
  {
   "cell_type": "code",
   "execution_count": 25,
   "id": "e04250ff",
   "metadata": {
    "ExecuteTime": {
     "end_time": "2021-06-26T13:51:27.595430Z",
     "start_time": "2021-06-26T13:51:27.585432Z"
    },
    "hidden": true
   },
   "outputs": [
    {
     "data": {
      "text/plain": [
       "array([9, 8, 7])"
      ]
     },
     "execution_count": 25,
     "metadata": {},
     "output_type": "execute_result"
    }
   ],
   "source": [
    "np.array([9, 8, 7]) #Uma dimensão"
   ]
  },
  {
   "cell_type": "code",
   "execution_count": 28,
   "id": "6fdb916d",
   "metadata": {
    "ExecuteTime": {
     "end_time": "2021-06-26T13:53:55.845041Z",
     "start_time": "2021-06-26T13:53:55.834042Z"
    },
    "hidden": true
   },
   "outputs": [
    {
     "data": {
      "text/plain": [
       "array([[  11,    2,   33],\n",
       "       [ 100,    2, 4000]])"
      ]
     },
     "execution_count": 28,
     "metadata": {},
     "output_type": "execute_result"
    }
   ],
   "source": [
    "np.array( [ [ 11, 2, 33 ], [ 100, 2, 4000 ] ] ) #Bidimensional"
   ]
  },
  {
   "cell_type": "code",
   "execution_count": 41,
   "id": "df6ab084",
   "metadata": {
    "ExecuteTime": {
     "end_time": "2021-06-26T14:02:24.272895Z",
     "start_time": "2021-06-26T14:02:24.142922Z"
    },
    "hidden": true
   },
   "outputs": [
    {
     "data": {
      "text/plain": [
       "<function numpy.array>"
      ]
     },
     "execution_count": 41,
     "metadata": {},
     "output_type": "execute_result"
    }
   ],
   "source": [
    "np.array( [ [ [ 22, 56, 38 ], [ 114, 489, 878 ], [ 1001, 1002, 11000] ] ] ) #Tridimensional"
   ]
  },
  {
   "cell_type": "code",
   "execution_count": 43,
   "id": "cd9764f1",
   "metadata": {
    "ExecuteTime": {
     "end_time": "2021-06-26T14:02:49.974854Z",
     "start_time": "2021-06-26T14:02:49.967857Z"
    },
    "hidden": true
   },
   "outputs": [],
   "source": [
    "one = np.ones([2, 2])"
   ]
  },
  {
   "cell_type": "code",
   "execution_count": 44,
   "id": "d3ac85b8",
   "metadata": {
    "ExecuteTime": {
     "end_time": "2021-06-26T14:03:12.633596Z",
     "start_time": "2021-06-26T14:03:12.622600Z"
    },
    "hidden": true
   },
   "outputs": [
    {
     "data": {
      "text/plain": [
       "array([[2, 0, 0, 0],\n",
       "       [0, 1, 0, 0],\n",
       "       [0, 0, 4, 0],\n",
       "       [0, 0, 0, 6]])"
      ]
     },
     "execution_count": 44,
     "metadata": {},
     "output_type": "execute_result"
    }
   ],
   "source": [
    "array9 = np.diag((2, 1, 4, 6)) ; array9 #matriz diagonal"
   ]
  },
  {
   "cell_type": "code",
   "execution_count": 56,
   "id": "ab041d63",
   "metadata": {
    "ExecuteTime": {
     "end_time": "2021-06-26T14:16:18.877376Z",
     "start_time": "2021-06-26T14:16:18.864377Z"
    },
    "hidden": true
   },
   "outputs": [
    {
     "data": {
      "text/plain": [
       "array([0.54340494, 0.27836939, 0.42451759, 0.84477613, 0.00471886])"
      ]
     },
     "execution_count": 56,
     "metadata": {},
     "output_type": "execute_result"
    }
   ],
   "source": [
    "np.random.seed(100)\n",
    "array10 = np.random.rand(5); array10"
   ]
  },
  {
   "cell_type": "code",
   "execution_count": 64,
   "id": "04a793e3",
   "metadata": {
    "ExecuteTime": {
     "end_time": "2021-06-26T14:16:59.526665Z",
     "start_time": "2021-06-26T14:16:59.515668Z"
    },
    "hidden": true
   },
   "outputs": [
    {
     "data": {
      "text/plain": [
       "array([ 1.15117366, -1.02933685, -0.51099219, -2.36027053,  0.10359513])"
      ]
     },
     "execution_count": 64,
     "metadata": {},
     "output_type": "execute_result"
    }
   ],
   "source": [
    "array11 = np.random.randn(5) ;array11"
   ]
  },
  {
   "cell_type": "code",
   "execution_count": 65,
   "id": "d85010b6",
   "metadata": {
    "ExecuteTime": {
     "end_time": "2021-06-26T14:26:15.161109Z",
     "start_time": "2021-06-26T14:26:15.151114Z"
    },
    "hidden": true
   },
   "outputs": [
    {
     "data": {
      "text/plain": [
       "array([[[0., 0.],\n",
       "        [0., 0.]],\n",
       "\n",
       "       [[0., 0.],\n",
       "        [0., 0.]]])"
      ]
     },
     "execution_count": 65,
     "metadata": {},
     "output_type": "execute_result"
    }
   ],
   "source": [
    "zeros = np.zeros([2, 2, 2])\n",
    "zeros"
   ]
  },
  {
   "cell_type": "code",
   "execution_count": 77,
   "id": "3ca28eb8",
   "metadata": {
    "ExecuteTime": {
     "end_time": "2021-06-26T14:30:01.295855Z",
     "start_time": "2021-06-26T14:30:01.285859Z"
    },
    "hidden": true
   },
   "outputs": [
    {
     "data": {
      "text/plain": [
       "array([  0,   5,  10,  15,  20,  25,  30,  35,  40,  45,  50,  55,  60,\n",
       "        65,  70,  75,  80,  85,  90,  95, 100, 105, 110, 115, 120, 125,\n",
       "       130, 135, 140, 145])"
      ]
     },
     "execution_count": 77,
     "metadata": {},
     "output_type": "execute_result"
    }
   ],
   "source": [
    "array19 = np.arange(0, 30) * 5\n",
    "array19"
   ]
  },
  {
   "cell_type": "code",
   "execution_count": 81,
   "id": "0ce58c08",
   "metadata": {
    "ExecuteTime": {
     "end_time": "2021-06-26T14:31:48.444415Z",
     "start_time": "2021-06-26T14:31:48.433416Z"
    },
    "hidden": true
   },
   "outputs": [
    {
     "data": {
      "text/plain": [
       "array([ 0,  1,  2,  3,  4,  5,  6,  7,  8,  9, 10, 11, 12, 13, 14, 15, 16,\n",
       "       17, 18, 19, 20])"
      ]
     },
     "execution_count": 81,
     "metadata": {},
     "output_type": "execute_result"
    }
   ],
   "source": [
    "data = np.arange(21) ; data"
   ]
  },
  {
   "cell_type": "code",
   "execution_count": 82,
   "id": "cd3a6474",
   "metadata": {
    "ExecuteTime": {
     "end_time": "2021-06-26T14:32:17.535599Z",
     "start_time": "2021-06-26T14:32:17.531600Z"
    },
    "code_folding": [],
    "hidden": true
   },
   "outputs": [],
   "source": [
    "# Fatiamento"
   ]
  },
  {
   "cell_type": "code",
   "execution_count": 83,
   "id": "6365171f",
   "metadata": {
    "ExecuteTime": {
     "end_time": "2021-06-26T14:32:31.251601Z",
     "start_time": "2021-06-26T14:32:31.241600Z"
    },
    "hidden": true
   },
   "outputs": [
    {
     "data": {
      "text/plain": [
       "array([10, 11, 12, 13, 14, 15])"
      ]
     },
     "execution_count": 83,
     "metadata": {},
     "output_type": "execute_result"
    }
   ],
   "source": [
    "data[10:16]"
   ]
  },
  {
   "cell_type": "code",
   "execution_count": 85,
   "id": "a3810522",
   "metadata": {
    "ExecuteTime": {
     "end_time": "2021-06-26T14:34:13.548596Z",
     "start_time": "2021-06-26T14:34:13.538596Z"
    },
    "hidden": true
   },
   "outputs": [
    {
     "data": {
      "text/plain": [
       "array([   0,    1,    2,    3,    4,    5,    6,    7,    8,    9, -101,\n",
       "       -101, -101, -101, -101, -101,   16,   17,   18,   19,   20])"
      ]
     },
     "execution_count": 85,
     "metadata": {},
     "output_type": "execute_result"
    }
   ],
   "source": [
    "data[10:16] = -101 ; data"
   ]
  },
  {
   "cell_type": "code",
   "execution_count": 87,
   "id": "dfeb23f1",
   "metadata": {
    "ExecuteTime": {
     "end_time": "2021-06-26T14:38:04.115596Z",
     "start_time": "2021-06-26T14:38:04.104600Z"
    },
    "hidden": true
   },
   "outputs": [
    {
     "data": {
      "text/plain": [
       "array([-101, -101, 2021, 2021, -101, -101,   16])"
      ]
     },
     "execution_count": 87,
     "metadata": {},
     "output_type": "execute_result"
    }
   ],
   "source": [
    "dat1 = data[10:17]\n",
    "dat1 [2:4] = 2021 ; dat1"
   ]
  },
  {
   "cell_type": "code",
   "execution_count": 89,
   "id": "44ba6ee8",
   "metadata": {
    "ExecuteTime": {
     "end_time": "2021-06-26T14:44:41.263350Z",
     "start_time": "2021-06-26T14:44:41.253352Z"
    },
    "hidden": true
   },
   "outputs": [
    {
     "data": {
      "text/plain": [
       "array([   7,    8,    9, -101, -101, 2021, 2021, -101, -101,   16,   17,\n",
       "         18,   19,   20])"
      ]
     },
     "execution_count": 89,
     "metadata": {},
     "output_type": "execute_result"
    }
   ],
   "source": [
    "data_2 = data[7:].copy() ;data_2"
   ]
  },
  {
   "cell_type": "code",
   "execution_count": 91,
   "id": "a0b2787b",
   "metadata": {
    "ExecuteTime": {
     "end_time": "2021-06-26T14:46:04.869251Z",
     "start_time": "2021-06-26T14:46:04.859256Z"
    },
    "hidden": true
   },
   "outputs": [
    {
     "data": {
      "text/plain": [
       "array([ 0,  1,  2,  3,  4,  5,  6,  7,  8,  9, 10, 11, 12, 13, 14, 15, 16,\n",
       "       17, 18, 19, 20, 21, 22, 23, 24, 25, 26, 27, 28, 29, 30, 31, 32, 33,\n",
       "       34, 35, 36, 37, 38, 39, 40, 41, 42, 43, 44, 45, 46, 47, 48, 49, 50,\n",
       "       51, 52, 53, 54, 55, 56, 57, 58, 59, 60, 61, 62, 63, 64, 65, 66, 67,\n",
       "       68, 69, 70, 71, 72, 73, 74, 75, 76, 77, 78, 79, 80, 81, 82, 83, 84,\n",
       "       85, 86, 87, 88, 89, 90, 91, 92, 93, 94, 95, 96, 97, 98, 99])"
      ]
     },
     "execution_count": 91,
     "metadata": {},
     "output_type": "execute_result"
    }
   ],
   "source": [
    "dados = np.arange(100) ; dados"
   ]
  },
  {
   "cell_type": "code",
   "execution_count": 92,
   "id": "278109dc",
   "metadata": {
    "ExecuteTime": {
     "end_time": "2021-06-26T14:46:58.592023Z",
     "start_time": "2021-06-26T14:46:58.562028Z"
    },
    "hidden": true
   },
   "outputs": [
    {
     "data": {
      "text/plain": [
       "array([94, 95, 96, 97, 98, 99])"
      ]
     },
     "execution_count": 92,
     "metadata": {},
     "output_type": "execute_result"
    }
   ],
   "source": [
    "dados[dados > 93]"
   ]
  },
  {
   "cell_type": "code",
   "execution_count": 94,
   "id": "917eb67a",
   "metadata": {
    "ExecuteTime": {
     "end_time": "2021-06-26T14:47:41.482859Z",
     "start_time": "2021-06-26T14:47:41.469864Z"
    },
    "hidden": true
   },
   "outputs": [
    {
     "data": {
      "text/plain": [
       "array([ 0,  1,  2,  3,  4,  5,  6,  7,  8,  9, 10, 11, 12, 13, 14, 15, 16,\n",
       "       17, 18, 19, 21, 22, 23, 24, 25, 26, 27, 28, 29, 30, 31, 32, 33, 34,\n",
       "       35, 36, 37, 38, 39, 40, 41, 42, 43, 44, 45, 46, 47, 48, 49, 50, 51,\n",
       "       52, 53, 54, 55, 56, 57, 58, 59, 60, 61, 62, 63, 64, 65, 66, 67, 68,\n",
       "       69, 70, 71, 72, 73, 74, 75, 76, 77, 78, 79, 80, 81, 82, 83, 84, 85,\n",
       "       86, 87, 88, 89, 90, 91, 92, 93, 94, 95, 96, 97, 98, 99])"
      ]
     },
     "execution_count": 94,
     "metadata": {},
     "output_type": "execute_result"
    }
   ],
   "source": [
    "dados [dados != 20]"
   ]
  },
  {
   "cell_type": "code",
   "execution_count": 102,
   "id": "a7879373",
   "metadata": {
    "ExecuteTime": {
     "end_time": "2021-06-26T14:52:04.031494Z",
     "start_time": "2021-06-26T14:52:04.021498Z"
    },
    "hidden": true
   },
   "outputs": [
    {
     "data": {
      "text/plain": [
       "array([ 0,  1,  2,  3,  4,  5,  6,  7,  8,  9, 11, 12, 13, 14, 15, 16, 17,\n",
       "       18, 19, 21, 22, 23, 24, 25, 26, 27, 28, 29, 31, 32, 33, 34, 35, 36,\n",
       "       37, 38, 39, 40, 41, 42, 43, 44, 45, 46, 47, 48, 49, 50, 51, 52, 53,\n",
       "       54, 55, 56, 57, 58, 59, 60, 61, 62, 63, 64, 65, 66, 67, 68, 69, 70,\n",
       "       71, 72, 73, 74, 75, 76, 77, 78, 79, 80, 81, 82, 83, 84, 85, 86, 87,\n",
       "       88, 89, 90, 91, 92, 93, 94, 95, 96, 97, 98, 99])"
      ]
     },
     "execution_count": 102,
     "metadata": {},
     "output_type": "execute_result"
    }
   ],
   "source": [
    "dados_2 = dados[ ( dados != 10 ) & ( dados != 20 ) & ( dados != 30 ) ] ; dados_2"
   ]
  },
  {
   "cell_type": "code",
   "execution_count": 107,
   "id": "31de3c6f",
   "metadata": {
    "ExecuteTime": {
     "end_time": "2021-06-26T14:57:44.929206Z",
     "start_time": "2021-06-26T14:57:44.920206Z"
    },
    "hidden": true
   },
   "outputs": [
    {
     "data": {
      "text/plain": [
       "(97,)"
      ]
     },
     "execution_count": 107,
     "metadata": {},
     "output_type": "execute_result"
    }
   ],
   "source": [
    "dados_2.shape"
   ]
  },
  {
   "cell_type": "markdown",
   "id": "5afc8447",
   "metadata": {
    "ExecuteTime": {
     "end_time": "2021-06-26T17:36:41.221593Z",
     "start_time": "2021-06-26T17:36:40.649549Z"
    },
    "heading_collapsed": true
   },
   "source": [
    "# Prática 13:00 ás 18:00"
   ]
  },
  {
   "cell_type": "code",
   "execution_count": null,
   "id": "90fb40de",
   "metadata": {
    "ExecuteTime": {
     "end_time": "2021-06-26T18:10:14.428575Z",
     "start_time": "2021-06-26T18:10:13.649Z"
    },
    "hidden": true,
    "hide_input": false
   },
   "outputs": [],
   "source": [
    "# Importando bibliotecas\n",
    "import pandas as pd\n",
    "import seaborn as sns\n",
    "%matplotlib inline"
   ]
  },
  {
   "cell_type": "code",
   "execution_count": 114,
   "id": "ffbad0b6",
   "metadata": {
    "ExecuteTime": {
     "end_time": "2021-06-26T18:24:56.971958Z",
     "start_time": "2021-06-26T18:24:56.617043Z"
    },
    "collapsed": true,
    "hidden": true
   },
   "outputs": [
    {
     "data": {
      "text/html": [
       "<div>\n",
       "<style scoped>\n",
       "    .dataframe tbody tr th:only-of-type {\n",
       "        vertical-align: middle;\n",
       "    }\n",
       "\n",
       "    .dataframe tbody tr th {\n",
       "        vertical-align: top;\n",
       "    }\n",
       "\n",
       "    .dataframe thead th {\n",
       "        text-align: right;\n",
       "    }\n",
       "</style>\n",
       "<table border=\"1\" class=\"dataframe\">\n",
       "  <thead>\n",
       "    <tr style=\"text-align: right;\">\n",
       "      <th></th>\n",
       "      <th>regiao</th>\n",
       "      <th>estado</th>\n",
       "      <th>municipio</th>\n",
       "      <th>codigo_mun</th>\n",
       "      <th>capital</th>\n",
       "      <th>porte</th>\n",
       "      <th>populacao</th>\n",
       "      <th>area</th>\n",
       "      <th>densidade_dem</th>\n",
       "      <th>pib</th>\n",
       "      <th>...</th>\n",
       "      <th>gasto_pc_educacao</th>\n",
       "      <th>exp_anos_estudo</th>\n",
       "      <th>nota_ciencias</th>\n",
       "      <th>nota_humanas</th>\n",
       "      <th>nota_linguagem</th>\n",
       "      <th>nota_mat</th>\n",
       "      <th>nota_redacao</th>\n",
       "      <th>idhm</th>\n",
       "      <th>ranking_igm</th>\n",
       "      <th>indice_governanca</th>\n",
       "    </tr>\n",
       "  </thead>\n",
       "  <tbody>\n",
       "    <tr>\n",
       "      <th>0</th>\n",
       "      <td>SUDESTE</td>\n",
       "      <td>SP</td>\n",
       "      <td>ILHABELA</td>\n",
       "      <td>3520400</td>\n",
       "      <td>0</td>\n",
       "      <td>Pequeno porte 2</td>\n",
       "      <td>32,782</td>\n",
       "      <td>347.52</td>\n",
       "      <td>81.1</td>\n",
       "      <td>3.256712e+06</td>\n",
       "      <td>...</td>\n",
       "      <td>1734.52</td>\n",
       "      <td>10.63</td>\n",
       "      <td>482.054348</td>\n",
       "      <td>541.226087</td>\n",
       "      <td>530.651111</td>\n",
       "      <td>507.952778</td>\n",
       "      <td>499.361111</td>\n",
       "      <td>0.747</td>\n",
       "      <td>1º</td>\n",
       "      <td>0.767</td>\n",
       "    </tr>\n",
       "    <tr>\n",
       "      <th>1</th>\n",
       "      <td>SUDESTE</td>\n",
       "      <td>SP</td>\n",
       "      <td>SANTANA DE PARNAIBA</td>\n",
       "      <td>3547304</td>\n",
       "      <td>0</td>\n",
       "      <td>Grande porte</td>\n",
       "      <td>129,261</td>\n",
       "      <td>179.95</td>\n",
       "      <td>604.7</td>\n",
       "      <td>7.373603e+06</td>\n",
       "      <td>...</td>\n",
       "      <td>1704.93</td>\n",
       "      <td>10.01</td>\n",
       "      <td>483.997625</td>\n",
       "      <td>542.760422</td>\n",
       "      <td>535.765129</td>\n",
       "      <td>499.911091</td>\n",
       "      <td>547.506655</td>\n",
       "      <td>0.885</td>\n",
       "      <td>2º</td>\n",
       "      <td>0.759</td>\n",
       "    </tr>\n",
       "    <tr>\n",
       "      <th>2</th>\n",
       "      <td>SUL</td>\n",
       "      <td>SC</td>\n",
       "      <td>BOMBINHAS</td>\n",
       "      <td>4202453</td>\n",
       "      <td>0</td>\n",
       "      <td>Pequeno porte 1</td>\n",
       "      <td>18,052</td>\n",
       "      <td>35.92</td>\n",
       "      <td>398</td>\n",
       "      <td>3.773573e+05</td>\n",
       "      <td>...</td>\n",
       "      <td>1370.96</td>\n",
       "      <td>10.44</td>\n",
       "      <td>472.105607</td>\n",
       "      <td>541.949533</td>\n",
       "      <td>523.251923</td>\n",
       "      <td>474.506731</td>\n",
       "      <td>515.000000</td>\n",
       "      <td>0.807</td>\n",
       "      <td>3º</td>\n",
       "      <td>0.758</td>\n",
       "    </tr>\n",
       "    <tr>\n",
       "      <th>3</th>\n",
       "      <td>SUDESTE</td>\n",
       "      <td>SP</td>\n",
       "      <td>SAO BERNARDO DO CAMPO</td>\n",
       "      <td>3548708</td>\n",
       "      <td>0</td>\n",
       "      <td>Grande porte</td>\n",
       "      <td>822,242</td>\n",
       "      <td>409.53</td>\n",
       "      <td>1,869.40</td>\n",
       "      <td>4.766853e+07</td>\n",
       "      <td>...</td>\n",
       "      <td>770.79</td>\n",
       "      <td>10.22</td>\n",
       "      <td>489.241514</td>\n",
       "      <td>552.616190</td>\n",
       "      <td>546.173721</td>\n",
       "      <td>514.204358</td>\n",
       "      <td>557.668055</td>\n",
       "      <td>0.864</td>\n",
       "      <td>4º</td>\n",
       "      <td>0.756</td>\n",
       "    </tr>\n",
       "    <tr>\n",
       "      <th>4</th>\n",
       "      <td>CENTRO-OESTE</td>\n",
       "      <td>DF</td>\n",
       "      <td>BRASILIA</td>\n",
       "      <td>5300108</td>\n",
       "      <td>1</td>\n",
       "      <td>Grande porte</td>\n",
       "      <td>2,977,216</td>\n",
       "      <td>5,780.00</td>\n",
       "      <td>444.7</td>\n",
       "      <td>1.753628e+08</td>\n",
       "      <td>...</td>\n",
       "      <td>2077.49</td>\n",
       "      <td>9.87</td>\n",
       "      <td>493.514758</td>\n",
       "      <td>551.982498</td>\n",
       "      <td>538.366612</td>\n",
       "      <td>509.206006</td>\n",
       "      <td>567.991533</td>\n",
       "      <td>0.909</td>\n",
       "      <td>5º</td>\n",
       "      <td>0.736</td>\n",
       "    </tr>\n",
       "    <tr>\n",
       "      <th>...</th>\n",
       "      <td>...</td>\n",
       "      <td>...</td>\n",
       "      <td>...</td>\n",
       "      <td>...</td>\n",
       "      <td>...</td>\n",
       "      <td>...</td>\n",
       "      <td>...</td>\n",
       "      <td>...</td>\n",
       "      <td>...</td>\n",
       "      <td>...</td>\n",
       "      <td>...</td>\n",
       "      <td>...</td>\n",
       "      <td>...</td>\n",
       "      <td>...</td>\n",
       "      <td>...</td>\n",
       "      <td>...</td>\n",
       "      <td>...</td>\n",
       "      <td>...</td>\n",
       "      <td>...</td>\n",
       "      <td>...</td>\n",
       "      <td>...</td>\n",
       "    </tr>\n",
       "    <tr>\n",
       "      <th>5565</th>\n",
       "      <td>NORTE</td>\n",
       "      <td>TO</td>\n",
       "      <td>RIO DOS BOIS</td>\n",
       "      <td>1718709</td>\n",
       "      <td>0</td>\n",
       "      <td>Pequeno porte 1</td>\n",
       "      <td>2,787</td>\n",
       "      <td>845.07</td>\n",
       "      <td>3</td>\n",
       "      <td>2.713671e+04</td>\n",
       "      <td>...</td>\n",
       "      <td>NaN</td>\n",
       "      <td>9.26</td>\n",
       "      <td>450.613333</td>\n",
       "      <td>457.100000</td>\n",
       "      <td>473.128571</td>\n",
       "      <td>458.921429</td>\n",
       "      <td>494.285714</td>\n",
       "      <td>0.413</td>\n",
       "      <td>NaN</td>\n",
       "      <td>NaN</td>\n",
       "    </tr>\n",
       "    <tr>\n",
       "      <th>5566</th>\n",
       "      <td>NORTE</td>\n",
       "      <td>TO</td>\n",
       "      <td>AXIXA DO TOCANTINS</td>\n",
       "      <td>1702901</td>\n",
       "      <td>0</td>\n",
       "      <td>Pequeno porte 1</td>\n",
       "      <td>9,741</td>\n",
       "      <td>150.21</td>\n",
       "      <td>61.8</td>\n",
       "      <td>8.020545e+04</td>\n",
       "      <td>...</td>\n",
       "      <td>NaN</td>\n",
       "      <td>10.11</td>\n",
       "      <td>437.360241</td>\n",
       "      <td>470.187952</td>\n",
       "      <td>463.166667</td>\n",
       "      <td>442.091358</td>\n",
       "      <td>444.197531</td>\n",
       "      <td>0.439</td>\n",
       "      <td>NaN</td>\n",
       "      <td>NaN</td>\n",
       "    </tr>\n",
       "    <tr>\n",
       "      <th>5567</th>\n",
       "      <td>NORTE</td>\n",
       "      <td>TO</td>\n",
       "      <td>FILADELFIA</td>\n",
       "      <td>1707702</td>\n",
       "      <td>0</td>\n",
       "      <td>Pequeno porte 1</td>\n",
       "      <td>8,871</td>\n",
       "      <td>1,988.08</td>\n",
       "      <td>4.3</td>\n",
       "      <td>7.850072e+04</td>\n",
       "      <td>...</td>\n",
       "      <td>NaN</td>\n",
       "      <td>9.38</td>\n",
       "      <td>431.231707</td>\n",
       "      <td>456.075610</td>\n",
       "      <td>453.890244</td>\n",
       "      <td>426.578049</td>\n",
       "      <td>399.024390</td>\n",
       "      <td>0.425</td>\n",
       "      <td>NaN</td>\n",
       "      <td>NaN</td>\n",
       "    </tr>\n",
       "    <tr>\n",
       "      <th>5568</th>\n",
       "      <td>NORTE</td>\n",
       "      <td>TO</td>\n",
       "      <td>PONTE ALTA DO TOCANTINS</td>\n",
       "      <td>1717909</td>\n",
       "      <td>0</td>\n",
       "      <td>Pequeno porte 1</td>\n",
       "      <td>7,872</td>\n",
       "      <td>6,491.13</td>\n",
       "      <td>1.1</td>\n",
       "      <td>5.914757e+04</td>\n",
       "      <td>...</td>\n",
       "      <td>NaN</td>\n",
       "      <td>9.07</td>\n",
       "      <td>443.876923</td>\n",
       "      <td>480.917308</td>\n",
       "      <td>465.538462</td>\n",
       "      <td>437.482692</td>\n",
       "      <td>441.153846</td>\n",
       "      <td>0.432</td>\n",
       "      <td>NaN</td>\n",
       "      <td>NaN</td>\n",
       "    </tr>\n",
       "    <tr>\n",
       "      <th>5569</th>\n",
       "      <td>NORTE</td>\n",
       "      <td>TO</td>\n",
       "      <td>SILVANOPOLIS</td>\n",
       "      <td>1720655</td>\n",
       "      <td>0</td>\n",
       "      <td>Pequeno porte 1</td>\n",
       "      <td>5,372</td>\n",
       "      <td>1,258.83</td>\n",
       "      <td>4</td>\n",
       "      <td>7.773486e+04</td>\n",
       "      <td>...</td>\n",
       "      <td>NaN</td>\n",
       "      <td>10.36</td>\n",
       "      <td>433.378571</td>\n",
       "      <td>459.132143</td>\n",
       "      <td>469.714286</td>\n",
       "      <td>407.050000</td>\n",
       "      <td>452.857143</td>\n",
       "      <td>NaN</td>\n",
       "      <td>NaN</td>\n",
       "      <td>NaN</td>\n",
       "    </tr>\n",
       "  </tbody>\n",
       "</table>\n",
       "<p>5570 rows × 32 columns</p>\n",
       "</div>"
      ],
      "text/plain": [
       "            regiao estado                municipio  codigo_mun  capital  \\\n",
       "0          SUDESTE     SP                 ILHABELA     3520400        0   \n",
       "1          SUDESTE     SP      SANTANA DE PARNAIBA     3547304        0   \n",
       "2              SUL     SC                BOMBINHAS     4202453        0   \n",
       "3          SUDESTE     SP    SAO BERNARDO DO CAMPO     3548708        0   \n",
       "4     CENTRO-OESTE     DF                 BRASILIA     5300108        1   \n",
       "...            ...    ...                      ...         ...      ...   \n",
       "5565         NORTE     TO             RIO DOS BOIS     1718709        0   \n",
       "5566         NORTE     TO       AXIXA DO TOCANTINS     1702901        0   \n",
       "5567         NORTE     TO               FILADELFIA     1707702        0   \n",
       "5568         NORTE     TO  PONTE ALTA DO TOCANTINS     1717909        0   \n",
       "5569         NORTE     TO             SILVANOPOLIS     1720655        0   \n",
       "\n",
       "                porte  populacao      area densidade_dem           pib  ...  \\\n",
       "0     Pequeno porte 2     32,782    347.52          81.1  3.256712e+06  ...   \n",
       "1        Grande porte    129,261    179.95         604.7  7.373603e+06  ...   \n",
       "2     Pequeno porte 1     18,052     35.92           398  3.773573e+05  ...   \n",
       "3        Grande porte    822,242    409.53      1,869.40  4.766853e+07  ...   \n",
       "4        Grande porte  2,977,216  5,780.00         444.7  1.753628e+08  ...   \n",
       "...               ...        ...       ...           ...           ...  ...   \n",
       "5565  Pequeno porte 1      2,787    845.07             3  2.713671e+04  ...   \n",
       "5566  Pequeno porte 1      9,741    150.21          61.8  8.020545e+04  ...   \n",
       "5567  Pequeno porte 1      8,871  1,988.08           4.3  7.850072e+04  ...   \n",
       "5568  Pequeno porte 1      7,872  6,491.13           1.1  5.914757e+04  ...   \n",
       "5569  Pequeno porte 1      5,372  1,258.83             4  7.773486e+04  ...   \n",
       "\n",
       "      gasto_pc_educacao  exp_anos_estudo  nota_ciencias  nota_humanas  \\\n",
       "0               1734.52            10.63     482.054348    541.226087   \n",
       "1               1704.93            10.01     483.997625    542.760422   \n",
       "2               1370.96            10.44     472.105607    541.949533   \n",
       "3                770.79            10.22     489.241514    552.616190   \n",
       "4               2077.49             9.87     493.514758    551.982498   \n",
       "...                 ...              ...            ...           ...   \n",
       "5565                NaN             9.26     450.613333    457.100000   \n",
       "5566                NaN            10.11     437.360241    470.187952   \n",
       "5567                NaN             9.38     431.231707    456.075610   \n",
       "5568                NaN             9.07     443.876923    480.917308   \n",
       "5569                NaN            10.36     433.378571    459.132143   \n",
       "\n",
       "     nota_linguagem    nota_mat  nota_redacao   idhm  ranking_igm  \\\n",
       "0        530.651111  507.952778    499.361111  0.747           1º   \n",
       "1        535.765129  499.911091    547.506655  0.885           2º   \n",
       "2        523.251923  474.506731    515.000000  0.807           3º   \n",
       "3        546.173721  514.204358    557.668055  0.864           4º   \n",
       "4        538.366612  509.206006    567.991533  0.909           5º   \n",
       "...             ...         ...           ...    ...          ...   \n",
       "5565     473.128571  458.921429    494.285714  0.413          NaN   \n",
       "5566     463.166667  442.091358    444.197531  0.439          NaN   \n",
       "5567     453.890244  426.578049    399.024390  0.425          NaN   \n",
       "5568     465.538462  437.482692    441.153846  0.432          NaN   \n",
       "5569     469.714286  407.050000    452.857143    NaN          NaN   \n",
       "\n",
       "      indice_governanca  \n",
       "0                 0.767  \n",
       "1                 0.759  \n",
       "2                 0.758  \n",
       "3                 0.756  \n",
       "4                 0.736  \n",
       "...                 ...  \n",
       "5565                NaN  \n",
       "5566                NaN  \n",
       "5567                NaN  \n",
       "5568                NaN  \n",
       "5569                NaN  \n",
       "\n",
       "[5570 rows x 32 columns]"
      ]
     },
     "execution_count": 114,
     "metadata": {},
     "output_type": "execute_result"
    }
   ],
   "source": [
    "# Nosso Dataset: IGM - Indice Governança Municipal.\n",
    "df = pd.read_csv('igm_modificado.csv')\n",
    "df"
   ]
  },
  {
   "cell_type": "code",
   "execution_count": 117,
   "id": "62235cea",
   "metadata": {
    "ExecuteTime": {
     "end_time": "2021-06-26T18:41:44.201602Z",
     "start_time": "2021-06-26T18:41:44.038642Z"
    },
    "collapsed": true,
    "hidden": true
   },
   "outputs": [
    {
     "data": {
      "text/html": [
       "<div>\n",
       "<style scoped>\n",
       "    .dataframe tbody tr th:only-of-type {\n",
       "        vertical-align: middle;\n",
       "    }\n",
       "\n",
       "    .dataframe tbody tr th {\n",
       "        vertical-align: top;\n",
       "    }\n",
       "\n",
       "    .dataframe thead th {\n",
       "        text-align: right;\n",
       "    }\n",
       "</style>\n",
       "<table border=\"1\" class=\"dataframe\">\n",
       "  <thead>\n",
       "    <tr style=\"text-align: right;\">\n",
       "      <th></th>\n",
       "      <th>regiao</th>\n",
       "      <th>estado</th>\n",
       "      <th>municipio</th>\n",
       "      <th>codigo_mun</th>\n",
       "      <th>capital</th>\n",
       "      <th>porte</th>\n",
       "      <th>populacao</th>\n",
       "      <th>area</th>\n",
       "      <th>densidade_dem</th>\n",
       "      <th>pib</th>\n",
       "      <th>...</th>\n",
       "      <th>gasto_pc_educacao</th>\n",
       "      <th>exp_anos_estudo</th>\n",
       "      <th>nota_ciencias</th>\n",
       "      <th>nota_humanas</th>\n",
       "      <th>nota_linguagem</th>\n",
       "      <th>nota_mat</th>\n",
       "      <th>nota_redacao</th>\n",
       "      <th>idhm</th>\n",
       "      <th>ranking_igm</th>\n",
       "      <th>indice_governanca</th>\n",
       "    </tr>\n",
       "  </thead>\n",
       "  <tbody>\n",
       "    <tr>\n",
       "      <th>1579</th>\n",
       "      <td>NORDESTE</td>\n",
       "      <td>PE</td>\n",
       "      <td>OLINDA</td>\n",
       "      <td>2609600</td>\n",
       "      <td>0</td>\n",
       "      <td>Grande porte</td>\n",
       "      <td>390,144</td>\n",
       "      <td>41.68</td>\n",
       "      <td>9,063.60</td>\n",
       "      <td>4816490.56</td>\n",
       "      <td>...</td>\n",
       "      <td>255.98</td>\n",
       "      <td>9.63</td>\n",
       "      <td>484.606281</td>\n",
       "      <td>535.848412</td>\n",
       "      <td>520.382882</td>\n",
       "      <td>485.230635</td>\n",
       "      <td>547.731812</td>\n",
       "      <td>0.697</td>\n",
       "      <td>1580º</td>\n",
       "      <td>0.511</td>\n",
       "    </tr>\n",
       "    <tr>\n",
       "      <th>2987</th>\n",
       "      <td>NORDESTE</td>\n",
       "      <td>MA</td>\n",
       "      <td>SITIO NOVO</td>\n",
       "      <td>2111805</td>\n",
       "      <td>0</td>\n",
       "      <td>Pequeno porte 1</td>\n",
       "      <td>17,760</td>\n",
       "      <td>3,114.87</td>\n",
       "      <td>5.5</td>\n",
       "      <td>91041.18</td>\n",
       "      <td>...</td>\n",
       "      <td>1013.62</td>\n",
       "      <td>7.92</td>\n",
       "      <td>442.042105</td>\n",
       "      <td>469.512281</td>\n",
       "      <td>462.034821</td>\n",
       "      <td>436.248214</td>\n",
       "      <td>428.392857</td>\n",
       "      <td>0.289</td>\n",
       "      <td>2988º</td>\n",
       "      <td>0.388</td>\n",
       "    </tr>\n",
       "    <tr>\n",
       "      <th>5180</th>\n",
       "      <td>SUL</td>\n",
       "      <td>RS</td>\n",
       "      <td>CANUDOS DO VALE</td>\n",
       "      <td>4304614</td>\n",
       "      <td>0</td>\n",
       "      <td>Pequeno porte 1</td>\n",
       "      <td>1,823</td>\n",
       "      <td>81.82</td>\n",
       "      <td>22.1</td>\n",
       "      <td>36129.40</td>\n",
       "      <td>...</td>\n",
       "      <td>1287.98</td>\n",
       "      <td>11.08</td>\n",
       "      <td>472.133333</td>\n",
       "      <td>561.783333</td>\n",
       "      <td>518.633333</td>\n",
       "      <td>525.966667</td>\n",
       "      <td>466.666667</td>\n",
       "      <td>0.644</td>\n",
       "      <td>NaN</td>\n",
       "      <td>NaN</td>\n",
       "    </tr>\n",
       "    <tr>\n",
       "      <th>1859</th>\n",
       "      <td>SUDESTE</td>\n",
       "      <td>MG</td>\n",
       "      <td>ITUTINGA</td>\n",
       "      <td>3134509</td>\n",
       "      <td>0</td>\n",
       "      <td>Pequeno porte 1</td>\n",
       "      <td>3,938</td>\n",
       "      <td>372.02</td>\n",
       "      <td>10.5</td>\n",
       "      <td>76189.02</td>\n",
       "      <td>...</td>\n",
       "      <td>732.78</td>\n",
       "      <td>10.26</td>\n",
       "      <td>456.900000</td>\n",
       "      <td>527.609091</td>\n",
       "      <td>511.677273</td>\n",
       "      <td>493.627273</td>\n",
       "      <td>506.363636</td>\n",
       "      <td>0.678</td>\n",
       "      <td>1860º</td>\n",
       "      <td>0.488</td>\n",
       "    </tr>\n",
       "    <tr>\n",
       "      <th>3492</th>\n",
       "      <td>SUDESTE</td>\n",
       "      <td>SP</td>\n",
       "      <td>PORTO FERREIRA</td>\n",
       "      <td>3540705</td>\n",
       "      <td>0</td>\n",
       "      <td>Médio porte</td>\n",
       "      <td>55,100</td>\n",
       "      <td>244.91</td>\n",
       "      <td>209.9</td>\n",
       "      <td>1456552.63</td>\n",
       "      <td>...</td>\n",
       "      <td>743.26</td>\n",
       "      <td>9.64</td>\n",
       "      <td>496.206885</td>\n",
       "      <td>550.295410</td>\n",
       "      <td>541.708667</td>\n",
       "      <td>525.485333</td>\n",
       "      <td>585.533333</td>\n",
       "      <td>0.735</td>\n",
       "      <td>NaN</td>\n",
       "      <td>NaN</td>\n",
       "    </tr>\n",
       "  </tbody>\n",
       "</table>\n",
       "<p>5 rows × 32 columns</p>\n",
       "</div>"
      ],
      "text/plain": [
       "        regiao estado        municipio  codigo_mun  capital            porte  \\\n",
       "1579  NORDESTE     PE           OLINDA     2609600        0     Grande porte   \n",
       "2987  NORDESTE     MA       SITIO NOVO     2111805        0  Pequeno porte 1   \n",
       "5180       SUL     RS  CANUDOS DO VALE     4304614        0  Pequeno porte 1   \n",
       "1859   SUDESTE     MG         ITUTINGA     3134509        0  Pequeno porte 1   \n",
       "3492   SUDESTE     SP   PORTO FERREIRA     3540705        0      Médio porte   \n",
       "\n",
       "     populacao      area densidade_dem         pib  ...  gasto_pc_educacao  \\\n",
       "1579   390,144     41.68      9,063.60  4816490.56  ...             255.98   \n",
       "2987    17,760  3,114.87           5.5    91041.18  ...            1013.62   \n",
       "5180     1,823     81.82          22.1    36129.40  ...            1287.98   \n",
       "1859     3,938    372.02          10.5    76189.02  ...             732.78   \n",
       "3492    55,100    244.91         209.9  1456552.63  ...             743.26   \n",
       "\n",
       "      exp_anos_estudo  nota_ciencias  nota_humanas nota_linguagem    nota_mat  \\\n",
       "1579             9.63     484.606281    535.848412     520.382882  485.230635   \n",
       "2987             7.92     442.042105    469.512281     462.034821  436.248214   \n",
       "5180            11.08     472.133333    561.783333     518.633333  525.966667   \n",
       "1859            10.26     456.900000    527.609091     511.677273  493.627273   \n",
       "3492             9.64     496.206885    550.295410     541.708667  525.485333   \n",
       "\n",
       "      nota_redacao   idhm  ranking_igm  indice_governanca  \n",
       "1579    547.731812  0.697        1580º              0.511  \n",
       "2987    428.392857  0.289        2988º              0.388  \n",
       "5180    466.666667  0.644          NaN                NaN  \n",
       "1859    506.363636  0.678        1860º              0.488  \n",
       "3492    585.533333  0.735          NaN                NaN  \n",
       "\n",
       "[5 rows x 32 columns]"
      ]
     },
     "execution_count": 117,
     "metadata": {},
     "output_type": "execute_result"
    }
   ],
   "source": [
    "# pegamos 5 exemplos aleatórios\n",
    "df.sample(5)"
   ]
  },
  {
   "cell_type": "code",
   "execution_count": 122,
   "id": "8fa9d198",
   "metadata": {
    "ExecuteTime": {
     "end_time": "2021-06-26T18:50:13.120790Z",
     "start_time": "2021-06-26T18:50:13.104808Z"
    },
    "collapsed": true,
    "hidden": true
   },
   "outputs": [
    {
     "data": {
      "text/plain": [
       "0       Pequeno porte 2\n",
       "1          Grande porte\n",
       "2       Pequeno porte 1\n",
       "3          Grande porte\n",
       "4          Grande porte\n",
       "             ...       \n",
       "5565    Pequeno porte 1\n",
       "5566    Pequeno porte 1\n",
       "5567    Pequeno porte 1\n",
       "5568    Pequeno porte 1\n",
       "5569    Pequeno porte 1\n",
       "Name: porte, Length: 5570, dtype: object"
      ]
     },
     "execution_count": 122,
     "metadata": {},
     "output_type": "execute_result"
    }
   ],
   "source": [
    "df['porte']"
   ]
  },
  {
   "cell_type": "code",
   "execution_count": 124,
   "id": "600b8aab",
   "metadata": {
    "ExecuteTime": {
     "end_time": "2021-06-26T18:50:40.332046Z",
     "start_time": "2021-06-26T18:50:40.280058Z"
    },
    "hidden": true
   },
   "outputs": [
    {
     "data": {
      "text/html": [
       "<div>\n",
       "<style scoped>\n",
       "    .dataframe tbody tr th:only-of-type {\n",
       "        vertical-align: middle;\n",
       "    }\n",
       "\n",
       "    .dataframe tbody tr th {\n",
       "        vertical-align: top;\n",
       "    }\n",
       "\n",
       "    .dataframe thead th {\n",
       "        text-align: right;\n",
       "    }\n",
       "</style>\n",
       "<table border=\"1\" class=\"dataframe\">\n",
       "  <thead>\n",
       "    <tr style=\"text-align: right;\">\n",
       "      <th></th>\n",
       "      <th>municipio</th>\n",
       "      <th>indice_governanca</th>\n",
       "    </tr>\n",
       "  </thead>\n",
       "  <tbody>\n",
       "    <tr>\n",
       "      <th>0</th>\n",
       "      <td>ILHABELA</td>\n",
       "      <td>0.767</td>\n",
       "    </tr>\n",
       "    <tr>\n",
       "      <th>1</th>\n",
       "      <td>SANTANA DE PARNAIBA</td>\n",
       "      <td>0.759</td>\n",
       "    </tr>\n",
       "    <tr>\n",
       "      <th>2</th>\n",
       "      <td>BOMBINHAS</td>\n",
       "      <td>0.758</td>\n",
       "    </tr>\n",
       "    <tr>\n",
       "      <th>3</th>\n",
       "      <td>SAO BERNARDO DO CAMPO</td>\n",
       "      <td>0.756</td>\n",
       "    </tr>\n",
       "    <tr>\n",
       "      <th>4</th>\n",
       "      <td>BRASILIA</td>\n",
       "      <td>0.736</td>\n",
       "    </tr>\n",
       "    <tr>\n",
       "      <th>...</th>\n",
       "      <td>...</td>\n",
       "      <td>...</td>\n",
       "    </tr>\n",
       "    <tr>\n",
       "      <th>5565</th>\n",
       "      <td>RIO DOS BOIS</td>\n",
       "      <td>NaN</td>\n",
       "    </tr>\n",
       "    <tr>\n",
       "      <th>5566</th>\n",
       "      <td>AXIXA DO TOCANTINS</td>\n",
       "      <td>NaN</td>\n",
       "    </tr>\n",
       "    <tr>\n",
       "      <th>5567</th>\n",
       "      <td>FILADELFIA</td>\n",
       "      <td>NaN</td>\n",
       "    </tr>\n",
       "    <tr>\n",
       "      <th>5568</th>\n",
       "      <td>PONTE ALTA DO TOCANTINS</td>\n",
       "      <td>NaN</td>\n",
       "    </tr>\n",
       "    <tr>\n",
       "      <th>5569</th>\n",
       "      <td>SILVANOPOLIS</td>\n",
       "      <td>NaN</td>\n",
       "    </tr>\n",
       "  </tbody>\n",
       "</table>\n",
       "<p>5570 rows × 2 columns</p>\n",
       "</div>"
      ],
      "text/plain": [
       "                    municipio  indice_governanca\n",
       "0                    ILHABELA              0.767\n",
       "1         SANTANA DE PARNAIBA              0.759\n",
       "2                   BOMBINHAS              0.758\n",
       "3       SAO BERNARDO DO CAMPO              0.756\n",
       "4                    BRASILIA              0.736\n",
       "...                       ...                ...\n",
       "5565             RIO DOS BOIS                NaN\n",
       "5566       AXIXA DO TOCANTINS                NaN\n",
       "5567               FILADELFIA                NaN\n",
       "5568  PONTE ALTA DO TOCANTINS                NaN\n",
       "5569             SILVANOPOLIS                NaN\n",
       "\n",
       "[5570 rows x 2 columns]"
      ]
     },
     "execution_count": 124,
     "metadata": {},
     "output_type": "execute_result"
    }
   ],
   "source": [
    "df[['municipio', 'indice_governanca']]"
   ]
  },
  {
   "cell_type": "code",
   "execution_count": 126,
   "id": "ca32e902",
   "metadata": {
    "ExecuteTime": {
     "end_time": "2021-06-26T18:51:23.423661Z",
     "start_time": "2021-06-26T18:51:23.412663Z"
    },
    "hidden": true
   },
   "outputs": [
    {
     "data": {
      "text/plain": [
       "pandas.core.series.Series"
      ]
     },
     "execution_count": 126,
     "metadata": {},
     "output_type": "execute_result"
    }
   ],
   "source": [
    "type(df['porte'])"
   ]
  },
  {
   "cell_type": "code",
   "execution_count": 132,
   "id": "b5d89f81",
   "metadata": {
    "ExecuteTime": {
     "end_time": "2021-06-26T18:53:52.033737Z",
     "start_time": "2021-06-26T18:53:51.874774Z"
    },
    "hidden": true
   },
   "outputs": [
    {
     "data": {
      "text/plain": [
       "Pequeno porte 1    3810\n",
       "Pequeno porte 2    1101\n",
       "Médio porte         350\n",
       "Grande porte        309\n",
       "Name: porte, dtype: int64"
      ]
     },
     "execution_count": 132,
     "metadata": {},
     "output_type": "execute_result"
    }
   ],
   "source": [
    "df['porte'].value_counts()"
   ]
  },
  {
   "cell_type": "code",
   "execution_count": 134,
   "id": "c75f8f1a",
   "metadata": {
    "ExecuteTime": {
     "end_time": "2021-06-26T18:56:06.080666Z",
     "start_time": "2021-06-26T18:55:55.456190Z"
    },
    "hidden": true
   },
   "outputs": [
    {
     "data": {
      "text/plain": [
       "<AxesSubplot:>"
      ]
     },
     "execution_count": 134,
     "metadata": {},
     "output_type": "execute_result"
    },
    {
     "data": {
      "image/png": "[encoded data removed]",
      "text/plain": [
       "<Figure size 432x288 with 1 Axes>"
      ]
     },
     "metadata": {
      "needs_background": "light"
     },
     "output_type": "display_data"
    }
   ],
   "source": [
    "df['porte'].value_counts().plot.bar()"
   ]
  },
  {
   "cell_type": "code",
   "execution_count": 136,
   "id": "c686144b",
   "metadata": {
    "ExecuteTime": {
     "end_time": "2021-06-26T18:58:15.181262Z",
     "start_time": "2021-06-26T18:58:15.176262Z"
    },
    "hidden": true
   },
   "outputs": [],
   "source": [
    "ind_des = df['indice_governanca']"
   ]
  },
  {
   "cell_type": "code",
   "execution_count": 144,
   "id": "7ab22686",
   "metadata": {
    "ExecuteTime": {
     "end_time": "2021-06-26T19:04:11.619341Z",
     "start_time": "2021-06-26T19:04:11.608344Z"
    },
    "collapsed": true,
    "hidden": true
   },
   "outputs": [
    {
     "data": {
      "text/plain": [
       "3303"
      ]
     },
     "execution_count": 144,
     "metadata": {},
     "output_type": "execute_result"
    }
   ],
   "source": [
    "# encontrar algo\n",
    "ind_des.count()"
   ]
  },
  {
   "cell_type": "code",
   "execution_count": 148,
   "id": "6f6fbe21",
   "metadata": {
    "ExecuteTime": {
     "end_time": "2021-06-26T19:05:05.833529Z",
     "start_time": "2021-06-26T19:05:05.822530Z"
    },
    "collapsed": true,
    "hidden": true
   },
   "outputs": [
    {
     "data": {
      "text/plain": [
       "2267"
      ]
     },
     "execution_count": 148,
     "metadata": {},
     "output_type": "execute_result"
    }
   ],
   "source": [
    "ind_des.isnull().sum()"
   ]
  },
  {
   "cell_type": "code",
   "execution_count": 153,
   "id": "8d144db3",
   "metadata": {
    "ExecuteTime": {
     "end_time": "2021-06-26T19:11:13.598217Z",
     "start_time": "2021-06-26T19:11:13.582221Z"
    },
    "collapsed": true,
    "hidden": true
   },
   "outputs": [
    {
     "data": {
      "text/plain": [
       "0       0.767\n",
       "1       0.759\n",
       "2       0.758\n",
       "3       0.756\n",
       "4       0.736\n",
       "        ...  \n",
       "3298    0.296\n",
       "3299    0.282\n",
       "3300    0.279\n",
       "3301    0.278\n",
       "3302    0.258\n",
       "Name: indice_governanca, Length: 3303, dtype: float64"
      ]
     },
     "execution_count": 153,
     "metadata": {},
     "output_type": "execute_result"
    }
   ],
   "source": [
    "# Podemos remover esses valores em branco\n",
    "ind_des.dropna()"
   ]
  },
  {
   "cell_type": "code",
   "execution_count": 150,
   "id": "ad6e44dd",
   "metadata": {
    "ExecuteTime": {
     "end_time": "2021-06-26T19:10:01.339421Z",
     "start_time": "2021-06-26T19:10:01.328424Z"
    },
    "collapsed": true,
    "hidden": true
   },
   "outputs": [
    {
     "data": {
      "text/plain": [
       "2267"
      ]
     },
     "execution_count": 150,
     "metadata": {},
     "output_type": "execute_result"
    }
   ],
   "source": [
    "# Ele retornou os valores, e podemos ver que não tem nenhum valor em branco, mas vamos verificar de fato ver se mudamos os nossos valores:\n",
    "ind_des.isnull().sum()"
   ]
  },
  {
   "cell_type": "code",
   "execution_count": 155,
   "id": "df75c87d",
   "metadata": {
    "ExecuteTime": {
     "end_time": "2021-06-26T19:45:01.560266Z",
     "start_time": "2021-06-26T19:44:58.166828Z"
    },
    "hidden": true
   },
   "outputs": [],
   "source": [
    "ind_des.dropna( inplace = True)"
   ]
  },
  {
   "cell_type": "code",
   "execution_count": 160,
   "id": "f9c35d79",
   "metadata": {
    "ExecuteTime": {
     "end_time": "2021-06-26T19:49:17.836053Z",
     "start_time": "2021-06-26T19:49:17.242188Z"
    },
    "hidden": true
   },
   "outputs": [
    {
     "data": {
      "text/plain": [
       "(5570, 1)"
      ]
     },
     "execution_count": 160,
     "metadata": {},
     "output_type": "execute_result"
    }
   ],
   "source": [
    "df[['municipio']].shape"
   ]
  }
 ],
 "metadata": {
  "kernelspec": {
   "display_name": "Python 3",
   "language": "python",
   "name": "python3"
  },
  "language_info": {
   "codemirror_mode": {
    "name": "ipython",
    "version": 3
   },
   "file_extension": ".py",
   "mimetype": "text/x-python",
   "name": "python",
   "nbconvert_exporter": "python",
   "pygments_lexer": "ipython3",
   "version": "3.8.8"
  },
  "varInspector": {
   "cols": {
    "lenName": 16,
    "lenType": 16,
    "lenVar": 40
   },
   "kernels_config": {
    "python": {
     "delete_cmd_postfix": "",
     "delete_cmd_prefix": "del ",
     "library": "var_list.py",
     "varRefreshCmd": "print(var_dic_list())"
    },
    "r": {
     "delete_cmd_postfix": ") ",
     "delete_cmd_prefix": "rm(",
     "library": "var_list.r",
     "varRefreshCmd": "cat(var_dic_list()) "
    }
   },
   "position": {
    "height": "634px",
    "left": "981px",
    "right": "20px",
    "top": "87px",
    "width": "350px"
   },
   "types_to_exclude": [
    "module",
    "function",
    "builtin_function_or_method",
    "instance",
    "_Feature"
   ],
   "window_display": false
  }
 },
 "nbformat": 4,
 "nbformat_minor": 5
}
