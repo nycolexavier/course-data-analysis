{
 "cells": [
  {
   "cell_type": "markdown",
   "id": "93e652be",
   "metadata": {
    "ExecuteTime": {
     "end_time": "2021-06-26T13:09:14.162221Z",
     "start_time": "2021-06-26T13:09:14.098235Z"
    }
   },
   "source": [
    "# Exercícios - fatiamento"
   ]
  },
  {
   "cell_type": "code",
   "execution_count": 4,
   "id": "afdcecce",
   "metadata": {
    "ExecuteTime": {
     "end_time": "2021-06-26T13:08:26.420491Z",
     "start_time": "2021-06-26T13:08:26.410497Z"
    }
   },
   "outputs": [],
   "source": [
    "import numpy as np"
   ]
  },
  {
   "cell_type": "code",
   "execution_count": 15,
   "id": "20331ca1",
   "metadata": {
    "ExecuteTime": {
     "end_time": "2021-06-26T13:16:50.207609Z",
     "start_time": "2021-06-26T13:16:50.184614Z"
    }
   },
   "outputs": [],
   "source": [
    "# 2. Crie um array data com as seguite lista [1, 2, 3, 4, 5, 6, 7, 8, 9, 10, 11, 12, 13, 14, 15, 16]\n",
    "data = np.array([1, 2, 3, 4, 5, 6, 7, 8, 9, 10, 11, 12, 13, 14, 15, 16])"
   ]
  },
  {
   "cell_type": "code",
   "execution_count": 13,
   "id": "e21d6d51",
   "metadata": {
    "ExecuteTime": {
     "end_time": "2021-06-26T13:14:31.084321Z",
     "start_time": "2021-06-26T13:14:31.076337Z"
    }
   },
   "outputs": [],
   "source": [
    "# 3. Selecione apenas os dados diferentes de 4,6,8,10\n",
    "data_2 = data[(data !=4) & (data != 6) & (data!= 8) & (data != 10)]"
   ]
  },
  {
   "cell_type": "code",
   "execution_count": 14,
   "id": "12e30493",
   "metadata": {
    "ExecuteTime": {
     "end_time": "2021-06-26T13:15:39.245415Z",
     "start_time": "2021-06-26T13:15:39.236419Z"
    }
   },
   "outputs": [
    {
     "data": {
      "text/plain": [
       "array([ 1,  2,  3,  5,  7,  9, 11, 12, 13, 14, 15, 16])"
      ]
     },
     "execution_count": 14,
     "metadata": {},
     "output_type": "execute_result"
    }
   ],
   "source": [
    "data_2"
   ]
  },
  {
   "cell_type": "code",
   "execution_count": 16,
   "id": "cf6f474e",
   "metadata": {
    "ExecuteTime": {
     "end_time": "2021-06-26T13:20:20.082353Z",
     "start_time": "2021-06-26T13:20:20.046361Z"
    }
   },
   "outputs": [],
   "source": [
    "# 4. Crie um array dim2 que tenha 2 dimensões e a lista [1,2,3,4,5] na primeira linha e a lista [6,7,8,9,10] na segunda linha\n",
    "dim2 = np.array([[1,2,3,4,5],[6,7,8,9,10]])"
   ]
  },
  {
   "cell_type": "code",
   "execution_count": 18,
   "id": "a33bed3a",
   "metadata": {
    "ExecuteTime": {
     "end_time": "2021-06-26T13:20:28.992284Z",
     "start_time": "2021-06-26T13:20:28.982284Z"
    }
   },
   "outputs": [
    {
     "data": {
      "text/plain": [
       "array([[ 1,  2,  3,  4,  5],\n",
       "       [ 6,  7,  8,  9, 10]])"
      ]
     },
     "execution_count": 18,
     "metadata": {},
     "output_type": "execute_result"
    }
   ],
   "source": [
    "dim2"
   ]
  },
  {
   "cell_type": "code",
   "execution_count": null,
   "id": "625fd4a1",
   "metadata": {},
   "outputs": [],
   "source": [
    "# 5. Crie um array chamado dim2_2 que seja uma fatia de dim2 e "
   ]
  }
 ],
 "metadata": {
  "kernelspec": {
   "display_name": "Python 3",
   "language": "python",
   "name": "python3"
  },
  "language_info": {
   "codemirror_mode": {
    "name": "ipython",
    "version": 3
   },
   "file_extension": ".py",
   "mimetype": "text/x-python",
   "name": "python",
   "nbconvert_exporter": "python",
   "pygments_lexer": "ipython3",
   "version": "3.8.8"
  },
  "varInspector": {
   "cols": {
    "lenName": 16,
    "lenType": 16,
    "lenVar": 40
   },
   "kernels_config": {
    "python": {
     "delete_cmd_postfix": "",
     "delete_cmd_prefix": "del ",
     "library": "var_list.py",
     "varRefreshCmd": "print(var_dic_list())"
    },
    "r": {
     "delete_cmd_postfix": ") ",
     "delete_cmd_prefix": "rm(",
     "library": "var_list.r",
     "varRefreshCmd": "cat(var_dic_list()) "
    }
   },
   "types_to_exclude": [
    "module",
    "function",
    "builtin_function_or_method",
    "instance",
    "_Feature"
   ],
   "window_display": false
  }
 },
 "nbformat": 4,
 "nbformat_minor": 5
}
