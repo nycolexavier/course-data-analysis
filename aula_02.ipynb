{
 "cells": [
  {
   "cell_type": "markdown",
   "id": "463f4cc5",
   "metadata": {
    "ExecuteTime": {
     "end_time": "2021-06-26T13:09:14.162221Z",
     "start_time": "2021-06-26T13:09:14.098235Z"
    },
    "heading_collapsed": true
   },
   "source": [
    "# Exercícios - fatiamento"
   ]
  },
  {
   "cell_type": "code",
   "execution_count": 4,
   "id": "ee49b7d0",
   "metadata": {
    "ExecuteTime": {
     "end_time": "2021-06-26T13:08:26.420491Z",
     "start_time": "2021-06-26T13:08:26.410497Z"
    },
    "hidden": true
   },
   "outputs": [],
   "source": [
    "import numpy as np"
   ]
  },
  {
   "cell_type": "code",
   "execution_count": 15,
   "id": "8a375d9c",
   "metadata": {
    "ExecuteTime": {
     "end_time": "2021-06-26T13:16:50.207609Z",
     "start_time": "2021-06-26T13:16:50.184614Z"
    },
    "hidden": true
   },
   "outputs": [],
   "source": [
    "# 2. Crie um array data com as seguite lista [1, 2, 3, 4, 5, 6, 7, 8, 9, 10, 11, 12, 13, 14, 15, 16]\n",
    "data = np.array([1, 2, 3, 4, 5, 6, 7, 8, 9, 10, 11, 12, 13, 14, 15, 16])"
   ]
  },
  {
   "cell_type": "code",
   "execution_count": 13,
   "id": "bbbf3548",
   "metadata": {
    "ExecuteTime": {
     "end_time": "2021-06-26T13:14:31.084321Z",
     "start_time": "2021-06-26T13:14:31.076337Z"
    },
    "hidden": true
   },
   "outputs": [],
   "source": [
    "# 3. Selecione apenas os dados diferentes de 4,6,8,10\n",
    "data_2 = data[(data !=4) & (data != 6) & (data!= 8) & (data != 10)]"
   ]
  },
  {
   "cell_type": "code",
   "execution_count": 14,
   "id": "25a584f2",
   "metadata": {
    "ExecuteTime": {
     "end_time": "2021-06-26T13:15:39.245415Z",
     "start_time": "2021-06-26T13:15:39.236419Z"
    },
    "hidden": true
   },
   "outputs": [
    {
     "data": {
      "text/plain": [
       "array([ 1,  2,  3,  5,  7,  9, 11, 12, 13, 14, 15, 16])"
      ]
     },
     "execution_count": 14,
     "metadata": {},
     "output_type": "execute_result"
    }
   ],
   "source": [
    "data_2"
   ]
  },
  {
   "cell_type": "code",
   "execution_count": 16,
   "id": "56b3e584",
   "metadata": {
    "ExecuteTime": {
     "end_time": "2021-06-26T13:20:20.082353Z",
     "start_time": "2021-06-26T13:20:20.046361Z"
    },
    "hidden": true
   },
   "outputs": [],
   "source": [
    "# 4. Crie um array dim2 que tenha 2 dimensões e a lista [1,2,3,4,5] na primeira linha e a lista [6,7,8,9,10] na segunda linha\n",
    "dim2 = np.array([[1,2,3,4,5],[6,7,8,9,10]])"
   ]
  },
  {
   "cell_type": "code",
   "execution_count": 18,
   "id": "c75968e8",
   "metadata": {
    "ExecuteTime": {
     "end_time": "2021-06-26T13:20:28.992284Z",
     "start_time": "2021-06-26T13:20:28.982284Z"
    },
    "hidden": true
   },
   "outputs": [
    {
     "data": {
      "text/plain": [
       "array([[ 1,  2,  3,  4,  5],\n",
       "       [ 6,  7,  8,  9, 10]])"
      ]
     },
     "execution_count": 18,
     "metadata": {},
     "output_type": "execute_result"
    }
   ],
   "source": [
    "dim2"
   ]
  },
  {
   "cell_type": "code",
   "execution_count": 20,
   "id": "18debb15",
   "metadata": {
    "ExecuteTime": {
     "end_time": "2021-06-26T13:22:55.855453Z",
     "start_time": "2021-06-26T13:22:55.820964Z"
    },
    "hidden": true
   },
   "outputs": [],
   "source": [
    "# 5. Crie um array chamado dim2_2 que seja uma fatia de dim2 e que contenha apenas os valores 3,4,8,9\n",
    "dim2_2 = dim2[:,2:4]"
   ]
  },
  {
   "cell_type": "code",
   "execution_count": 21,
   "id": "b38b1020",
   "metadata": {
    "ExecuteTime": {
     "end_time": "2021-06-26T13:23:05.599711Z",
     "start_time": "2021-06-26T13:23:05.590715Z"
    },
    "hidden": true
   },
   "outputs": [
    {
     "data": {
      "text/plain": [
       "array([[3, 4],\n",
       "       [8, 9]])"
      ]
     },
     "execution_count": 21,
     "metadata": {},
     "output_type": "execute_result"
    }
   ],
   "source": [
    "dim2_2"
   ]
  },
  {
   "cell_type": "markdown",
   "id": "4aa602b7",
   "metadata": {},
   "source": [
    "# Prática"
   ]
  },
  {
   "cell_type": "code",
   "execution_count": 23,
   "id": "e45dcb87",
   "metadata": {
    "ExecuteTime": {
     "end_time": "2021-06-26T13:50:42.152148Z",
     "start_time": "2021-06-26T13:50:42.146149Z"
    }
   },
   "outputs": [],
   "source": [
    "import numpy as np"
   ]
  },
  {
   "cell_type": "code",
   "execution_count": 25,
   "id": "abae69a0",
   "metadata": {
    "ExecuteTime": {
     "end_time": "2021-06-26T13:51:27.595430Z",
     "start_time": "2021-06-26T13:51:27.585432Z"
    }
   },
   "outputs": [
    {
     "data": {
      "text/plain": [
       "array([9, 8, 7])"
      ]
     },
     "execution_count": 25,
     "metadata": {},
     "output_type": "execute_result"
    }
   ],
   "source": [
    "np.array([9, 8, 7]) #Uma dimensão"
   ]
  },
  {
   "cell_type": "code",
   "execution_count": 28,
   "id": "5167090c",
   "metadata": {
    "ExecuteTime": {
     "end_time": "2021-06-26T13:53:55.845041Z",
     "start_time": "2021-06-26T13:53:55.834042Z"
    }
   },
   "outputs": [
    {
     "data": {
      "text/plain": [
       "array([[  11,    2,   33],\n",
       "       [ 100,    2, 4000]])"
      ]
     },
     "execution_count": 28,
     "metadata": {},
     "output_type": "execute_result"
    }
   ],
   "source": [
    "np.array( [ [ 11, 2, 33 ], [ 100, 2, 4000 ] ] ) #Bidimensional"
   ]
  },
  {
   "cell_type": "code",
   "execution_count": 41,
   "id": "2295dd87",
   "metadata": {
    "ExecuteTime": {
     "end_time": "2021-06-26T14:02:24.272895Z",
     "start_time": "2021-06-26T14:02:24.142922Z"
    }
   },
   "outputs": [
    {
     "data": {
      "text/plain": [
       "<function numpy.array>"
      ]
     },
     "execution_count": 41,
     "metadata": {},
     "output_type": "execute_result"
    }
   ],
   "source": [
    "np.array( [ [ [ 22, 56, 38 ], [ 114, 489, 878 ], [ 1001, 1002, 11000] ] ] ) #Tridimensional"
   ]
  },
  {
   "cell_type": "code",
   "execution_count": 43,
   "id": "21a734be",
   "metadata": {
    "ExecuteTime": {
     "end_time": "2021-06-26T14:02:49.974854Z",
     "start_time": "2021-06-26T14:02:49.967857Z"
    }
   },
   "outputs": [],
   "source": [
    "one = np.ones([2, 2])"
   ]
  },
  {
   "cell_type": "code",
   "execution_count": 44,
   "id": "9c9f5e4c",
   "metadata": {
    "ExecuteTime": {
     "end_time": "2021-06-26T14:03:12.633596Z",
     "start_time": "2021-06-26T14:03:12.622600Z"
    }
   },
   "outputs": [
    {
     "data": {
      "text/plain": [
       "array([[2, 0, 0, 0],\n",
       "       [0, 1, 0, 0],\n",
       "       [0, 0, 4, 0],\n",
       "       [0, 0, 0, 6]])"
      ]
     },
     "execution_count": 44,
     "metadata": {},
     "output_type": "execute_result"
    }
   ],
   "source": [
    "array9 = np.diag((2, 1, 4, 6)) ; array9 #matriz diagonal"
   ]
  },
  {
   "cell_type": "code",
   "execution_count": 56,
   "id": "3e4bd001",
   "metadata": {
    "ExecuteTime": {
     "end_time": "2021-06-26T14:16:18.877376Z",
     "start_time": "2021-06-26T14:16:18.864377Z"
    }
   },
   "outputs": [
    {
     "data": {
      "text/plain": [
       "array([0.54340494, 0.27836939, 0.42451759, 0.84477613, 0.00471886])"
      ]
     },
     "execution_count": 56,
     "metadata": {},
     "output_type": "execute_result"
    }
   ],
   "source": [
    "np.random.seed(100)\n",
    "array10 = np.random.rand(5); array10"
   ]
  },
  {
   "cell_type": "code",
   "execution_count": 64,
   "id": "2b2f9416",
   "metadata": {
    "ExecuteTime": {
     "end_time": "2021-06-26T14:16:59.526665Z",
     "start_time": "2021-06-26T14:16:59.515668Z"
    }
   },
   "outputs": [
    {
     "data": {
      "text/plain": [
       "array([ 1.15117366, -1.02933685, -0.51099219, -2.36027053,  0.10359513])"
      ]
     },
     "execution_count": 64,
     "metadata": {},
     "output_type": "execute_result"
    }
   ],
   "source": [
    "array11 = np.random.randn(5) ;array11"
   ]
  },
  {
   "cell_type": "code",
   "execution_count": 65,
   "id": "13f74bbf",
   "metadata": {
    "ExecuteTime": {
     "end_time": "2021-06-26T14:26:15.161109Z",
     "start_time": "2021-06-26T14:26:15.151114Z"
    }
   },
   "outputs": [
    {
     "data": {
      "text/plain": [
       "array([[[0., 0.],\n",
       "        [0., 0.]],\n",
       "\n",
       "       [[0., 0.],\n",
       "        [0., 0.]]])"
      ]
     },
     "execution_count": 65,
     "metadata": {},
     "output_type": "execute_result"
    }
   ],
   "source": [
    "zeros = np.zeros([2, 2, 2])\n",
    "zeros"
   ]
  },
  {
   "cell_type": "code",
   "execution_count": 77,
   "id": "a9a56461",
   "metadata": {
    "ExecuteTime": {
     "end_time": "2021-06-26T14:30:01.295855Z",
     "start_time": "2021-06-26T14:30:01.285859Z"
    }
   },
   "outputs": [
    {
     "data": {
      "text/plain": [
       "array([  0,   5,  10,  15,  20,  25,  30,  35,  40,  45,  50,  55,  60,\n",
       "        65,  70,  75,  80,  85,  90,  95, 100, 105, 110, 115, 120, 125,\n",
       "       130, 135, 140, 145])"
      ]
     },
     "execution_count": 77,
     "metadata": {},
     "output_type": "execute_result"
    }
   ],
   "source": [
    "array19 = np.arange(0, 30) * 5\n",
    "array19"
   ]
  },
  {
   "cell_type": "code",
   "execution_count": 81,
   "id": "e095a4d7",
   "metadata": {
    "ExecuteTime": {
     "end_time": "2021-06-26T14:31:48.444415Z",
     "start_time": "2021-06-26T14:31:48.433416Z"
    }
   },
   "outputs": [
    {
     "data": {
      "text/plain": [
       "array([ 0,  1,  2,  3,  4,  5,  6,  7,  8,  9, 10, 11, 12, 13, 14, 15, 16,\n",
       "       17, 18, 19, 20])"
      ]
     },
     "execution_count": 81,
     "metadata": {},
     "output_type": "execute_result"
    }
   ],
   "source": [
    "data = np.arange(21) ; data"
   ]
  },
  {
   "cell_type": "code",
   "execution_count": 82,
   "id": "c90fcef4",
   "metadata": {
    "ExecuteTime": {
     "end_time": "2021-06-26T14:32:17.535599Z",
     "start_time": "2021-06-26T14:32:17.531600Z"
    },
    "code_folding": []
   },
   "outputs": [],
   "source": [
    "# Fatiamento"
   ]
  },
  {
   "cell_type": "code",
   "execution_count": 83,
   "id": "7e1494f0",
   "metadata": {
    "ExecuteTime": {
     "end_time": "2021-06-26T14:32:31.251601Z",
     "start_time": "2021-06-26T14:32:31.241600Z"
    }
   },
   "outputs": [
    {
     "data": {
      "text/plain": [
       "array([10, 11, 12, 13, 14, 15])"
      ]
     },
     "execution_count": 83,
     "metadata": {},
     "output_type": "execute_result"
    }
   ],
   "source": [
    "data[10:16]"
   ]
  },
  {
   "cell_type": "code",
   "execution_count": 85,
   "id": "c5a56cea",
   "metadata": {
    "ExecuteTime": {
     "end_time": "2021-06-26T14:34:13.548596Z",
     "start_time": "2021-06-26T14:34:13.538596Z"
    }
   },
   "outputs": [
    {
     "data": {
      "text/plain": [
       "array([   0,    1,    2,    3,    4,    5,    6,    7,    8,    9, -101,\n",
       "       -101, -101, -101, -101, -101,   16,   17,   18,   19,   20])"
      ]
     },
     "execution_count": 85,
     "metadata": {},
     "output_type": "execute_result"
    }
   ],
   "source": [
    "data[10:16] = -101 ; data"
   ]
  },
  {
   "cell_type": "code",
   "execution_count": 87,
   "id": "2d2c78b8",
   "metadata": {
    "ExecuteTime": {
     "end_time": "2021-06-26T14:38:04.115596Z",
     "start_time": "2021-06-26T14:38:04.104600Z"
    }
   },
   "outputs": [
    {
     "data": {
      "text/plain": [
       "array([-101, -101, 2021, 2021, -101, -101,   16])"
      ]
     },
     "execution_count": 87,
     "metadata": {},
     "output_type": "execute_result"
    }
   ],
   "source": [
    "dat1 = data[10:17]\n",
    "dat1 [2:4] = 2021 ; dat1"
   ]
  },
  {
   "cell_type": "code",
   "execution_count": 89,
   "id": "75dcd4d8",
   "metadata": {
    "ExecuteTime": {
     "end_time": "2021-06-26T14:44:41.263350Z",
     "start_time": "2021-06-26T14:44:41.253352Z"
    }
   },
   "outputs": [
    {
     "data": {
      "text/plain": [
       "array([   7,    8,    9, -101, -101, 2021, 2021, -101, -101,   16,   17,\n",
       "         18,   19,   20])"
      ]
     },
     "execution_count": 89,
     "metadata": {},
     "output_type": "execute_result"
    }
   ],
   "source": [
    "data_2 = data[7:].copy() ;data_2"
   ]
  },
  {
   "cell_type": "code",
   "execution_count": 91,
   "id": "2df7d640",
   "metadata": {
    "ExecuteTime": {
     "end_time": "2021-06-26T14:46:04.869251Z",
     "start_time": "2021-06-26T14:46:04.859256Z"
    }
   },
   "outputs": [
    {
     "data": {
      "text/plain": [
       "array([ 0,  1,  2,  3,  4,  5,  6,  7,  8,  9, 10, 11, 12, 13, 14, 15, 16,\n",
       "       17, 18, 19, 20, 21, 22, 23, 24, 25, 26, 27, 28, 29, 30, 31, 32, 33,\n",
       "       34, 35, 36, 37, 38, 39, 40, 41, 42, 43, 44, 45, 46, 47, 48, 49, 50,\n",
       "       51, 52, 53, 54, 55, 56, 57, 58, 59, 60, 61, 62, 63, 64, 65, 66, 67,\n",
       "       68, 69, 70, 71, 72, 73, 74, 75, 76, 77, 78, 79, 80, 81, 82, 83, 84,\n",
       "       85, 86, 87, 88, 89, 90, 91, 92, 93, 94, 95, 96, 97, 98, 99])"
      ]
     },
     "execution_count": 91,
     "metadata": {},
     "output_type": "execute_result"
    }
   ],
   "source": [
    "dados = np.arange(100) ; dados"
   ]
  },
  {
   "cell_type": "code",
   "execution_count": 92,
   "id": "60fbe841",
   "metadata": {
    "ExecuteTime": {
     "end_time": "2021-06-26T14:46:58.592023Z",
     "start_time": "2021-06-26T14:46:58.562028Z"
    }
   },
   "outputs": [
    {
     "data": {
      "text/plain": [
       "array([94, 95, 96, 97, 98, 99])"
      ]
     },
     "execution_count": 92,
     "metadata": {},
     "output_type": "execute_result"
    }
   ],
   "source": [
    "dados[dados > 93]"
   ]
  },
  {
   "cell_type": "code",
   "execution_count": 94,
   "id": "10255799",
   "metadata": {
    "ExecuteTime": {
     "end_time": "2021-06-26T14:47:41.482859Z",
     "start_time": "2021-06-26T14:47:41.469864Z"
    }
   },
   "outputs": [
    {
     "data": {
      "text/plain": [
       "array([ 0,  1,  2,  3,  4,  5,  6,  7,  8,  9, 10, 11, 12, 13, 14, 15, 16,\n",
       "       17, 18, 19, 21, 22, 23, 24, 25, 26, 27, 28, 29, 30, 31, 32, 33, 34,\n",
       "       35, 36, 37, 38, 39, 40, 41, 42, 43, 44, 45, 46, 47, 48, 49, 50, 51,\n",
       "       52, 53, 54, 55, 56, 57, 58, 59, 60, 61, 62, 63, 64, 65, 66, 67, 68,\n",
       "       69, 70, 71, 72, 73, 74, 75, 76, 77, 78, 79, 80, 81, 82, 83, 84, 85,\n",
       "       86, 87, 88, 89, 90, 91, 92, 93, 94, 95, 96, 97, 98, 99])"
      ]
     },
     "execution_count": 94,
     "metadata": {},
     "output_type": "execute_result"
    }
   ],
   "source": [
    "dados [dados != 20]"
   ]
  },
  {
   "cell_type": "code",
   "execution_count": 102,
   "id": "9448b1b5",
   "metadata": {
    "ExecuteTime": {
     "end_time": "2021-06-26T14:52:04.031494Z",
     "start_time": "2021-06-26T14:52:04.021498Z"
    }
   },
   "outputs": [
    {
     "data": {
      "text/plain": [
       "array([ 0,  1,  2,  3,  4,  5,  6,  7,  8,  9, 11, 12, 13, 14, 15, 16, 17,\n",
       "       18, 19, 21, 22, 23, 24, 25, 26, 27, 28, 29, 31, 32, 33, 34, 35, 36,\n",
       "       37, 38, 39, 40, 41, 42, 43, 44, 45, 46, 47, 48, 49, 50, 51, 52, 53,\n",
       "       54, 55, 56, 57, 58, 59, 60, 61, 62, 63, 64, 65, 66, 67, 68, 69, 70,\n",
       "       71, 72, 73, 74, 75, 76, 77, 78, 79, 80, 81, 82, 83, 84, 85, 86, 87,\n",
       "       88, 89, 90, 91, 92, 93, 94, 95, 96, 97, 98, 99])"
      ]
     },
     "execution_count": 102,
     "metadata": {},
     "output_type": "execute_result"
    }
   ],
   "source": [
    "dados_2 = dados[ ( dados != 10 ) & ( dados != 20 ) & ( dados != 30 ) ] ; dados_2"
   ]
  },
  {
   "cell_type": "code",
   "execution_count": null,
   "id": "56b36fbd",
   "metadata": {},
   "outputs": [],
   "source": []
  },
  {
   "cell_type": "code",
   "execution_count": 107,
   "id": "922a0400",
   "metadata": {
    "ExecuteTime": {
     "end_time": "2021-06-26T14:57:44.929206Z",
     "start_time": "2021-06-26T14:57:44.920206Z"
    }
   },
   "outputs": [
    {
     "data": {
      "text/plain": [
       "(97,)"
      ]
     },
     "execution_count": 107,
     "metadata": {},
     "output_type": "execute_result"
    }
   ],
   "source": [
    "dados_2.shape"
   ]
  },
  {
   "cell_type": "code",
   "execution_count": null,
   "id": "78e591e3",
   "metadata": {},
   "outputs": [],
   "source": []
  }
 ],
 "metadata": {
  "kernelspec": {
   "display_name": "Python 3",
   "language": "python",
   "name": "python3"
  },
  "language_info": {
   "codemirror_mode": {
    "name": "ipython",
    "version": 3
   },
   "file_extension": ".py",
   "mimetype": "text/x-python",
   "name": "python",
   "nbconvert_exporter": "python",
   "pygments_lexer": "ipython3",
   "version": "3.8.8"
  },
  "varInspector": {
   "cols": {
    "lenName": 16,
    "lenType": 16,
    "lenVar": 40
   },
   "kernels_config": {
    "python": {
     "delete_cmd_postfix": "",
     "delete_cmd_prefix": "del ",
     "library": "var_list.py",
     "varRefreshCmd": "print(var_dic_list())"
    },
    "r": {
     "delete_cmd_postfix": ") ",
     "delete_cmd_prefix": "rm(",
     "library": "var_list.r",
     "varRefreshCmd": "cat(var_dic_list()) "
    }
   },
   "types_to_exclude": [
    "module",
    "function",
    "builtin_function_or_method",
    "instance",
    "_Feature"
   ],
   "window_display": false
  }
 },
 "nbformat": 4,
 "nbformat_minor": 5
}
