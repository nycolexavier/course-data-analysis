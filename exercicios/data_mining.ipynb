{
 "cells": [
  {
   "cell_type": "code",
   "execution_count": 1,
   "id": "f6157751",
   "metadata": {
    "ExecuteTime": {
     "end_time": "2021-07-02T03:45:04.572024Z",
     "start_time": "2021-07-02T03:45:00.611910Z"
    }
   },
   "outputs": [],
   "source": [
    "import pandas as pd"
   ]
  },
  {
   "cell_type": "markdown",
   "id": "4ae5161b",
   "metadata": {
    "heading_collapsed": true
   },
   "source": [
    "# Exercícios - Limpeza de Dados"
   ]
  },
  {
   "cell_type": "code",
   "execution_count": 3,
   "id": "057a8b56",
   "metadata": {
    "ExecuteTime": {
     "end_time": "2021-07-02T03:45:41.297428Z",
     "start_time": "2021-07-02T03:45:41.293431Z"
    },
    "hidden": true
   },
   "outputs": [],
   "source": [
    "# 1.Crie um dataframe com o arquivo carros.csv"
   ]
  },
  {
   "cell_type": "code",
   "execution_count": 4,
   "id": "2dac9184",
   "metadata": {
    "ExecuteTime": {
     "end_time": "2021-07-02T03:45:55.699084Z",
     "start_time": "2021-07-02T03:45:55.694085Z"
    },
    "hidden": true
   },
   "outputs": [],
   "source": [
    "# 2. Faça uma primeira visualização dos dados"
   ]
  },
  {
   "cell_type": "code",
   "execution_count": 5,
   "id": "82495140",
   "metadata": {
    "ExecuteTime": {
     "end_time": "2021-07-02T03:46:06.804506Z",
     "start_time": "2021-07-02T03:46:06.799508Z"
    },
    "hidden": true
   },
   "outputs": [],
   "source": [
    "# 3. Faça o describe das variáveis numéricas"
   ]
  },
  {
   "cell_type": "code",
   "execution_count": 6,
   "id": "4b3270d5",
   "metadata": {
    "ExecuteTime": {
     "end_time": "2021-07-02T03:46:23.379658Z",
     "start_time": "2021-07-02T03:46:23.373659Z"
    },
    "hidden": true
   },
   "outputs": [],
   "source": [
    "# 4. Faça o describe das variáveis categóricas"
   ]
  },
  {
   "cell_type": "code",
   "execution_count": 7,
   "id": "34b8c774",
   "metadata": {
    "ExecuteTime": {
     "end_time": "2021-07-02T03:46:47.905966Z",
     "start_time": "2021-07-02T03:46:47.901968Z"
    },
    "hidden": true
   },
   "outputs": [],
   "source": [
    "# 5. Verifique se há dados nulos ou faltantes. Caso haja, substitua pela média das variáveis"
   ]
  },
  {
   "cell_type": "code",
   "execution_count": 8,
   "id": "2c557557",
   "metadata": {
    "ExecuteTime": {
     "end_time": "2021-07-02T03:47:32.300656Z",
     "start_time": "2021-07-02T03:47:32.295666Z"
    },
    "hidden": true
   },
   "outputs": [],
   "source": [
    "# 6. Verifique se há dados duplicados. Caso haja, elime esses dados duplicados do dataframe"
   ]
  },
  {
   "cell_type": "markdown",
   "id": "960dc51a",
   "metadata": {
    "heading_collapsed": true
   },
   "source": [
    "# Exercícios - Entendendo as variávies"
   ]
  },
  {
   "cell_type": "code",
   "execution_count": 9,
   "id": "2fdac894",
   "metadata": {
    "ExecuteTime": {
     "end_time": "2021-07-02T03:48:15.083722Z",
     "start_time": "2021-07-02T03:48:15.078740Z"
    },
    "hidden": true
   },
   "outputs": [],
   "source": [
    "# 1. Use o dataframe anterior"
   ]
  },
  {
   "cell_type": "code",
   "execution_count": 10,
   "id": "daeb8073",
   "metadata": {
    "ExecuteTime": {
     "end_time": "2021-07-02T03:48:33.850368Z",
     "start_time": "2021-07-02T03:48:33.845365Z"
    },
    "hidden": true
   },
   "outputs": [],
   "source": [
    "# 2. Faça histogramas das variáveis numéricas"
   ]
  },
  {
   "cell_type": "code",
   "execution_count": 11,
   "id": "127e2614",
   "metadata": {
    "ExecuteTime": {
     "end_time": "2021-07-02T03:48:49.898639Z",
     "start_time": "2021-07-02T03:48:49.893643Z"
    },
    "hidden": true
   },
   "outputs": [],
   "source": [
    "# 3. Escreva pequenas conclusões sobre os histogramas"
   ]
  },
  {
   "cell_type": "code",
   "execution_count": 12,
   "id": "3e4836d8",
   "metadata": {
    "ExecuteTime": {
     "end_time": "2021-07-02T03:49:07.509551Z",
     "start_time": "2021-07-02T03:49:07.505550Z"
    },
    "hidden": true
   },
   "outputs": [],
   "source": [
    "# 4. Faça countplots das variáveis categóricas"
   ]
  },
  {
   "cell_type": "code",
   "execution_count": 14,
   "id": "113c3e48",
   "metadata": {
    "ExecuteTime": {
     "end_time": "2021-07-02T03:49:44.721912Z",
     "start_time": "2021-07-02T03:49:44.717915Z"
    },
    "hidden": true
   },
   "outputs": [],
   "source": [
    "# 5. Escreva pequenas conclusões sobre os gráficos"
   ]
  },
  {
   "cell_type": "markdown",
   "id": "71d74110",
   "metadata": {
    "heading_collapsed": true
   },
   "source": [
    "# Exercícios - Algumas estatísticas"
   ]
  },
  {
   "cell_type": "code",
   "execution_count": 15,
   "id": "4709ad8b",
   "metadata": {
    "ExecuteTime": {
     "end_time": "2021-07-02T03:50:46.138652Z",
     "start_time": "2021-07-02T03:50:46.134651Z"
    },
    "hidden": true
   },
   "outputs": [],
   "source": [
    "# 1. Qual a média da variável losses? Qual a mediana da variável highway mpg?"
   ]
  },
  {
   "cell_type": "code",
   "execution_count": 16,
   "id": "858b96c5",
   "metadata": {
    "ExecuteTime": {
     "end_time": "2021-07-02T03:51:12.839454Z",
     "start_time": "2021-07-02T03:51:12.834452Z"
    },
    "hidden": true
   },
   "outputs": [],
   "source": [
    "# 2. Qual a média da variável price? Qual a mediana da variável price? Discuta os valores encontrados"
   ]
  },
  {
   "cell_type": "code",
   "execution_count": 17,
   "id": "309d1e69",
   "metadata": {
    "ExecuteTime": {
     "end_time": "2021-07-02T03:51:33.811583Z",
     "start_time": "2021-07-02T03:51:33.807609Z"
    },
    "hidden": true
   },
   "outputs": [],
   "source": [
    "# 3. Qual a moda da variável fuel type? Qual a moda da variável make?"
   ]
  },
  {
   "cell_type": "code",
   "execution_count": 18,
   "id": "1818d667",
   "metadata": {
    "ExecuteTime": {
     "end_time": "2021-07-02T03:51:52.563229Z",
     "start_time": "2021-07-02T03:51:52.558232Z"
    },
    "hidden": true
   },
   "outputs": [],
   "source": [
    "# 4. Calcule a moda das variáveis horsepower e price"
   ]
  },
  {
   "cell_type": "code",
   "execution_count": 19,
   "id": "3f4c8c3a",
   "metadata": {
    "ExecuteTime": {
     "end_time": "2021-07-02T03:52:53.589059Z",
     "start_time": "2021-07-02T03:52:53.584066Z"
    },
    "hidden": true
   },
   "outputs": [],
   "source": [
    "# 5. Escolha 3 variáveis numéricas e faça seus boxplots. Que informações é possível obter?"
   ]
  },
  {
   "cell_type": "markdown",
   "id": "ecccdbba",
   "metadata": {
    "heading_collapsed": true
   },
   "source": [
    "# EDA - Correlações"
   ]
  },
  {
   "cell_type": "code",
   "execution_count": 20,
   "id": "c5b263c6",
   "metadata": {
    "ExecuteTime": {
     "end_time": "2021-07-02T03:55:14.851261Z",
     "start_time": "2021-07-02T03:55:14.846261Z"
    },
    "hidden": true
   },
   "outputs": [],
   "source": [
    "# 1. Use a função corr() e faça a correlação entre as variáveis do dataframe utlizado anteriormente"
   ]
  },
  {
   "cell_type": "code",
   "execution_count": 21,
   "id": "7a002119",
   "metadata": {
    "ExecuteTime": {
     "end_time": "2021-07-02T03:55:29.506859Z",
     "start_time": "2021-07-02T03:55:29.502858Z"
    },
    "hidden": true
   },
   "outputs": [],
   "source": [
    "# 2. Quais as variáveis com maior correlação?"
   ]
  },
  {
   "cell_type": "code",
   "execution_count": 22,
   "id": "ebb2c209",
   "metadata": {
    "ExecuteTime": {
     "end_time": "2021-07-02T03:55:44.379404Z",
     "start_time": "2021-07-02T03:55:44.375405Z"
    },
    "hidden": true
   },
   "outputs": [],
   "source": [
    "# 3. Quais as variáveis com maior anticorrelação?"
   ]
  },
  {
   "cell_type": "code",
   "execution_count": null,
   "id": "114291eb",
   "metadata": {
    "hidden": true
   },
   "outputs": [],
   "source": [
    "# 4. Escolha 2 correlações e 2 anticorrelações e tentem argumentar o porquê dessa relação"
   ]
  },
  {
   "cell_type": "markdown",
   "id": "4426b9fe",
   "metadata": {
    "heading_collapsed": true
   },
   "source": [
    "# Exercícios - Estratificação"
   ]
  },
  {
   "cell_type": "code",
   "execution_count": 23,
   "id": "c7876c1b",
   "metadata": {
    "ExecuteTime": {
     "end_time": "2021-07-02T04:01:05.732795Z",
     "start_time": "2021-07-02T04:01:05.728794Z"
    },
    "hidden": true
   },
   "outputs": [],
   "source": [
    "# 2. Faça gráficos de countplot simples para as variáveis riskiness e body"
   ]
  },
  {
   "cell_type": "code",
   "execution_count": 24,
   "id": "22362c10",
   "metadata": {
    "ExecuteTime": {
     "end_time": "2021-07-02T04:01:25.901113Z",
     "start_time": "2021-07-02T04:01:25.897112Z"
    },
    "hidden": true
   },
   "outputs": [],
   "source": [
    "# 3. Agora refaça os gráficos anteriores, mas estratificando pela variável doors. (Dica: coloque a variável estratificadora no parâmetro hue.)"
   ]
  },
  {
   "cell_type": "code",
   "execution_count": 25,
   "id": "8e9caf0f",
   "metadata": {
    "ExecuteTime": {
     "end_time": "2021-07-02T04:01:36.084746Z",
     "start_time": "2021-07-02T04:01:36.080749Z"
    },
    "hidden": true
   },
   "outputs": [],
   "source": [
    "# 4. O que podemos concluir a partir desses gráficos? "
   ]
  },
  {
   "cell_type": "code",
   "execution_count": 26,
   "id": "cc29a443",
   "metadata": {
    "ExecuteTime": {
     "end_time": "2021-07-02T04:01:59.020422Z",
     "start_time": "2021-07-02T04:01:59.017423Z"
    },
    "hidden": true
   },
   "outputs": [],
   "source": [
    "# 5. Faça o countplot da variável aspiration estratificada pela variável doors."
   ]
  },
  {
   "cell_type": "code",
   "execution_count": 27,
   "id": "73ad8b92",
   "metadata": {
    "ExecuteTime": {
     "end_time": "2021-07-02T04:02:12.087388Z",
     "start_time": "2021-07-02T04:02:12.082390Z"
    },
    "hidden": true
   },
   "outputs": [],
   "source": [
    "# 6. O que podemos concluir?"
   ]
  },
  {
   "cell_type": "code",
   "execution_count": 28,
   "id": "e99c90cd",
   "metadata": {
    "ExecuteTime": {
     "end_time": "2021-07-02T04:02:24.500508Z",
     "start_time": "2021-07-02T04:02:24.496506Z"
    },
    "hidden": true
   },
   "outputs": [],
   "source": [
    "# 7. Comparando os resultados, qual deles foi mais fácil de obter?"
   ]
  },
  {
   "cell_type": "markdown",
   "id": "53117c9d",
   "metadata": {
    "heading_collapsed": true
   },
   "source": [
    "# Exercícios - Hipóteses"
   ]
  },
  {
   "cell_type": "code",
   "execution_count": 29,
   "id": "32102860",
   "metadata": {
    "ExecuteTime": {
     "end_time": "2021-07-02T04:02:54.317583Z",
     "start_time": "2021-07-02T04:02:54.313603Z"
    },
    "hidden": true
   },
   "outputs": [],
   "source": [
    "# 1. Crie mais 2 outras hipóteses que poderiam ser feitas com base nos dados sobre carros."
   ]
  },
  {
   "cell_type": "code",
   "execution_count": 30,
   "id": "29fe91e0",
   "metadata": {
    "ExecuteTime": {
     "end_time": "2021-07-02T04:03:10.877740Z",
     "start_time": "2021-07-02T04:03:10.872773Z"
    },
    "hidden": true
   },
   "outputs": [],
   "source": [
    "# 2. Explique em que situações essas hipóteses poderiam ser utilizadas."
   ]
  },
  {
   "cell_type": "code",
   "execution_count": 31,
   "id": "94d2d18e",
   "metadata": {
    "ExecuteTime": {
     "end_time": "2021-07-02T04:03:22.168190Z",
     "start_time": "2021-07-02T04:03:22.162191Z"
    },
    "hidden": true
   },
   "outputs": [],
   "source": [
    "# 3. Cite 2 hipóteses que não poderiam ser testadas com os dados sobre carros."
   ]
  },
  {
   "cell_type": "code",
   "execution_count": 32,
   "id": "61d46242",
   "metadata": {
    "ExecuteTime": {
     "end_time": "2021-07-02T04:03:34.172403Z",
     "start_time": "2021-07-02T04:03:34.168405Z"
    },
    "hidden": true
   },
   "outputs": [],
   "source": [
    "# 4. Que outros dados seriam necessários para testá-las?"
   ]
  }
 ],
 "metadata": {
  "kernelspec": {
   "display_name": "Python 3",
   "language": "python",
   "name": "python3"
  },
  "language_info": {
   "codemirror_mode": {
    "name": "ipython",
    "version": 3
   },
   "file_extension": ".py",
   "mimetype": "text/x-python",
   "name": "python",
   "nbconvert_exporter": "python",
   "pygments_lexer": "ipython3",
   "version": "3.8.8"
  },
  "varInspector": {
   "cols": {
    "lenName": 16,
    "lenType": 16,
    "lenVar": 40
   },
   "kernels_config": {
    "python": {
     "delete_cmd_postfix": "",
     "delete_cmd_prefix": "del ",
     "library": "var_list.py",
     "varRefreshCmd": "print(var_dic_list())"
    },
    "r": {
     "delete_cmd_postfix": ") ",
     "delete_cmd_prefix": "rm(",
     "library": "var_list.r",
     "varRefreshCmd": "cat(var_dic_list()) "
    }
   },
   "types_to_exclude": [
    "module",
    "function",
    "builtin_function_or_method",
    "instance",
    "_Feature"
   ],
   "window_display": false
  }
 },
 "nbformat": 4,
 "nbformat_minor": 5
}
