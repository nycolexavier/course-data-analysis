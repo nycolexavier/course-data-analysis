{
 "cells": [
  {
   "cell_type": "code",
   "execution_count": 15,
   "id": "3968b93b",
   "metadata": {
    "ExecuteTime": {
     "end_time": "2021-07-02T03:01:48.387057Z",
     "start_time": "2021-07-02T03:01:48.295021Z"
    }
   },
   "outputs": [],
   "source": [
    "import pandas as pd\n",
    "\n",
    "df = pd.read_csv('world_happiness_report_2015.csv')"
   ]
  },
  {
   "cell_type": "markdown",
   "id": "901938c9",
   "metadata": {
    "heading_collapsed": true
   },
   "source": [
    "# Exercícios - Operações "
   ]
  },
  {
   "cell_type": "code",
   "execution_count": 16,
   "id": "393eb9c3",
   "metadata": {
    "ExecuteTime": {
     "end_time": "2021-07-02T03:01:50.318548Z",
     "start_time": "2021-07-02T03:01:50.302584Z"
    },
    "hidden": true
   },
   "outputs": [],
   "source": [
    "# renomeando\n",
    "\n",
    "df.rename(columns={'happiness rank': 'rank_felicidade'}, inplace=True)\n",
    "df.rename(columns={'happiness score': 'score_felicidade'}, inplace=True)\n",
    "df.rename(columns={'standard error': 'stand_error'}, inplace=True)\n",
    "df.rename(columns={'economy (GDP per Capita)' : 'PIB'}, inplace=True)\n",
    "df.rename(columns={'health (Life Expectancy)': 'expect_vida'}, inplace=True)\n",
    "df.rename(columns={'trust (Government Corruption)': 'corrupcao'}, inplace=True)"
   ]
  },
  {
   "cell_type": "code",
   "execution_count": 17,
   "id": "b981e869",
   "metadata": {
    "ExecuteTime": {
     "end_time": "2021-07-02T03:01:52.614011Z",
     "start_time": "2021-07-02T03:01:52.557025Z"
    },
    "collapsed": true,
    "hidden": true
   },
   "outputs": [
    {
     "data": {
      "text/html": [
       "<div>\n",
       "<style scoped>\n",
       "    .dataframe tbody tr th:only-of-type {\n",
       "        vertical-align: middle;\n",
       "    }\n",
       "\n",
       "    .dataframe tbody tr th {\n",
       "        vertical-align: top;\n",
       "    }\n",
       "\n",
       "    .dataframe thead th {\n",
       "        text-align: right;\n",
       "    }\n",
       "</style>\n",
       "<table border=\"1\" class=\"dataframe\">\n",
       "  <thead>\n",
       "    <tr style=\"text-align: right;\">\n",
       "      <th></th>\n",
       "      <th>country</th>\n",
       "      <th>region</th>\n",
       "      <th>rank_felicidade</th>\n",
       "      <th>score_felicidade</th>\n",
       "      <th>stand_error</th>\n",
       "      <th>PIB</th>\n",
       "      <th>family</th>\n",
       "      <th>expect_vida</th>\n",
       "      <th>freedom</th>\n",
       "      <th>corrupcao</th>\n",
       "      <th>generosity</th>\n",
       "      <th>dystopia residual</th>\n",
       "    </tr>\n",
       "  </thead>\n",
       "  <tbody>\n",
       "    <tr>\n",
       "      <th>0</th>\n",
       "      <td>Switzerland</td>\n",
       "      <td>Western Europe</td>\n",
       "      <td>1</td>\n",
       "      <td>7,587</td>\n",
       "      <td>3,411</td>\n",
       "      <td>139,651</td>\n",
       "      <td>134,951</td>\n",
       "      <td>94,143</td>\n",
       "      <td>66,557</td>\n",
       "      <td>41,978</td>\n",
       "      <td>29,678</td>\n",
       "      <td>251,738</td>\n",
       "    </tr>\n",
       "    <tr>\n",
       "      <th>1</th>\n",
       "      <td>Iceland</td>\n",
       "      <td>Western Europe</td>\n",
       "      <td>2</td>\n",
       "      <td>7,561</td>\n",
       "      <td>4,884</td>\n",
       "      <td>130,232</td>\n",
       "      <td>140,223</td>\n",
       "      <td>94,784</td>\n",
       "      <td>62,877</td>\n",
       "      <td>14,145</td>\n",
       "      <td>4,363</td>\n",
       "      <td>270,201</td>\n",
       "    </tr>\n",
       "    <tr>\n",
       "      <th>2</th>\n",
       "      <td>Denmark</td>\n",
       "      <td>Western Europe</td>\n",
       "      <td>3</td>\n",
       "      <td>7,527</td>\n",
       "      <td>3,328</td>\n",
       "      <td>132,548</td>\n",
       "      <td>136,058</td>\n",
       "      <td>87,464</td>\n",
       "      <td>64,938</td>\n",
       "      <td>48,357</td>\n",
       "      <td>34,139</td>\n",
       "      <td>249,204</td>\n",
       "    </tr>\n",
       "    <tr>\n",
       "      <th>3</th>\n",
       "      <td>Norway</td>\n",
       "      <td>Western Europe</td>\n",
       "      <td>4</td>\n",
       "      <td>7,522</td>\n",
       "      <td>388</td>\n",
       "      <td>1,459</td>\n",
       "      <td>133,095</td>\n",
       "      <td>88,521</td>\n",
       "      <td>66,973</td>\n",
       "      <td>36,503</td>\n",
       "      <td>34,699</td>\n",
       "      <td>246,531</td>\n",
       "    </tr>\n",
       "    <tr>\n",
       "      <th>4</th>\n",
       "      <td>Canada</td>\n",
       "      <td>North America</td>\n",
       "      <td>5</td>\n",
       "      <td>7,427</td>\n",
       "      <td>3,553</td>\n",
       "      <td>132,629</td>\n",
       "      <td>132,261</td>\n",
       "      <td>90,563</td>\n",
       "      <td>63,297</td>\n",
       "      <td>32,957</td>\n",
       "      <td>45,811</td>\n",
       "      <td>245,176</td>\n",
       "    </tr>\n",
       "    <tr>\n",
       "      <th>...</th>\n",
       "      <td>...</td>\n",
       "      <td>...</td>\n",
       "      <td>...</td>\n",
       "      <td>...</td>\n",
       "      <td>...</td>\n",
       "      <td>...</td>\n",
       "      <td>...</td>\n",
       "      <td>...</td>\n",
       "      <td>...</td>\n",
       "      <td>...</td>\n",
       "      <td>...</td>\n",
       "      <td>...</td>\n",
       "    </tr>\n",
       "    <tr>\n",
       "      <th>159</th>\n",
       "      <td>Rwanda</td>\n",
       "      <td>Sub-Saharan Africa</td>\n",
       "      <td>154</td>\n",
       "      <td>3,465</td>\n",
       "      <td>3,464</td>\n",
       "      <td>22,208</td>\n",
       "      <td>7,737</td>\n",
       "      <td>42,864</td>\n",
       "      <td>59,201</td>\n",
       "      <td>55,191</td>\n",
       "      <td>22,628</td>\n",
       "      <td>67,042</td>\n",
       "    </tr>\n",
       "    <tr>\n",
       "      <th>160</th>\n",
       "      <td>Benin</td>\n",
       "      <td>Sub-Saharan Africa</td>\n",
       "      <td>155</td>\n",
       "      <td>3.34</td>\n",
       "      <td>NaN</td>\n",
       "      <td>28,665</td>\n",
       "      <td>35,386</td>\n",
       "      <td>3,191</td>\n",
       "      <td>4,845</td>\n",
       "      <td>801</td>\n",
       "      <td>1,826</td>\n",
       "      <td>NaN</td>\n",
       "    </tr>\n",
       "    <tr>\n",
       "      <th>161</th>\n",
       "      <td>Syria</td>\n",
       "      <td>Middle East and Northern Africa</td>\n",
       "      <td>156</td>\n",
       "      <td>3,006</td>\n",
       "      <td>5,015</td>\n",
       "      <td>6,632</td>\n",
       "      <td>47,489</td>\n",
       "      <td>72,193</td>\n",
       "      <td>15,684</td>\n",
       "      <td>18,906</td>\n",
       "      <td>47,179</td>\n",
       "      <td>32,858</td>\n",
       "    </tr>\n",
       "    <tr>\n",
       "      <th>162</th>\n",
       "      <td>Burundi</td>\n",
       "      <td>Sub-Saharan Africa</td>\n",
       "      <td>157</td>\n",
       "      <td>2,905</td>\n",
       "      <td>8,658</td>\n",
       "      <td>153</td>\n",
       "      <td>41,587</td>\n",
       "      <td>22,396</td>\n",
       "      <td>1,185</td>\n",
       "      <td>10,062</td>\n",
       "      <td>19,727</td>\n",
       "      <td>NaN</td>\n",
       "    </tr>\n",
       "    <tr>\n",
       "      <th>163</th>\n",
       "      <td>Togo</td>\n",
       "      <td>Sub-Saharan Africa</td>\n",
       "      <td>158</td>\n",
       "      <td>2,839</td>\n",
       "      <td>6,727</td>\n",
       "      <td>20,868</td>\n",
       "      <td>13,995</td>\n",
       "      <td>28,443</td>\n",
       "      <td>36,453</td>\n",
       "      <td>10,731</td>\n",
       "      <td>16,681</td>\n",
       "      <td>NaN</td>\n",
       "    </tr>\n",
       "  </tbody>\n",
       "</table>\n",
       "<p>164 rows × 12 columns</p>\n",
       "</div>"
      ],
      "text/plain": [
       "         country                           region  rank_felicidade  \\\n",
       "0    Switzerland                   Western Europe                1   \n",
       "1        Iceland                   Western Europe                2   \n",
       "2        Denmark                   Western Europe                3   \n",
       "3         Norway                   Western Europe                4   \n",
       "4         Canada                    North America                5   \n",
       "..           ...                              ...              ...   \n",
       "159       Rwanda               Sub-Saharan Africa              154   \n",
       "160        Benin               Sub-Saharan Africa              155   \n",
       "161        Syria  Middle East and Northern Africa              156   \n",
       "162      Burundi               Sub-Saharan Africa              157   \n",
       "163         Togo               Sub-Saharan Africa              158   \n",
       "\n",
       "    score_felicidade stand_error      PIB   family expect_vida freedom  \\\n",
       "0              7,587       3,411  139,651  134,951      94,143  66,557   \n",
       "1              7,561       4,884  130,232  140,223      94,784  62,877   \n",
       "2              7,527       3,328  132,548  136,058      87,464  64,938   \n",
       "3              7,522         388    1,459  133,095      88,521  66,973   \n",
       "4              7,427       3,553  132,629  132,261      90,563  63,297   \n",
       "..               ...         ...      ...      ...         ...     ...   \n",
       "159            3,465       3,464   22,208    7,737      42,864  59,201   \n",
       "160             3.34         NaN   28,665   35,386       3,191   4,845   \n",
       "161            3,006       5,015    6,632   47,489      72,193  15,684   \n",
       "162            2,905       8,658      153   41,587      22,396   1,185   \n",
       "163            2,839       6,727   20,868   13,995      28,443  36,453   \n",
       "\n",
       "    corrupcao generosity dystopia residual  \n",
       "0      41,978     29,678           251,738  \n",
       "1      14,145      4,363           270,201  \n",
       "2      48,357     34,139           249,204  \n",
       "3      36,503     34,699           246,531  \n",
       "4      32,957     45,811           245,176  \n",
       "..        ...        ...               ...  \n",
       "159    55,191     22,628            67,042  \n",
       "160       801      1,826               NaN  \n",
       "161    18,906     47,179            32,858  \n",
       "162    10,062     19,727               NaN  \n",
       "163    10,731     16,681               NaN  \n",
       "\n",
       "[164 rows x 12 columns]"
      ]
     },
     "execution_count": 17,
     "metadata": {},
     "output_type": "execute_result"
    }
   ],
   "source": [
    "df"
   ]
  },
  {
   "cell_type": "code",
   "execution_count": 27,
   "id": "7be805ae",
   "metadata": {
    "ExecuteTime": {
     "end_time": "2021-07-02T03:05:09.986828Z",
     "start_time": "2021-07-02T03:05:09.926835Z"
    },
    "collapsed": true,
    "hidden": true
   },
   "outputs": [
    {
     "ename": "TypeError",
     "evalue": "Could not convert 139,651130,232132,5481,459132,629129,025132,944133,171125,018133,358122,857132,629129,025132,944133,17195,578133,723102,054139,45198,124156,391133,596130,782142,727126,637136,011104,424152,186106,353132,792110,715169,042127,778105,351136,011104,424117,898106,16691,8619,669139,541123,0111.2074129,098155,42299,534121,18376,45474,55363,244116,891127,074124,46186,402132,376125,11468,13359,44875,985112,254118,498114,72359,32590,019103,192112,555112,486108,254113,145113,76481,038120,806120,81393,92980,14895,847100,761138,604115,17482,82763,216106,09847,42865,43577,042102,38959,54390,19897,43889,01247,038104,34592,053115,991111,31270,53218,84773,47991,8518,30887,86783,22337,54589,53759,06682,81971,206115,406102,564112,09459,53239,04788,11359,86739,7531.198879,90798,54992,04954,55827171264,49952,10726,673035,99719,07333,02445,40736,47144,02576,82199,35527,1087,4191,60483,5244,225101,2168,81854,64975,77826,07467,86623,90621,10236,498106,02469446,0382,85220,82478534,19317,41746,53425,81231,98222,20828,6656,63215320,868 to numeric",
     "output_type": "error",
     "traceback": [
      "\u001b[1;31m---------------------------------------------------------------------------\u001b[0m",
      "\u001b[1;31mValueError\u001b[0m                                Traceback (most recent call last)",
      "\u001b[1;32m~\\anaconda3\\lib\\site-packages\\pandas\\core\\nanops.py\u001b[0m in \u001b[0;36m_ensure_numeric\u001b[1;34m(x)\u001b[0m\n\u001b[0;32m   1536\u001b[0m         \u001b[1;32mtry\u001b[0m\u001b[1;33m:\u001b[0m\u001b[1;33m\u001b[0m\u001b[1;33m\u001b[0m\u001b[0m\n\u001b[1;32m-> 1537\u001b[1;33m             \u001b[0mx\u001b[0m \u001b[1;33m=\u001b[0m \u001b[0mfloat\u001b[0m\u001b[1;33m(\u001b[0m\u001b[0mx\u001b[0m\u001b[1;33m)\u001b[0m\u001b[1;33m\u001b[0m\u001b[1;33m\u001b[0m\u001b[0m\n\u001b[0m\u001b[0;32m   1538\u001b[0m         \u001b[1;32mexcept\u001b[0m \u001b[0mValueError\u001b[0m\u001b[1;33m:\u001b[0m\u001b[1;33m\u001b[0m\u001b[1;33m\u001b[0m\u001b[0m\n",
      "\u001b[1;31mValueError\u001b[0m: could not convert string to float: '139,651130,232132,5481,459132,629129,025132,944133,171125,018133,358122,857132,629129,025132,944133,17195,578133,723102,054139,45198,124156,391133,596130,782142,727126,637136,011104,424152,186106,353132,792110,715169,042127,778105,351136,011104,424117,898106,16691,8619,669139,541123,0111.2074129,098155,42299,534121,18376,45474,55363,244116,891127,074124,46186,402132,376125,11468,13359,44875,985112,254118,498114,72359,32590,019103,192112,555112,486108,254113,145113,76481,038120,806120,81393,92980,14895,847100,761138,604115,17482,82763,216106,09847,42865,43577,042102,38959,54390,19897,43889,01247,038104,34592,053115,991111,31270,53218,84773,47991,8518,30887,86783,22337,54589,53759,06682,81971,206115,406102,564112,09459,53239,04788,11359,86739,7531.198879,90798,54992,04954,55827171264,49952,10726,673035,99719,07333,02445,40736,47144,02576,82199,35527,1087,4191,60483,5244,225101,2168,81854,64975,77826,07467,86623,90621,10236,498106,02469446,0382,85220,82478534,19317,41746,53425,81231,98222,20828,6656,63215320,868'",
      "\nDuring handling of the above exception, another exception occurred:\n",
      "\u001b[1;31mValueError\u001b[0m                                Traceback (most recent call last)",
      "\u001b[1;32m~\\anaconda3\\lib\\site-packages\\pandas\\core\\nanops.py\u001b[0m in \u001b[0;36m_ensure_numeric\u001b[1;34m(x)\u001b[0m\n\u001b[0;32m   1540\u001b[0m             \u001b[1;32mtry\u001b[0m\u001b[1;33m:\u001b[0m\u001b[1;33m\u001b[0m\u001b[1;33m\u001b[0m\u001b[0m\n\u001b[1;32m-> 1541\u001b[1;33m                 \u001b[0mx\u001b[0m \u001b[1;33m=\u001b[0m \u001b[0mcomplex\u001b[0m\u001b[1;33m(\u001b[0m\u001b[0mx\u001b[0m\u001b[1;33m)\u001b[0m\u001b[1;33m\u001b[0m\u001b[1;33m\u001b[0m\u001b[0m\n\u001b[0m\u001b[0;32m   1542\u001b[0m             \u001b[1;32mexcept\u001b[0m \u001b[0mValueError\u001b[0m \u001b[1;32mas\u001b[0m \u001b[0merr\u001b[0m\u001b[1;33m:\u001b[0m\u001b[1;33m\u001b[0m\u001b[1;33m\u001b[0m\u001b[0m\n",
      "\u001b[1;31mValueError\u001b[0m: complex() arg is a malformed string",
      "\nThe above exception was the direct cause of the following exception:\n",
      "\u001b[1;31mTypeError\u001b[0m                                 Traceback (most recent call last)",
      "\u001b[1;32m<ipython-input-27-deeeb9fbba09>\u001b[0m in \u001b[0;36m<module>\u001b[1;34m\u001b[0m\n\u001b[0;32m      1\u001b[0m \u001b[1;31m# 1. Qual a média do score_felicidade\u001b[0m\u001b[1;33m\u001b[0m\u001b[1;33m\u001b[0m\u001b[1;33m\u001b[0m\u001b[0m\n\u001b[1;32m----> 2\u001b[1;33m \u001b[0mdf\u001b[0m\u001b[1;33m.\u001b[0m\u001b[0mPIB\u001b[0m\u001b[1;33m.\u001b[0m\u001b[0mmean\u001b[0m\u001b[1;33m(\u001b[0m\u001b[1;33m)\u001b[0m\u001b[1;33m\u001b[0m\u001b[1;33m\u001b[0m\u001b[0m\n\u001b[0m",
      "\u001b[1;32m~\\anaconda3\\lib\\site-packages\\pandas\\core\\generic.py\u001b[0m in \u001b[0;36mmean\u001b[1;34m(self, axis, skipna, level, numeric_only, **kwargs)\u001b[0m\n\u001b[0;32m  11116\u001b[0m         )\n\u001b[0;32m  11117\u001b[0m         \u001b[1;32mdef\u001b[0m \u001b[0mmean\u001b[0m\u001b[1;33m(\u001b[0m\u001b[0mself\u001b[0m\u001b[1;33m,\u001b[0m \u001b[0maxis\u001b[0m\u001b[1;33m=\u001b[0m\u001b[1;32mNone\u001b[0m\u001b[1;33m,\u001b[0m \u001b[0mskipna\u001b[0m\u001b[1;33m=\u001b[0m\u001b[1;32mNone\u001b[0m\u001b[1;33m,\u001b[0m \u001b[0mlevel\u001b[0m\u001b[1;33m=\u001b[0m\u001b[1;32mNone\u001b[0m\u001b[1;33m,\u001b[0m \u001b[0mnumeric_only\u001b[0m\u001b[1;33m=\u001b[0m\u001b[1;32mNone\u001b[0m\u001b[1;33m,\u001b[0m \u001b[1;33m**\u001b[0m\u001b[0mkwargs\u001b[0m\u001b[1;33m)\u001b[0m\u001b[1;33m:\u001b[0m\u001b[1;33m\u001b[0m\u001b[1;33m\u001b[0m\u001b[0m\n\u001b[1;32m> 11118\u001b[1;33m             \u001b[1;32mreturn\u001b[0m \u001b[0mNDFrame\u001b[0m\u001b[1;33m.\u001b[0m\u001b[0mmean\u001b[0m\u001b[1;33m(\u001b[0m\u001b[0mself\u001b[0m\u001b[1;33m,\u001b[0m \u001b[0maxis\u001b[0m\u001b[1;33m,\u001b[0m \u001b[0mskipna\u001b[0m\u001b[1;33m,\u001b[0m \u001b[0mlevel\u001b[0m\u001b[1;33m,\u001b[0m \u001b[0mnumeric_only\u001b[0m\u001b[1;33m,\u001b[0m \u001b[1;33m**\u001b[0m\u001b[0mkwargs\u001b[0m\u001b[1;33m)\u001b[0m\u001b[1;33m\u001b[0m\u001b[1;33m\u001b[0m\u001b[0m\n\u001b[0m\u001b[0;32m  11119\u001b[0m \u001b[1;33m\u001b[0m\u001b[0m\n\u001b[0;32m  11120\u001b[0m         \u001b[1;31m# pandas\\core\\generic.py:10924: error: Cannot assign to a method\u001b[0m\u001b[1;33m\u001b[0m\u001b[1;33m\u001b[0m\u001b[1;33m\u001b[0m\u001b[0m\n",
      "\u001b[1;32m~\\anaconda3\\lib\\site-packages\\pandas\\core\\generic.py\u001b[0m in \u001b[0;36mmean\u001b[1;34m(self, axis, skipna, level, numeric_only, **kwargs)\u001b[0m\n\u001b[0;32m  10724\u001b[0m \u001b[1;33m\u001b[0m\u001b[0m\n\u001b[0;32m  10725\u001b[0m     \u001b[1;32mdef\u001b[0m \u001b[0mmean\u001b[0m\u001b[1;33m(\u001b[0m\u001b[0mself\u001b[0m\u001b[1;33m,\u001b[0m \u001b[0maxis\u001b[0m\u001b[1;33m=\u001b[0m\u001b[1;32mNone\u001b[0m\u001b[1;33m,\u001b[0m \u001b[0mskipna\u001b[0m\u001b[1;33m=\u001b[0m\u001b[1;32mNone\u001b[0m\u001b[1;33m,\u001b[0m \u001b[0mlevel\u001b[0m\u001b[1;33m=\u001b[0m\u001b[1;32mNone\u001b[0m\u001b[1;33m,\u001b[0m \u001b[0mnumeric_only\u001b[0m\u001b[1;33m=\u001b[0m\u001b[1;32mNone\u001b[0m\u001b[1;33m,\u001b[0m \u001b[1;33m**\u001b[0m\u001b[0mkwargs\u001b[0m\u001b[1;33m)\u001b[0m\u001b[1;33m:\u001b[0m\u001b[1;33m\u001b[0m\u001b[1;33m\u001b[0m\u001b[0m\n\u001b[1;32m> 10726\u001b[1;33m         return self._stat_function(\n\u001b[0m\u001b[0;32m  10727\u001b[0m             \u001b[1;34m\"mean\"\u001b[0m\u001b[1;33m,\u001b[0m \u001b[0mnanops\u001b[0m\u001b[1;33m.\u001b[0m\u001b[0mnanmean\u001b[0m\u001b[1;33m,\u001b[0m \u001b[0maxis\u001b[0m\u001b[1;33m,\u001b[0m \u001b[0mskipna\u001b[0m\u001b[1;33m,\u001b[0m \u001b[0mlevel\u001b[0m\u001b[1;33m,\u001b[0m \u001b[0mnumeric_only\u001b[0m\u001b[1;33m,\u001b[0m \u001b[1;33m**\u001b[0m\u001b[0mkwargs\u001b[0m\u001b[1;33m\u001b[0m\u001b[1;33m\u001b[0m\u001b[0m\n\u001b[0;32m  10728\u001b[0m         )\n",
      "\u001b[1;32m~\\anaconda3\\lib\\site-packages\\pandas\\core\\generic.py\u001b[0m in \u001b[0;36m_stat_function\u001b[1;34m(self, name, func, axis, skipna, level, numeric_only, **kwargs)\u001b[0m\n\u001b[0;32m  10709\u001b[0m         \u001b[1;32mif\u001b[0m \u001b[0mlevel\u001b[0m \u001b[1;32mis\u001b[0m \u001b[1;32mnot\u001b[0m \u001b[1;32mNone\u001b[0m\u001b[1;33m:\u001b[0m\u001b[1;33m\u001b[0m\u001b[1;33m\u001b[0m\u001b[0m\n\u001b[0;32m  10710\u001b[0m             \u001b[1;32mreturn\u001b[0m \u001b[0mself\u001b[0m\u001b[1;33m.\u001b[0m\u001b[0m_agg_by_level\u001b[0m\u001b[1;33m(\u001b[0m\u001b[0mname\u001b[0m\u001b[1;33m,\u001b[0m \u001b[0maxis\u001b[0m\u001b[1;33m=\u001b[0m\u001b[0maxis\u001b[0m\u001b[1;33m,\u001b[0m \u001b[0mlevel\u001b[0m\u001b[1;33m=\u001b[0m\u001b[0mlevel\u001b[0m\u001b[1;33m,\u001b[0m \u001b[0mskipna\u001b[0m\u001b[1;33m=\u001b[0m\u001b[0mskipna\u001b[0m\u001b[1;33m)\u001b[0m\u001b[1;33m\u001b[0m\u001b[1;33m\u001b[0m\u001b[0m\n\u001b[1;32m> 10711\u001b[1;33m         return self._reduce(\n\u001b[0m\u001b[0;32m  10712\u001b[0m             \u001b[0mfunc\u001b[0m\u001b[1;33m,\u001b[0m \u001b[0mname\u001b[0m\u001b[1;33m=\u001b[0m\u001b[0mname\u001b[0m\u001b[1;33m,\u001b[0m \u001b[0maxis\u001b[0m\u001b[1;33m=\u001b[0m\u001b[0maxis\u001b[0m\u001b[1;33m,\u001b[0m \u001b[0mskipna\u001b[0m\u001b[1;33m=\u001b[0m\u001b[0mskipna\u001b[0m\u001b[1;33m,\u001b[0m \u001b[0mnumeric_only\u001b[0m\u001b[1;33m=\u001b[0m\u001b[0mnumeric_only\u001b[0m\u001b[1;33m\u001b[0m\u001b[1;33m\u001b[0m\u001b[0m\n\u001b[0;32m  10713\u001b[0m         )\n",
      "\u001b[1;32m~\\anaconda3\\lib\\site-packages\\pandas\\core\\series.py\u001b[0m in \u001b[0;36m_reduce\u001b[1;34m(self, op, name, axis, skipna, numeric_only, filter_type, **kwds)\u001b[0m\n\u001b[0;32m   4180\u001b[0m                 )\n\u001b[0;32m   4181\u001b[0m             \u001b[1;32mwith\u001b[0m \u001b[0mnp\u001b[0m\u001b[1;33m.\u001b[0m\u001b[0merrstate\u001b[0m\u001b[1;33m(\u001b[0m\u001b[0mall\u001b[0m\u001b[1;33m=\u001b[0m\u001b[1;34m\"ignore\"\u001b[0m\u001b[1;33m)\u001b[0m\u001b[1;33m:\u001b[0m\u001b[1;33m\u001b[0m\u001b[1;33m\u001b[0m\u001b[0m\n\u001b[1;32m-> 4182\u001b[1;33m                 \u001b[1;32mreturn\u001b[0m \u001b[0mop\u001b[0m\u001b[1;33m(\u001b[0m\u001b[0mdelegate\u001b[0m\u001b[1;33m,\u001b[0m \u001b[0mskipna\u001b[0m\u001b[1;33m=\u001b[0m\u001b[0mskipna\u001b[0m\u001b[1;33m,\u001b[0m \u001b[1;33m**\u001b[0m\u001b[0mkwds\u001b[0m\u001b[1;33m)\u001b[0m\u001b[1;33m\u001b[0m\u001b[1;33m\u001b[0m\u001b[0m\n\u001b[0m\u001b[0;32m   4183\u001b[0m \u001b[1;33m\u001b[0m\u001b[0m\n\u001b[0;32m   4184\u001b[0m     \u001b[1;32mdef\u001b[0m \u001b[0m_reindex_indexer\u001b[0m\u001b[1;33m(\u001b[0m\u001b[0mself\u001b[0m\u001b[1;33m,\u001b[0m \u001b[0mnew_index\u001b[0m\u001b[1;33m,\u001b[0m \u001b[0mindexer\u001b[0m\u001b[1;33m,\u001b[0m \u001b[0mcopy\u001b[0m\u001b[1;33m)\u001b[0m\u001b[1;33m:\u001b[0m\u001b[1;33m\u001b[0m\u001b[1;33m\u001b[0m\u001b[0m\n",
      "\u001b[1;32m~\\anaconda3\\lib\\site-packages\\pandas\\core\\nanops.py\u001b[0m in \u001b[0;36m_f\u001b[1;34m(*args, **kwargs)\u001b[0m\n\u001b[0;32m     71\u001b[0m             \u001b[1;32mtry\u001b[0m\u001b[1;33m:\u001b[0m\u001b[1;33m\u001b[0m\u001b[1;33m\u001b[0m\u001b[0m\n\u001b[0;32m     72\u001b[0m                 \u001b[1;32mwith\u001b[0m \u001b[0mnp\u001b[0m\u001b[1;33m.\u001b[0m\u001b[0merrstate\u001b[0m\u001b[1;33m(\u001b[0m\u001b[0minvalid\u001b[0m\u001b[1;33m=\u001b[0m\u001b[1;34m\"ignore\"\u001b[0m\u001b[1;33m)\u001b[0m\u001b[1;33m:\u001b[0m\u001b[1;33m\u001b[0m\u001b[1;33m\u001b[0m\u001b[0m\n\u001b[1;32m---> 73\u001b[1;33m                     \u001b[1;32mreturn\u001b[0m \u001b[0mf\u001b[0m\u001b[1;33m(\u001b[0m\u001b[1;33m*\u001b[0m\u001b[0margs\u001b[0m\u001b[1;33m,\u001b[0m \u001b[1;33m**\u001b[0m\u001b[0mkwargs\u001b[0m\u001b[1;33m)\u001b[0m\u001b[1;33m\u001b[0m\u001b[1;33m\u001b[0m\u001b[0m\n\u001b[0m\u001b[0;32m     74\u001b[0m             \u001b[1;32mexcept\u001b[0m \u001b[0mValueError\u001b[0m \u001b[1;32mas\u001b[0m \u001b[0me\u001b[0m\u001b[1;33m:\u001b[0m\u001b[1;33m\u001b[0m\u001b[1;33m\u001b[0m\u001b[0m\n\u001b[0;32m     75\u001b[0m                 \u001b[1;31m# we want to transform an object array\u001b[0m\u001b[1;33m\u001b[0m\u001b[1;33m\u001b[0m\u001b[1;33m\u001b[0m\u001b[0m\n",
      "\u001b[1;32m~\\anaconda3\\lib\\site-packages\\pandas\\core\\nanops.py\u001b[0m in \u001b[0;36mf\u001b[1;34m(values, axis, skipna, **kwds)\u001b[0m\n\u001b[0;32m    133\u001b[0m                     \u001b[0mresult\u001b[0m \u001b[1;33m=\u001b[0m \u001b[0malt\u001b[0m\u001b[1;33m(\u001b[0m\u001b[0mvalues\u001b[0m\u001b[1;33m,\u001b[0m \u001b[0maxis\u001b[0m\u001b[1;33m=\u001b[0m\u001b[0maxis\u001b[0m\u001b[1;33m,\u001b[0m \u001b[0mskipna\u001b[0m\u001b[1;33m=\u001b[0m\u001b[0mskipna\u001b[0m\u001b[1;33m,\u001b[0m \u001b[1;33m**\u001b[0m\u001b[0mkwds\u001b[0m\u001b[1;33m)\u001b[0m\u001b[1;33m\u001b[0m\u001b[1;33m\u001b[0m\u001b[0m\n\u001b[0;32m    134\u001b[0m             \u001b[1;32melse\u001b[0m\u001b[1;33m:\u001b[0m\u001b[1;33m\u001b[0m\u001b[1;33m\u001b[0m\u001b[0m\n\u001b[1;32m--> 135\u001b[1;33m                 \u001b[0mresult\u001b[0m \u001b[1;33m=\u001b[0m \u001b[0malt\u001b[0m\u001b[1;33m(\u001b[0m\u001b[0mvalues\u001b[0m\u001b[1;33m,\u001b[0m \u001b[0maxis\u001b[0m\u001b[1;33m=\u001b[0m\u001b[0maxis\u001b[0m\u001b[1;33m,\u001b[0m \u001b[0mskipna\u001b[0m\u001b[1;33m=\u001b[0m\u001b[0mskipna\u001b[0m\u001b[1;33m,\u001b[0m \u001b[1;33m**\u001b[0m\u001b[0mkwds\u001b[0m\u001b[1;33m)\u001b[0m\u001b[1;33m\u001b[0m\u001b[1;33m\u001b[0m\u001b[0m\n\u001b[0m\u001b[0;32m    136\u001b[0m \u001b[1;33m\u001b[0m\u001b[0m\n\u001b[0;32m    137\u001b[0m             \u001b[1;32mreturn\u001b[0m \u001b[0mresult\u001b[0m\u001b[1;33m\u001b[0m\u001b[1;33m\u001b[0m\u001b[0m\n",
      "\u001b[1;32m~\\anaconda3\\lib\\site-packages\\pandas\\core\\nanops.py\u001b[0m in \u001b[0;36mnew_func\u001b[1;34m(values, axis, skipna, mask, **kwargs)\u001b[0m\n\u001b[0;32m    392\u001b[0m             \u001b[0mmask\u001b[0m \u001b[1;33m=\u001b[0m \u001b[0misna\u001b[0m\u001b[1;33m(\u001b[0m\u001b[0mvalues\u001b[0m\u001b[1;33m)\u001b[0m\u001b[1;33m\u001b[0m\u001b[1;33m\u001b[0m\u001b[0m\n\u001b[0;32m    393\u001b[0m \u001b[1;33m\u001b[0m\u001b[0m\n\u001b[1;32m--> 394\u001b[1;33m         \u001b[0mresult\u001b[0m \u001b[1;33m=\u001b[0m \u001b[0mfunc\u001b[0m\u001b[1;33m(\u001b[0m\u001b[0mvalues\u001b[0m\u001b[1;33m,\u001b[0m \u001b[0maxis\u001b[0m\u001b[1;33m=\u001b[0m\u001b[0maxis\u001b[0m\u001b[1;33m,\u001b[0m \u001b[0mskipna\u001b[0m\u001b[1;33m=\u001b[0m\u001b[0mskipna\u001b[0m\u001b[1;33m,\u001b[0m \u001b[0mmask\u001b[0m\u001b[1;33m=\u001b[0m\u001b[0mmask\u001b[0m\u001b[1;33m,\u001b[0m \u001b[1;33m**\u001b[0m\u001b[0mkwargs\u001b[0m\u001b[1;33m)\u001b[0m\u001b[1;33m\u001b[0m\u001b[1;33m\u001b[0m\u001b[0m\n\u001b[0m\u001b[0;32m    395\u001b[0m \u001b[1;33m\u001b[0m\u001b[0m\n\u001b[0;32m    396\u001b[0m         \u001b[1;32mif\u001b[0m \u001b[0mdatetimelike\u001b[0m\u001b[1;33m:\u001b[0m\u001b[1;33m\u001b[0m\u001b[1;33m\u001b[0m\u001b[0m\n",
      "\u001b[1;32m~\\anaconda3\\lib\\site-packages\\pandas\\core\\nanops.py\u001b[0m in \u001b[0;36mnanmean\u001b[1;34m(values, axis, skipna, mask)\u001b[0m\n\u001b[0;32m    631\u001b[0m \u001b[1;33m\u001b[0m\u001b[0m\n\u001b[0;32m    632\u001b[0m     \u001b[0mcount\u001b[0m \u001b[1;33m=\u001b[0m \u001b[0m_get_counts\u001b[0m\u001b[1;33m(\u001b[0m\u001b[0mvalues\u001b[0m\u001b[1;33m.\u001b[0m\u001b[0mshape\u001b[0m\u001b[1;33m,\u001b[0m \u001b[0mmask\u001b[0m\u001b[1;33m,\u001b[0m \u001b[0maxis\u001b[0m\u001b[1;33m,\u001b[0m \u001b[0mdtype\u001b[0m\u001b[1;33m=\u001b[0m\u001b[0mdtype_count\u001b[0m\u001b[1;33m)\u001b[0m\u001b[1;33m\u001b[0m\u001b[1;33m\u001b[0m\u001b[0m\n\u001b[1;32m--> 633\u001b[1;33m     \u001b[0mthe_sum\u001b[0m \u001b[1;33m=\u001b[0m \u001b[0m_ensure_numeric\u001b[0m\u001b[1;33m(\u001b[0m\u001b[0mvalues\u001b[0m\u001b[1;33m.\u001b[0m\u001b[0msum\u001b[0m\u001b[1;33m(\u001b[0m\u001b[0maxis\u001b[0m\u001b[1;33m,\u001b[0m \u001b[0mdtype\u001b[0m\u001b[1;33m=\u001b[0m\u001b[0mdtype_sum\u001b[0m\u001b[1;33m)\u001b[0m\u001b[1;33m)\u001b[0m\u001b[1;33m\u001b[0m\u001b[1;33m\u001b[0m\u001b[0m\n\u001b[0m\u001b[0;32m    634\u001b[0m \u001b[1;33m\u001b[0m\u001b[0m\n\u001b[0;32m    635\u001b[0m     \u001b[1;32mif\u001b[0m \u001b[0maxis\u001b[0m \u001b[1;32mis\u001b[0m \u001b[1;32mnot\u001b[0m \u001b[1;32mNone\u001b[0m \u001b[1;32mand\u001b[0m \u001b[0mgetattr\u001b[0m\u001b[1;33m(\u001b[0m\u001b[0mthe_sum\u001b[0m\u001b[1;33m,\u001b[0m \u001b[1;34m\"ndim\"\u001b[0m\u001b[1;33m,\u001b[0m \u001b[1;32mFalse\u001b[0m\u001b[1;33m)\u001b[0m\u001b[1;33m:\u001b[0m\u001b[1;33m\u001b[0m\u001b[1;33m\u001b[0m\u001b[0m\n",
      "\u001b[1;32m~\\anaconda3\\lib\\site-packages\\pandas\\core\\nanops.py\u001b[0m in \u001b[0;36m_ensure_numeric\u001b[1;34m(x)\u001b[0m\n\u001b[0;32m   1542\u001b[0m             \u001b[1;32mexcept\u001b[0m \u001b[0mValueError\u001b[0m \u001b[1;32mas\u001b[0m \u001b[0merr\u001b[0m\u001b[1;33m:\u001b[0m\u001b[1;33m\u001b[0m\u001b[1;33m\u001b[0m\u001b[0m\n\u001b[0;32m   1543\u001b[0m                 \u001b[1;31m# e.g. \"foo\"\u001b[0m\u001b[1;33m\u001b[0m\u001b[1;33m\u001b[0m\u001b[1;33m\u001b[0m\u001b[0m\n\u001b[1;32m-> 1544\u001b[1;33m                 \u001b[1;32mraise\u001b[0m \u001b[0mTypeError\u001b[0m\u001b[1;33m(\u001b[0m\u001b[1;34mf\"Could not convert {x} to numeric\"\u001b[0m\u001b[1;33m)\u001b[0m \u001b[1;32mfrom\u001b[0m \u001b[0merr\u001b[0m\u001b[1;33m\u001b[0m\u001b[1;33m\u001b[0m\u001b[0m\n\u001b[0m\u001b[0;32m   1545\u001b[0m     \u001b[1;32mreturn\u001b[0m \u001b[0mx\u001b[0m\u001b[1;33m\u001b[0m\u001b[1;33m\u001b[0m\u001b[0m\n\u001b[0;32m   1546\u001b[0m \u001b[1;33m\u001b[0m\u001b[0m\n",
      "\u001b[1;31mTypeError\u001b[0m: Could not convert 139,651130,232132,5481,459132,629129,025132,944133,171125,018133,358122,857132,629129,025132,944133,17195,578133,723102,054139,45198,124156,391133,596130,782142,727126,637136,011104,424152,186106,353132,792110,715169,042127,778105,351136,011104,424117,898106,16691,8619,669139,541123,0111.2074129,098155,42299,534121,18376,45474,55363,244116,891127,074124,46186,402132,376125,11468,13359,44875,985112,254118,498114,72359,32590,019103,192112,555112,486108,254113,145113,76481,038120,806120,81393,92980,14895,847100,761138,604115,17482,82763,216106,09847,42865,43577,042102,38959,54390,19897,43889,01247,038104,34592,053115,991111,31270,53218,84773,47991,8518,30887,86783,22337,54589,53759,06682,81971,206115,406102,564112,09459,53239,04788,11359,86739,7531.198879,90798,54992,04954,55827171264,49952,10726,673035,99719,07333,02445,40736,47144,02576,82199,35527,1087,4191,60483,5244,225101,2168,81854,64975,77826,07467,86623,90621,10236,498106,02469446,0382,85220,82478534,19317,41746,53425,81231,98222,20828,6656,63215320,868 to numeric"
     ]
    }
   ],
   "source": [
    "# 1. Qual a média do score_felicidade\n",
    "df.PIB.mean()"
   ]
  },
  {
   "cell_type": "code",
   "execution_count": 5,
   "id": "76a8cefe",
   "metadata": {
    "ExecuteTime": {
     "end_time": "2021-07-02T02:56:08.107172Z",
     "start_time": "2021-07-02T02:56:08.102172Z"
    },
    "hidden": true
   },
   "outputs": [],
   "source": [
    "# 2. Qual a soma do PIB?"
   ]
  },
  {
   "cell_type": "code",
   "execution_count": 6,
   "id": "bc9de1cd",
   "metadata": {
    "ExecuteTime": {
     "end_time": "2021-07-02T02:56:21.953958Z",
     "start_time": "2021-07-02T02:56:21.949992Z"
    },
    "hidden": true
   },
   "outputs": [],
   "source": [
    "# 3. Qual a soma do freedom e corrupçao?"
   ]
  },
  {
   "cell_type": "code",
   "execution_count": 7,
   "id": "05c8bed0",
   "metadata": {
    "ExecuteTime": {
     "end_time": "2021-07-02T02:56:42.838108Z",
     "start_time": "2021-07-02T02:56:42.834109Z"
    },
    "hidden": true
   },
   "outputs": [],
   "source": [
    "# 4. Há dados duplicados? Quantos? Verifique quais são eles"
   ]
  },
  {
   "cell_type": "code",
   "execution_count": 8,
   "id": "ba5a0e55",
   "metadata": {
    "ExecuteTime": {
     "end_time": "2021-07-02T02:56:58.041578Z",
     "start_time": "2021-07-02T02:56:58.037579Z"
    },
    "hidden": true
   },
   "outputs": [],
   "source": [
    "# 5. Verifique a quantidade de dados faltantes"
   ]
  },
  {
   "cell_type": "code",
   "execution_count": 9,
   "id": "d4de637a",
   "metadata": {
    "ExecuteTime": {
     "end_time": "2021-07-02T02:57:35.482886Z",
     "start_time": "2021-07-02T02:57:35.478889Z"
    },
    "hidden": true
   },
   "outputs": [],
   "source": [
    "# 6. Crie um novo dataframe onde os valores de score_felcidade sejam substituídos por -9999"
   ]
  },
  {
   "cell_type": "code",
   "execution_count": 10,
   "id": "e291bdca",
   "metadata": {
    "ExecuteTime": {
     "end_time": "2021-07-02T02:58:07.923354Z",
     "start_time": "2021-07-02T02:58:07.918354Z"
    },
    "hidden": true
   },
   "outputs": [],
   "source": [
    "# 7. Quantas e quais são regions existentes nos dados?"
   ]
  },
  {
   "cell_type": "code",
   "execution_count": null,
   "id": "7dbbdc04",
   "metadata": {
    "hidden": true
   },
   "outputs": [],
   "source": [
    "# 8. Verifique a frequência dos dados segundo suas regiões. Qual a região com maior quantidade de dados? E a região com a menor quantidade?"
   ]
  },
  {
   "cell_type": "markdown",
   "id": "4547dd42",
   "metadata": {
    "heading_collapsed": true
   },
   "source": [
    "# Exercícios - Unindo dataframes"
   ]
  },
  {
   "cell_type": "code",
   "execution_count": 28,
   "id": "165ab723",
   "metadata": {
    "ExecuteTime": {
     "end_time": "2021-07-02T03:36:43.610267Z",
     "start_time": "2021-07-02T03:36:43.605268Z"
    },
    "hidden": true
   },
   "outputs": [],
   "source": [
    "# 1. Crie um dataframe para cada um dos arquivos nba_2015_a.csv, nba_2015_b.csv, nba_2015_c.csv, e bust_nba_2015.csv. Chame esses dataframes de df_a, df_b, df_c, bust, respectivamente"
   ]
  },
  {
   "cell_type": "code",
   "execution_count": 29,
   "id": "a33e7c66",
   "metadata": {
    "ExecuteTime": {
     "end_time": "2021-07-02T03:37:01.480119Z",
     "start_time": "2021-07-02T03:37:01.477121Z"
    },
    "hidden": true
   },
   "outputs": [],
   "source": [
    "# 2. Visualize o head() de cada um dos dataframes"
   ]
  },
  {
   "cell_type": "code",
   "execution_count": 30,
   "id": "b0741b44",
   "metadata": {
    "ExecuteTime": {
     "end_time": "2021-07-02T03:37:44.793061Z",
     "start_time": "2021-07-02T03:37:44.789062Z"
    },
    "hidden": true
   },
   "outputs": [],
   "source": [
    "# 3. Concatene os arquivos df_a, df_b, df_c usando a função concat() usando os índices. Salve um dataframe chamado df_total"
   ]
  },
  {
   "cell_type": "code",
   "execution_count": 31,
   "id": "2687391c",
   "metadata": {
    "ExecuteTime": {
     "end_time": "2021-07-02T03:38:20.162854Z",
     "start_time": "2021-07-02T03:38:20.157852Z"
    },
    "hidden": true
   },
   "outputs": [],
   "source": [
    "# 4. Faça a concatenação do dataframe df_total com o dataframe bust utilizando a função merge() e a variável ID."
   ]
  },
  {
   "cell_type": "code",
   "execution_count": null,
   "id": "6c1f5e40",
   "metadata": {
    "hidden": true
   },
   "outputs": [],
   "source": [
    "# 5. Busque a documentação das funções concat() e merge() e veja que outros parâmetros podem ser utilizados"
   ]
  },
  {
   "cell_type": "markdown",
   "id": "e70e7241",
   "metadata": {
    "heading_collapsed": true
   },
   "source": [
    "# Exercícios - Agrupando os dados"
   ]
  },
  {
   "cell_type": "code",
   "execution_count": 32,
   "id": "0da0a182",
   "metadata": {
    "ExecuteTime": {
     "end_time": "2021-07-02T03:40:34.792591Z",
     "start_time": "2021-07-02T03:40:34.788594Z"
    },
    "hidden": true
   },
   "outputs": [],
   "source": [
    "# 1. Abra o arquivo preferencias.csv como um dataframe chamado pref."
   ]
  },
  {
   "cell_type": "code",
   "execution_count": 33,
   "id": "a188c5dc",
   "metadata": {
    "ExecuteTime": {
     "end_time": "2021-07-02T03:40:56.257609Z",
     "start_time": "2021-07-02T03:40:56.252608Z"
    },
    "hidden": true
   },
   "outputs": [],
   "source": [
    "# 2. Visualize os 5 primeiras linhas do arquivo"
   ]
  },
  {
   "cell_type": "code",
   "execution_count": 34,
   "id": "88f0664b",
   "metadata": {
    "ExecuteTime": {
     "end_time": "2021-07-02T03:41:14.128460Z",
     "start_time": "2021-07-02T03:41:14.124459Z"
    },
    "hidden": true
   },
   "outputs": [],
   "source": [
    "# 3. Agrupe os dados pela variável Gender(gênero)"
   ]
  },
  {
   "cell_type": "code",
   "execution_count": 35,
   "id": "022cdbd9",
   "metadata": {
    "ExecuteTime": {
     "end_time": "2021-07-02T03:41:30.352692Z",
     "start_time": "2021-07-02T03:41:30.348692Z"
    },
    "hidden": true
   },
   "outputs": [],
   "source": [
    "# 4. Verifique a contagem de itens por cada gênero"
   ]
  },
  {
   "cell_type": "code",
   "execution_count": 36,
   "id": "d1fe6852",
   "metadata": {
    "ExecuteTime": {
     "end_time": "2021-07-02T03:41:58.987044Z",
     "start_time": "2021-07-02T03:41:58.981044Z"
    },
    "hidden": true
   },
   "outputs": [],
   "source": [
    "# 5. Agrupe os dados pelas variáveis Gender e Favorite Color (cor favorita)"
   ]
  },
  {
   "cell_type": "code",
   "execution_count": 37,
   "id": "eae24786",
   "metadata": {
    "ExecuteTime": {
     "end_time": "2021-07-02T03:42:24.915024Z",
     "start_time": "2021-07-02T03:42:24.910060Z"
    },
    "hidden": true
   },
   "outputs": [],
   "source": [
    "# 6. Quantos itens de gênero F também possuem cor favorita Cool?"
   ]
  },
  {
   "cell_type": "code",
   "execution_count": 38,
   "id": "d442abb1",
   "metadata": {
    "ExecuteTime": {
     "end_time": "2021-07-02T03:42:55.770861Z",
     "start_time": "2021-07-02T03:42:55.765861Z"
    },
    "hidden": true
   },
   "outputs": [],
   "source": [
    "# 7. Agrupe os dados pelas variáveis Gender e Favorite Color e Favorite Beverage (bebida favorita)"
   ]
  },
  {
   "cell_type": "code",
   "execution_count": null,
   "id": "66b6b46b",
   "metadata": {
    "hidden": true
   },
   "outputs": [],
   "source": [
    "# 8. Verifique a quantidade de itens de gênero M que têm cor preferida Warm e que preferem Beer"
   ]
  }
 ],
 "metadata": {
  "kernelspec": {
   "display_name": "Python 3",
   "language": "python",
   "name": "python3"
  },
  "language_info": {
   "codemirror_mode": {
    "name": "ipython",
    "version": 3
   },
   "file_extension": ".py",
   "mimetype": "text/x-python",
   "name": "python",
   "nbconvert_exporter": "python",
   "pygments_lexer": "ipython3",
   "version": "3.8.8"
  },
  "varInspector": {
   "cols": {
    "lenName": 16,
    "lenType": 16,
    "lenVar": 40
   },
   "kernels_config": {
    "python": {
     "delete_cmd_postfix": "",
     "delete_cmd_prefix": "del ",
     "library": "var_list.py",
     "varRefreshCmd": "print(var_dic_list())"
    },
    "r": {
     "delete_cmd_postfix": ") ",
     "delete_cmd_prefix": "rm(",
     "library": "var_list.r",
     "varRefreshCmd": "cat(var_dic_list()) "
    }
   },
   "types_to_exclude": [
    "module",
    "function",
    "builtin_function_or_method",
    "instance",
    "_Feature"
   ],
   "window_display": false
  }
 },
 "nbformat": 4,
 "nbformat_minor": 5
}
