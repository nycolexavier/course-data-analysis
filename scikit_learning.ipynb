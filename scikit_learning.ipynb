{
 "cells": [
  {
   "cell_type": "markdown",
   "id": "9b3f1d7c",
   "metadata": {
    "heading_collapsed": true
   },
   "source": [
    "# Exercícios - Ciclo de Processos"
   ]
  },
  {
   "cell_type": "code",
   "execution_count": 1,
   "id": "814f5955",
   "metadata": {
    "ExecuteTime": {
     "end_time": "2021-07-03T00:56:45.249996Z",
     "start_time": "2021-07-03T00:56:45.244997Z"
    },
    "hidden": true
   },
   "outputs": [],
   "source": [
    "# 1. Pesquise o significado de overfitting e reescreva utilizando suas palavras."
   ]
  },
  {
   "cell_type": "code",
   "execution_count": 2,
   "id": "52ad2b89",
   "metadata": {
    "ExecuteTime": {
     "end_time": "2021-07-03T00:56:50.829699Z",
     "start_time": "2021-07-03T00:56:50.825718Z"
    },
    "hidden": true
   },
   "outputs": [],
   "source": [
    "# 2. Pesquise quais as melhores práticas para separação de amostra de treino e teste."
   ]
  },
  {
   "cell_type": "code",
   "execution_count": 4,
   "id": "b0e2c7fd",
   "metadata": {
    "ExecuteTime": {
     "end_time": "2021-07-03T00:57:25.494651Z",
     "start_time": "2021-07-03T00:57:25.489651Z"
    },
    "hidden": true
   },
   "outputs": [],
   "source": [
    "# 3. É razoável dividir os dados em amostra de treino e teste com os mesmos tamanhos? Por quê?"
   ]
  },
  {
   "cell_type": "markdown",
   "id": "11735c08",
   "metadata": {
    "heading_collapsed": true
   },
   "source": [
    "# Exercícios - Treino e Teste"
   ]
  },
  {
   "cell_type": "code",
   "execution_count": 5,
   "id": "bc736555",
   "metadata": {
    "ExecuteTime": {
     "end_time": "2021-07-03T00:57:45.943902Z",
     "start_time": "2021-07-03T00:57:45.938904Z"
    },
    "hidden": true
   },
   "outputs": [],
   "source": [
    "# 1. Utilizando os datasets embutidos no Scikit-Learn crie o conjunto de dados diabetes, utilizando o argumento return_X_y=True."
   ]
  },
  {
   "cell_type": "code",
   "execution_count": 6,
   "id": "17cc7123",
   "metadata": {
    "ExecuteTime": {
     "end_time": "2021-07-03T00:57:52.309425Z",
     "start_time": "2021-07-03T00:57:52.305428Z"
    },
    "hidden": true
   },
   "outputs": [],
   "source": [
    "# 2. Utilizando o dataset diabetes, crie as variáveis preditoras (X) e a variável resposta(y)."
   ]
  },
  {
   "cell_type": "code",
   "execution_count": 7,
   "id": "69ce6d64",
   "metadata": {
    "ExecuteTime": {
     "end_time": "2021-07-03T00:57:59.494756Z",
     "start_time": "2021-07-03T00:57:59.490760Z"
    },
    "hidden": true
   },
   "outputs": [],
   "source": [
    "# 3. Procure a documentação da função train_test_split e verifique qual o significado do argumento random_state e explique qual sua importância."
   ]
  },
  {
   "cell_type": "code",
   "execution_count": null,
   "id": "aaea6138",
   "metadata": {
    "hidden": true
   },
   "outputs": [],
   "source": [
    "# 4. Faça uma separação de amostra de treino e teste onde a amostra de treino contenha 65% dos dados e com random_state=42"
   ]
  },
  {
   "cell_type": "markdown",
   "id": "a0fe80a6",
   "metadata": {
    "heading_collapsed": true
   },
   "source": [
    "# Exercícios - Regressão Linear"
   ]
  },
  {
   "cell_type": "code",
   "execution_count": 8,
   "id": "8516d650",
   "metadata": {
    "ExecuteTime": {
     "end_time": "2021-07-03T00:59:15.575093Z",
     "start_time": "2021-07-03T00:59:15.570093Z"
    },
    "hidden": true
   },
   "outputs": [],
   "source": [
    "# 1. Utilize o dataset diabetes criado anteriormente. Pesquise sobre o que se trata."
   ]
  },
  {
   "cell_type": "code",
   "execution_count": 9,
   "id": "09cc7c9c",
   "metadata": {
    "ExecuteTime": {
     "end_time": "2021-07-03T00:59:22.719436Z",
     "start_time": "2021-07-03T00:59:22.715438Z"
    },
    "hidden": true
   },
   "outputs": [],
   "source": [
    "# 2. Separe-o em X,y."
   ]
  },
  {
   "cell_type": "code",
   "execution_count": 10,
   "id": "8be7f82e",
   "metadata": {
    "ExecuteTime": {
     "end_time": "2021-07-03T00:59:27.942224Z",
     "start_time": "2021-07-03T00:59:27.937223Z"
    },
    "hidden": true
   },
   "outputs": [],
   "source": [
    "# 3. Faça a separação em amostra de treino e teste, deixando 30% para teste. Use random_state=42."
   ]
  },
  {
   "cell_type": "code",
   "execution_count": 11,
   "id": "3e7a9583",
   "metadata": {
    "ExecuteTime": {
     "end_time": "2021-07-03T00:59:33.710882Z",
     "start_time": "2021-07-03T00:59:33.705882Z"
    },
    "hidden": true
   },
   "outputs": [],
   "source": [
    "# 4. Importe o LinearRegression, crie o modelo model."
   ]
  },
  {
   "cell_type": "code",
   "execution_count": 12,
   "id": "98c1d2b4",
   "metadata": {
    "ExecuteTime": {
     "end_time": "2021-07-03T00:59:40.509304Z",
     "start_time": "2021-07-03T00:59:40.505304Z"
    },
    "hidden": true
   },
   "outputs": [],
   "source": [
    "# 5. Treino o modelo aplicando a função fit() aos dados de treino."
   ]
  },
  {
   "cell_type": "code",
   "execution_count": 13,
   "id": "a2dcd53b",
   "metadata": {
    "ExecuteTime": {
     "end_time": "2021-07-03T00:59:45.766083Z",
     "start_time": "2021-07-03T00:59:45.763126Z"
    },
    "hidden": true
   },
   "outputs": [],
   "source": [
    "# 6. Faça a predição, aplicando a função predict aos dados X_train, chamando o resultado de preditos."
   ]
  },
  {
   "cell_type": "code",
   "execution_count": 14,
   "id": "fd648024",
   "metadata": {
    "ExecuteTime": {
     "end_time": "2021-07-03T00:59:51.760691Z",
     "start_time": "2021-07-03T00:59:51.755695Z"
    },
    "hidden": true
   },
   "outputs": [],
   "source": [
    "# 7. Meça o valor de r2_score. O quão bom está seu modelo?"
   ]
  },
  {
   "cell_type": "code",
   "execution_count": 15,
   "id": "6586673a",
   "metadata": {
    "ExecuteTime": {
     "end_time": "2021-07-03T00:59:56.893500Z",
     "start_time": "2021-07-03T00:59:56.889499Z"
    },
    "hidden": true
   },
   "outputs": [],
   "source": [
    "# 8. Faça um gráfico de espalhamento com os valores de y_train e predito"
   ]
  },
  {
   "cell_type": "markdown",
   "id": "ef53d57a",
   "metadata": {
    "heading_collapsed": true
   },
   "source": [
    "# Exercícios - Regressão Logística"
   ]
  },
  {
   "cell_type": "code",
   "execution_count": 16,
   "id": "85616f27",
   "metadata": {
    "ExecuteTime": {
     "end_time": "2021-07-03T01:01:36.151453Z",
     "start_time": "2021-07-03T01:01:36.147457Z"
    },
    "hidden": true
   },
   "outputs": [],
   "source": [
    "# 1. Utilize os datasets embutidos no Scikit-Learn crie o conjunto de dados cancer, utilizando o argumento return_X_y=True. Pesquise sobre o dataset."
   ]
  },
  {
   "cell_type": "code",
   "execution_count": 17,
   "id": "e71d9ac3",
   "metadata": {
    "ExecuteTime": {
     "end_time": "2021-07-03T01:01:41.927115Z",
     "start_time": "2021-07-03T01:01:41.923112Z"
    },
    "hidden": true
   },
   "outputs": [],
   "source": [
    "# 2. Separe-o em X,y."
   ]
  },
  {
   "cell_type": "code",
   "execution_count": 18,
   "id": "0feb531f",
   "metadata": {
    "ExecuteTime": {
     "end_time": "2021-07-03T01:01:47.296865Z",
     "start_time": "2021-07-03T01:01:47.292867Z"
    },
    "hidden": true
   },
   "outputs": [],
   "source": [
    "# 3. Faça a separação em amostra de treino e teste, deixando 30% para teste. Use random_state=42."
   ]
  },
  {
   "cell_type": "code",
   "execution_count": 19,
   "id": "c1bff82d",
   "metadata": {
    "ExecuteTime": {
     "end_time": "2021-07-03T01:01:52.614630Z",
     "start_time": "2021-07-03T01:01:52.610632Z"
    },
    "hidden": true
   },
   "outputs": [],
   "source": [
    "# 4. Importe o LogisticRegression, crie o modelo de classificação clf."
   ]
  },
  {
   "cell_type": "code",
   "execution_count": 20,
   "id": "d45dcc69",
   "metadata": {
    "ExecuteTime": {
     "end_time": "2021-07-03T01:01:58.263319Z",
     "start_time": "2021-07-03T01:01:58.258322Z"
    },
    "hidden": true
   },
   "outputs": [],
   "source": [
    "# 5. Treino o modelo aplicando a função fit() aos dados de treino."
   ]
  },
  {
   "cell_type": "code",
   "execution_count": 21,
   "id": "c9542161",
   "metadata": {
    "ExecuteTime": {
     "end_time": "2021-07-03T01:02:03.319145Z",
     "start_time": "2021-07-03T01:02:03.315147Z"
    },
    "hidden": true
   },
   "outputs": [],
   "source": [
    "# 6. Faça a predição, aplicando a função predict aos dados X_train, , chamando o resultado de predito."
   ]
  },
  {
   "cell_type": "code",
   "execution_count": 22,
   "id": "e2e9a23a",
   "metadata": {
    "ExecuteTime": {
     "end_time": "2021-07-03T01:02:09.680668Z",
     "start_time": "2021-07-03T01:02:09.675673Z"
    },
    "hidden": true
   },
   "outputs": [],
   "source": [
    "# 7. Utilize a função de métrica classification_report. O quão bom está seu modelo?"
   ]
  }
 ],
 "metadata": {
  "kernelspec": {
   "display_name": "Python 3",
   "language": "python",
   "name": "python3"
  },
  "language_info": {
   "codemirror_mode": {
    "name": "ipython",
    "version": 3
   },
   "file_extension": ".py",
   "mimetype": "text/x-python",
   "name": "python",
   "nbconvert_exporter": "python",
   "pygments_lexer": "ipython3",
   "version": "3.8.8"
  },
  "varInspector": {
   "cols": {
    "lenName": 16,
    "lenType": 16,
    "lenVar": 40
   },
   "kernels_config": {
    "python": {
     "delete_cmd_postfix": "",
     "delete_cmd_prefix": "del ",
     "library": "var_list.py",
     "varRefreshCmd": "print(var_dic_list())"
    },
    "r": {
     "delete_cmd_postfix": ") ",
     "delete_cmd_prefix": "rm(",
     "library": "var_list.r",
     "varRefreshCmd": "cat(var_dic_list()) "
    }
   },
   "types_to_exclude": [
    "module",
    "function",
    "builtin_function_or_method",
    "instance",
    "_Feature"
   ],
   "window_display": false
  }
 },
 "nbformat": 4,
 "nbformat_minor": 5
}
