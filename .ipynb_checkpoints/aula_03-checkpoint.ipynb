{
 "cells": [
  {
   "cell_type": "markdown",
   "id": "397a718e",
   "metadata": {
    "ExecuteTime": {
     "end_time": "2021-07-03T13:28:32.174881Z",
     "start_time": "2021-07-03T13:28:31.319129Z"
    }
   },
   "source": [
    "# Prática 09:00 ás 12:00h"
   ]
  },
  {
   "cell_type": "markdown",
   "id": "b47e78f6",
   "metadata": {},
   "source": [
    "Para este experimento, vamos utilizar o dataset wine+Quality, que são dois conjuntos de dados relacionados com as variantes tinto e branco do vinho \"Vinho Verde\" português. Para mais detalhes, consulte: [https://www.vinhoverde.pt/en/] ou a referência [Cortez et al., 2009]. Devido a questões de privacidade e logística, apenas variáveis ​​físico-químicas (entradas) e sensoriais (saída) estão disponíveis (por exemplo, não há dados sobre os tipos de uva, marca do vinho, preço de venda do vinho, etc.).\n",
    "\n",
    "Dataset utilizado em: https://archive.ics.uci.edu/ml/datasets/Wine+Quality\n",
    "\n",
    "Informações do conjunto de dados:\n",
    "\n",
    "Esses conjuntos de dados podem ser vistos como tarefas de classificação ou regressão. As classes são ordenadas e não equilibradas (por exemplo, existem muitos mais vinhos normais do que excelentes ou pobres). Algoritmos de detecção de outlier podem ser usados ​​para detectar poucos vinhos excelentes ou ruins. Além disso, não temos certeza se todas as variáveis ​​de entrada são relevantes. Portanto, pode ser interessante testar métodos de seleção de recursos.\n",
    "\n",
    "Informação de Atributo:\n",
    "\n",
    "Para obter mais informações, leia [Cortez et al., 2009]. Variáveis ​​de entrada (com base em testes físico-químicos):\n",
    "\n",
    "1 - acidez fixa \"fixed acidity\" 2 - acidez volátil \"volatile acidity\" 3 - ácido cítrico \"citric acid\" 4 - açúcar residual \"residual sugar' 5 - cloretos \"chlorides\" 6 - dióxido de enxofre livre \"free sulfur dioxide\" 7 - dióxido de enxofre total \"total sulfur dioxide\" 8 - densidade \"density\" 9 - pH \"pH\" 10 - sulfatos \"sulphates\" 11 - álcool Variável de saída (com base em dados sensoriais): \"alcohol\" 12 - qualidade (pontuação entre 0 e 10) \"quality\"\n",
    "\n",
    "\n"
   ]
  }
 ],
 "metadata": {
  "kernelspec": {
   "display_name": "Python 3",
   "language": "python",
   "name": "python3"
  },
  "language_info": {
   "codemirror_mode": {
    "name": "ipython",
    "version": 3
   },
   "file_extension": ".py",
   "mimetype": "text/x-python",
   "name": "python",
   "nbconvert_exporter": "python",
   "pygments_lexer": "ipython3",
   "version": "3.8.8"
  },
  "varInspector": {
   "cols": {
    "lenName": 16,
    "lenType": 16,
    "lenVar": 40
   },
   "kernels_config": {
    "python": {
     "delete_cmd_postfix": "",
     "delete_cmd_prefix": "del ",
     "library": "var_list.py",
     "varRefreshCmd": "print(var_dic_list())"
    },
    "r": {
     "delete_cmd_postfix": ") ",
     "delete_cmd_prefix": "rm(",
     "library": "var_list.r",
     "varRefreshCmd": "cat(var_dic_list()) "
    }
   },
   "types_to_exclude": [
    "module",
    "function",
    "builtin_function_or_method",
    "instance",
    "_Feature"
   ],
   "window_display": false
  }
 },
 "nbformat": 4,
 "nbformat_minor": 5
}
