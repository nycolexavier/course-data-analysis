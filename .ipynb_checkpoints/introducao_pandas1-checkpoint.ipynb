{
 "cells": [
  {
   "cell_type": "markdown",
   "id": "625c8554",
   "metadata": {},
   "source": [
    "# Exercício -  Manipulando o DataFrame"
   ]
  },
  {
   "cell_type": "code",
   "execution_count": 23,
   "id": "987dddf0",
   "metadata": {
    "ExecuteTime": {
     "end_time": "2021-07-02T02:04:16.183770Z",
     "start_time": "2021-07-02T02:04:16.165777Z"
    }
   },
   "outputs": [],
   "source": [
    "# 1. Abra o arquivo wold_happiness_report_2015.csv e o aloque em um datafram\n",
    "import pandas as pd\n",
    "\n",
    "df = pd.read_csv('world_happiness_report_2015.csv')"
   ]
  },
  {
   "cell_type": "code",
   "execution_count": 7,
   "id": "e4f9ad1a",
   "metadata": {
    "ExecuteTime": {
     "end_time": "2021-07-02T01:54:45.287320Z",
     "start_time": "2021-07-02T01:54:45.199342Z"
    },
    "code_folding": [
     0
    ],
    "collapsed": true
   },
   "outputs": [
    {
     "data": {
      "text/html": [
       "<div>\n",
       "<style scoped>\n",
       "    .dataframe tbody tr th:only-of-type {\n",
       "        vertical-align: middle;\n",
       "    }\n",
       "\n",
       "    .dataframe tbody tr th {\n",
       "        vertical-align: top;\n",
       "    }\n",
       "\n",
       "    .dataframe thead th {\n",
       "        text-align: right;\n",
       "    }\n",
       "</style>\n",
       "<table border=\"1\" class=\"dataframe\">\n",
       "  <thead>\n",
       "    <tr style=\"text-align: right;\">\n",
       "      <th></th>\n",
       "      <th>country</th>\n",
       "      <th>region</th>\n",
       "      <th>happiness rank</th>\n",
       "      <th>happiness score</th>\n",
       "      <th>standard error</th>\n",
       "      <th>economy (GDP per Capita)</th>\n",
       "      <th>family</th>\n",
       "      <th>health (Life Expectancy)</th>\n",
       "      <th>freedom</th>\n",
       "      <th>trust (Government Corruption)</th>\n",
       "      <th>generosity</th>\n",
       "      <th>dystopia residual</th>\n",
       "    </tr>\n",
       "  </thead>\n",
       "  <tbody>\n",
       "    <tr>\n",
       "      <th>159</th>\n",
       "      <td>Rwanda</td>\n",
       "      <td>Sub-Saharan Africa</td>\n",
       "      <td>154</td>\n",
       "      <td>3,465</td>\n",
       "      <td>3,464</td>\n",
       "      <td>22,208</td>\n",
       "      <td>7,737</td>\n",
       "      <td>42,864</td>\n",
       "      <td>59,201</td>\n",
       "      <td>55,191</td>\n",
       "      <td>22,628</td>\n",
       "      <td>67,042</td>\n",
       "    </tr>\n",
       "    <tr>\n",
       "      <th>160</th>\n",
       "      <td>Benin</td>\n",
       "      <td>Sub-Saharan Africa</td>\n",
       "      <td>155</td>\n",
       "      <td>3.34</td>\n",
       "      <td>NaN</td>\n",
       "      <td>28,665</td>\n",
       "      <td>35,386</td>\n",
       "      <td>3,191</td>\n",
       "      <td>4,845</td>\n",
       "      <td>801</td>\n",
       "      <td>1,826</td>\n",
       "      <td>NaN</td>\n",
       "    </tr>\n",
       "    <tr>\n",
       "      <th>161</th>\n",
       "      <td>Syria</td>\n",
       "      <td>Middle East and Northern Africa</td>\n",
       "      <td>156</td>\n",
       "      <td>3,006</td>\n",
       "      <td>5,015</td>\n",
       "      <td>6,632</td>\n",
       "      <td>47,489</td>\n",
       "      <td>72,193</td>\n",
       "      <td>15,684</td>\n",
       "      <td>18,906</td>\n",
       "      <td>47,179</td>\n",
       "      <td>32,858</td>\n",
       "    </tr>\n",
       "    <tr>\n",
       "      <th>162</th>\n",
       "      <td>Burundi</td>\n",
       "      <td>Sub-Saharan Africa</td>\n",
       "      <td>157</td>\n",
       "      <td>2,905</td>\n",
       "      <td>8,658</td>\n",
       "      <td>153</td>\n",
       "      <td>41,587</td>\n",
       "      <td>22,396</td>\n",
       "      <td>1,185</td>\n",
       "      <td>10,062</td>\n",
       "      <td>19,727</td>\n",
       "      <td>NaN</td>\n",
       "    </tr>\n",
       "    <tr>\n",
       "      <th>163</th>\n",
       "      <td>Togo</td>\n",
       "      <td>Sub-Saharan Africa</td>\n",
       "      <td>158</td>\n",
       "      <td>2,839</td>\n",
       "      <td>6,727</td>\n",
       "      <td>20,868</td>\n",
       "      <td>13,995</td>\n",
       "      <td>28,443</td>\n",
       "      <td>36,453</td>\n",
       "      <td>10,731</td>\n",
       "      <td>16,681</td>\n",
       "      <td>NaN</td>\n",
       "    </tr>\n",
       "  </tbody>\n",
       "</table>\n",
       "</div>"
      ],
      "text/plain": [
       "     country                           region  happiness rank happiness score  \\\n",
       "159   Rwanda               Sub-Saharan Africa             154           3,465   \n",
       "160    Benin               Sub-Saharan Africa             155            3.34   \n",
       "161    Syria  Middle East and Northern Africa             156           3,006   \n",
       "162  Burundi               Sub-Saharan Africa             157           2,905   \n",
       "163     Togo               Sub-Saharan Africa             158           2,839   \n",
       "\n",
       "    standard error economy (GDP per Capita)  family health (Life Expectancy)  \\\n",
       "159          3,464                   22,208   7,737                   42,864   \n",
       "160            NaN                   28,665  35,386                    3,191   \n",
       "161          5,015                    6,632  47,489                   72,193   \n",
       "162          8,658                      153  41,587                   22,396   \n",
       "163          6,727                   20,868  13,995                   28,443   \n",
       "\n",
       "    freedom trust (Government Corruption) generosity dystopia residual  \n",
       "159  59,201                        55,191     22,628            67,042  \n",
       "160   4,845                           801      1,826               NaN  \n",
       "161  15,684                        18,906     47,179            32,858  \n",
       "162   1,185                        10,062     19,727               NaN  \n",
       "163  36,453                        10,731     16,681               NaN  "
      ]
     },
     "execution_count": 7,
     "metadata": {},
     "output_type": "execute_result"
    }
   ],
   "source": [
    "# QUESTION\n",
    "# 2. Verifique o cabeçalho e o final do dataframe\n",
    "#print(df.head()) #cabelhaço\n",
    "df.tail() #final do dataframe\n",
    "# porque quando coloco o print a visualização é diferente"
   ]
  },
  {
   "cell_type": "code",
   "execution_count": 18,
   "id": "e44a2fcc",
   "metadata": {
    "ExecuteTime": {
     "end_time": "2021-07-01T15:08:14.659624Z",
     "start_time": "2021-07-01T15:08:14.651625Z"
    },
    "collapsed": true
   },
   "outputs": [
    {
     "data": {
      "text/plain": [
       "Index(['country', 'region', 'happiness rank', 'happiness score',\n",
       "       'standard error', 'economy (GDP per Capita)', 'family',\n",
       "       'health (Life Expectancy)', 'freedom', 'trust (Government Corruption)',\n",
       "       'generosity', 'dystopia residual'],\n",
       "      dtype='object')"
      ]
     },
     "execution_count": 18,
     "metadata": {},
     "output_type": "execute_result"
    }
   ],
   "source": [
    "# 3. Quais as colunas desse dataframe?\n",
    "df.columns"
   ]
  },
  {
   "cell_type": "code",
   "execution_count": 11,
   "id": "91236b35",
   "metadata": {
    "ExecuteTime": {
     "end_time": "2021-07-02T01:58:23.808584Z",
     "start_time": "2021-07-02T01:58:23.797589Z"
    },
    "collapsed": true
   },
   "outputs": [
    {
     "data": {
      "text/plain": [
       "country                          object\n",
       "region                           object\n",
       "happiness rank                    int64\n",
       "happiness score                  object\n",
       "standard error                   object\n",
       "economy (GDP per Capita)         object\n",
       "family                           object\n",
       "health (Life Expectancy)         object\n",
       "freedom                          object\n",
       "trust (Government Corruption)    object\n",
       "generosity                       object\n",
       "dystopia residual                object\n",
       "dtype: object"
      ]
     },
     "execution_count": 11,
     "metadata": {},
     "output_type": "execute_result"
    }
   ],
   "source": [
    "# 4. Quais os tipos de dados temos no datagrame?\n",
    "df.dtypes"
   ]
  },
  {
   "cell_type": "code",
   "execution_count": 12,
   "id": "e4be984a",
   "metadata": {
    "ExecuteTime": {
     "end_time": "2021-07-02T01:58:36.807566Z",
     "start_time": "2021-07-02T01:58:36.780612Z"
    },
    "collapsed": true
   },
   "outputs": [
    {
     "name": "stdout",
     "output_type": "stream",
     "text": [
      "<class 'pandas.core.frame.DataFrame'>\n",
      "RangeIndex: 164 entries, 0 to 163\n",
      "Data columns (total 12 columns):\n",
      " #   Column                         Non-Null Count  Dtype \n",
      "---  ------                         --------------  ----- \n",
      " 0   country                        164 non-null    object\n",
      " 1   region                         164 non-null    object\n",
      " 2   happiness rank                 164 non-null    int64 \n",
      " 3   happiness score                156 non-null    object\n",
      " 4   standard error                 163 non-null    object\n",
      " 5   economy (GDP per Capita)       164 non-null    object\n",
      " 6   family                         164 non-null    object\n",
      " 7   health (Life Expectancy)       164 non-null    object\n",
      " 8   freedom                        164 non-null    object\n",
      " 9   trust (Government Corruption)  164 non-null    object\n",
      " 10  generosity                     164 non-null    object\n",
      " 11  dystopia residual              150 non-null    object\n",
      "dtypes: int64(1), object(11)\n",
      "memory usage: 15.5+ KB\n"
     ]
    }
   ],
   "source": [
    "# 5. Há valores faltantes ou nulos? Em quais colunas?\n",
    "df.info()"
   ]
  },
  {
   "cell_type": "code",
   "execution_count": 13,
   "id": "29bf37b6",
   "metadata": {
    "ExecuteTime": {
     "end_time": "2021-07-02T01:58:44.647747Z",
     "start_time": "2021-07-02T01:58:44.630749Z"
    },
    "code_folding": []
   },
   "outputs": [],
   "source": [
    "# 6. Renomeie as varáveis como segue:\n",
    "df.rename(columns={'happiness rank': 'rank_felicidade'}, inplace=True)\n",
    "df.rename(columns={'happiness score': 'score_felicidade'}, inplace=True)\n",
    "df.rename(columns={'standard error': 'stand_error'}, inplace=True)\n",
    "df.rename(columns={'economy (GDP per Capita)' : 'PIB'}, inplace=True)\n",
    "df.rename(columns={'health (Life Expectancy)': 'expect_vida'}, inplace=True)\n",
    "df.rename(columns={'trust (Government Corruption)': 'corrupcao'}, inplace=True)"
   ]
  },
  {
   "cell_type": "code",
   "execution_count": 22,
   "id": "0838fce0",
   "metadata": {
    "ExecuteTime": {
     "end_time": "2021-07-02T02:02:15.502791Z",
     "start_time": "2021-07-02T02:02:15.477815Z"
    },
    "code_folding": [
     0
    ],
    "collapsed": true
   },
   "outputs": [
    {
     "data": {
      "text/html": [
       "<div>\n",
       "<style scoped>\n",
       "    .dataframe tbody tr th:only-of-type {\n",
       "        vertical-align: middle;\n",
       "    }\n",
       "\n",
       "    .dataframe tbody tr th {\n",
       "        vertical-align: top;\n",
       "    }\n",
       "\n",
       "    .dataframe thead th {\n",
       "        text-align: right;\n",
       "    }\n",
       "</style>\n",
       "<table border=\"1\" class=\"dataframe\">\n",
       "  <thead>\n",
       "    <tr style=\"text-align: right;\">\n",
       "      <th></th>\n",
       "      <th>happiness rank</th>\n",
       "    </tr>\n",
       "  </thead>\n",
       "  <tbody>\n",
       "    <tr>\n",
       "      <th>count</th>\n",
       "      <td>164.000000</td>\n",
       "    </tr>\n",
       "    <tr>\n",
       "      <th>mean</th>\n",
       "      <td>77.018293</td>\n",
       "    </tr>\n",
       "    <tr>\n",
       "      <th>std</th>\n",
       "      <td>46.699860</td>\n",
       "    </tr>\n",
       "    <tr>\n",
       "      <th>min</th>\n",
       "      <td>1.000000</td>\n",
       "    </tr>\n",
       "    <tr>\n",
       "      <th>25%</th>\n",
       "      <td>35.750000</td>\n",
       "    </tr>\n",
       "    <tr>\n",
       "      <th>50%</th>\n",
       "      <td>76.500000</td>\n",
       "    </tr>\n",
       "    <tr>\n",
       "      <th>75%</th>\n",
       "      <td>117.250000</td>\n",
       "    </tr>\n",
       "    <tr>\n",
       "      <th>max</th>\n",
       "      <td>158.000000</td>\n",
       "    </tr>\n",
       "  </tbody>\n",
       "</table>\n",
       "</div>"
      ],
      "text/plain": [
       "       happiness rank\n",
       "count      164.000000\n",
       "mean        77.018293\n",
       "std         46.699860\n",
       "min          1.000000\n",
       "25%         35.750000\n",
       "50%         76.500000\n",
       "75%        117.250000\n",
       "max        158.000000"
      ]
     },
     "execution_count": 22,
     "metadata": {},
     "output_type": "execute_result"
    }
   ],
   "source": [
    "# QUESTION\n",
    "# o que eu fiz para não aparecer todas as colunas?\n",
    "# 7. Quais os valores médios de expect_vida? E o valor mediano? E o máximo da variável PIB?\n",
    "df.describe()"
   ]
  },
  {
   "cell_type": "code",
   "execution_count": null,
   "id": "421ad873",
   "metadata": {},
   "outputs": [],
   "source": [
    "# 8. Crie uma series que contenha a altura de 5 colegas e deixe seus como índice."
   ]
  }
 ],
 "metadata": {
  "kernelspec": {
   "display_name": "Python 3",
   "language": "python",
   "name": "python3"
  },
  "language_info": {
   "codemirror_mode": {
    "name": "ipython",
    "version": 3
   },
   "file_extension": ".py",
   "mimetype": "text/x-python",
   "name": "python",
   "nbconvert_exporter": "python",
   "pygments_lexer": "ipython3",
   "version": "3.8.8"
  },
  "varInspector": {
   "cols": {
    "lenName": 16,
    "lenType": 16,
    "lenVar": 40
   },
   "kernels_config": {
    "python": {
     "delete_cmd_postfix": "",
     "delete_cmd_prefix": "del ",
     "library": "var_list.py",
     "varRefreshCmd": "print(var_dic_list())"
    },
    "r": {
     "delete_cmd_postfix": ") ",
     "delete_cmd_prefix": "rm(",
     "library": "var_list.r",
     "varRefreshCmd": "cat(var_dic_list()) "
    }
   },
   "types_to_exclude": [
    "module",
    "function",
    "builtin_function_or_method",
    "instance",
    "_Feature"
   ],
   "window_display": false
  }
 },
 "nbformat": 4,
 "nbformat_minor": 5
}
