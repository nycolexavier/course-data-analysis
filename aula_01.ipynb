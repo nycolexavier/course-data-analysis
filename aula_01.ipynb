{
 "cells": [
  {
   "cell_type": "markdown",
   "id": "d06462ff",
   "metadata": {
    "heading_collapsed": true
   },
   "source": [
    "# Exercícios - Variáveis"
   ]
  },
  {
   "cell_type": "code",
   "execution_count": 11,
   "id": "a2f28c21",
   "metadata": {
    "ExecuteTime": {
     "end_time": "2021-06-19T16:49:39.188188Z",
     "start_time": "2021-06-19T16:49:39.010229Z"
    },
    "hidden": true
   },
   "outputs": [],
   "source": [
    "#2. Atribua os seguintesvalores a variaveis, um a um:\n",
    "    #a. 347\n",
    "    #b. 2.71\n",
    "    #c. \"347\"\n",
    "    #d. 2+3j\n",
    "a = 247\n",
    "b = 2.71\n",
    "c = \"347\"\n",
    "d = 2+3j"
   ]
  },
  {
   "cell_type": "code",
   "execution_count": null,
   "id": "e3f5c23e",
   "metadata": {
    "hidden": true
   },
   "outputs": [],
   "source": [
    "# 3. Quais o tipos de variáveis acima?\n",
    "# a = int\n",
    "# b = float\n",
    "# c = str\n",
    "# d = complex"
   ]
  },
  {
   "cell_type": "code",
   "execution_count": null,
   "id": "77bba55c",
   "metadata": {
    "hidden": true
   },
   "outputs": [],
   "source": [
    "# 4. Faça uma atribuição múltipla das variáveis do exercício 2.\n",
    "a, b, c, d = 247, 2.71, \"347\", 2+3j"
   ]
  },
  {
   "cell_type": "code",
   "execution_count": 1,
   "id": "144b31b5",
   "metadata": {
    "ExecuteTime": {
     "end_time": "2021-06-23T12:42:49.684031Z",
     "start_time": "2021-06-23T12:42:47.569498Z"
    },
    "collapsed": true,
    "hidden": true
   },
   "outputs": [
    {
     "ename": "NameError",
     "evalue": "name 'true' is not defined",
     "output_type": "error",
     "traceback": [
      "\u001b[1;31m---------------------------------------------------------------------------\u001b[0m",
      "\u001b[1;31mNameError\u001b[0m                                 Traceback (most recent call last)",
      "\u001b[1;32m<ipython-input-1-b02d4f33e2f7>\u001b[0m in \u001b[0;36m<module>\u001b[1;34m\u001b[0m\n\u001b[0;32m      1\u001b[0m \u001b[1;31m# 5. Declare a seguinte variável e verifique o que acontece:\u001b[0m\u001b[1;33m\u001b[0m\u001b[1;33m\u001b[0m\u001b[1;33m\u001b[0m\u001b[0m\n\u001b[0;32m      2\u001b[0m \u001b[1;31m# a. teste = true\u001b[0m\u001b[1;33m\u001b[0m\u001b[1;33m\u001b[0m\u001b[1;33m\u001b[0m\u001b[0m\n\u001b[1;32m----> 3\u001b[1;33m \u001b[0mteste\u001b[0m \u001b[1;33m=\u001b[0m \u001b[0mtrue\u001b[0m\u001b[1;33m\u001b[0m\u001b[1;33m\u001b[0m\u001b[0m\n\u001b[0m",
      "\u001b[1;31mNameError\u001b[0m: name 'true' is not defined"
     ]
    }
   ],
   "source": [
    "# 5. Declare a seguinte variável e verifique o que acontece:\n",
    "# a. teste = true\n",
    "teste = true"
   ]
  },
  {
   "cell_type": "code",
   "execution_count": 6,
   "id": "5ae6cfbf",
   "metadata": {
    "ExecuteTime": {
     "end_time": "2021-06-23T12:47:50.287830Z",
     "start_time": "2021-06-23T12:47:50.252854Z"
    },
    "hidden": true
   },
   "outputs": [
    {
     "name": "stdout",
     "output_type": "stream",
     "text": [
      "247.0\n",
      "2\n",
      "347.0\n",
      "(2+3j)\n"
     ]
    }
   ],
   "source": [
    "# 6. Transforme as variáveis do exercício 2 conforme segue:\n",
    "# a. para float\n",
    "# b. para inteiro\n",
    "# c. para float\n",
    "# d. para string\n",
    "\n",
    "a = 247\n",
    "print(float(a))\n",
    "\n",
    "b = 2.71\n",
    "print(int(b))\n",
    "\n",
    "c = \"347\"\n",
    "print(float(c))\n",
    "\n",
    "d = 2+3j\n",
    "print(str(d))"
   ]
  },
  {
   "cell_type": "code",
   "execution_count": 15,
   "id": "efb9eeb1",
   "metadata": {
    "ExecuteTime": {
     "end_time": "2021-06-23T12:54:29.674273Z",
     "start_time": "2021-06-23T12:54:29.666278Z"
    },
    "hidden": true
   },
   "outputs": [
    {
     "name": "stdout",
     "output_type": "stream",
     "text": [
      "494\n",
      "5.42\n"
     ]
    }
   ],
   "source": [
    "# 7. Crie uma variável complexa com os valores de 2.a e 2.b\n",
    "a = 247\n",
    "b = 2.71\n",
    "\n",
    "dois_vezes_a = 2*a\n",
    "print(dois_vezes_a)\n",
    "\n",
    "dois_vezes_b = 2*b\n",
    "print(dois_vezes_b)"
   ]
  },
  {
   "cell_type": "markdown",
   "id": "a9516302",
   "metadata": {
    "heading_collapsed": true
   },
   "source": [
    "# Exercícios - Operadores"
   ]
  },
  {
   "cell_type": "code",
   "execution_count": 16,
   "id": "46b69500",
   "metadata": {
    "ExecuteTime": {
     "end_time": "2021-06-23T13:41:51.831959Z",
     "start_time": "2021-06-23T13:41:51.520063Z"
    },
    "hidden": true
   },
   "outputs": [],
   "source": [
    "# 2.Defina as seguintes variáveis:\n",
    "x = 3\n",
    "y = 4.0\n",
    "z = 12\n",
    "t = 'banana'"
   ]
  },
  {
   "cell_type": "code",
   "execution_count": 23,
   "id": "e821929f",
   "metadata": {
    "ExecuteTime": {
     "end_time": "2021-06-23T13:45:41.530567Z",
     "start_time": "2021-06-23T13:45:41.517569Z"
    },
    "hidden": true
   },
   "outputs": [
    {
     "name": "stdout",
     "output_type": "stream",
     "text": [
      "7.0\n",
      "8.0\n",
      "64.0\n",
      "36\n",
      "4.0\n",
      "1.3333333333333333\n",
      "1.0\n"
     ]
    }
   ],
   "source": [
    "# 3. Calcule:\n",
    "# a. \n",
    "a = x+y\n",
    "print(a)\n",
    "\n",
    "# b. \n",
    "b= z-y\n",
    "print(b)\n",
    "\n",
    "# c. \n",
    "c = y**x\n",
    "print(c)\n",
    "\n",
    "# d. \n",
    "d = x*z\n",
    "print(d)\n",
    "\n",
    "# e. \n",
    "e = z/x\n",
    "print(e)\n",
    "\n",
    "# MUDAR O TANTO DE DECIMAL\n",
    "# f. \n",
    "f = y/x\n",
    "print(f)\n",
    "\n",
    "# g. \n",
    "g = y%x\n",
    "print(g)"
   ]
  },
  {
   "cell_type": "code",
   "execution_count": null,
   "id": "5d0663f8",
   "metadata": {
    "code_folding": [
     0
    ],
    "hidden": true
   },
   "outputs": [],
   "source": [
    "# Não consigo ver as questões\n",
    "# 4. Teste as seguintes relações\n"
   ]
  },
  {
   "cell_type": "markdown",
   "id": "bbfd8f94",
   "metadata": {
    "heading_collapsed": true
   },
   "source": [
    "# Exercícios - Operações com Strings"
   ]
  },
  {
   "cell_type": "code",
   "execution_count": 29,
   "id": "be698db1",
   "metadata": {
    "ExecuteTime": {
     "end_time": "2021-06-23T13:56:07.119499Z",
     "start_time": "2021-06-23T13:56:07.114493Z"
    },
    "hidden": true
   },
   "outputs": [],
   "source": [
    "#2. Crie uma variável como seu nome completo\n",
    "nome_completo = 'Nycole dos Santos Xavier'"
   ]
  },
  {
   "cell_type": "code",
   "execution_count": 30,
   "id": "16291c61",
   "metadata": {
    "ExecuteTime": {
     "end_time": "2021-06-23T13:56:21.512084Z",
     "start_time": "2021-06-23T13:56:20.931219Z"
    },
    "hidden": true
   },
   "outputs": [
    {
     "data": {
      "text/plain": [
       "'nycole dos santos xavier'"
      ]
     },
     "execution_count": 30,
     "metadata": {},
     "output_type": "execute_result"
    }
   ],
   "source": [
    "#3. Escreva a variável em lowercase\n",
    "nome_completo.lower()"
   ]
  },
  {
   "cell_type": "code",
   "execution_count": 31,
   "id": "4d3dfcf2",
   "metadata": {
    "ExecuteTime": {
     "end_time": "2021-06-23T13:57:58.615094Z",
     "start_time": "2021-06-23T13:57:58.596132Z"
    },
    "hidden": true
   },
   "outputs": [
    {
     "data": {
      "text/plain": [
       "'NYCOLE DOS SANTOS XAVIER'"
      ]
     },
     "execution_count": 31,
     "metadata": {},
     "output_type": "execute_result"
    }
   ],
   "source": [
    "# 4. Escreva em uppercase\n",
    "nome_completo.upper()"
   ]
  },
  {
   "cell_type": "code",
   "execution_count": 45,
   "id": "fe59dca0",
   "metadata": {
    "ExecuteTime": {
     "end_time": "2021-06-23T14:18:40.272127Z",
     "start_time": "2021-06-23T14:18:40.264133Z"
    },
    "hidden": true
   },
   "outputs": [
    {
     "data": {
      "text/plain": [
       "False"
      ]
     },
     "execution_count": 45,
     "metadata": {},
     "output_type": "execute_result"
    }
   ],
   "source": [
    "# 5. Verifique se o nome começa com a letra P\n",
    "nome_completo.startswith('P')"
   ]
  },
  {
   "cell_type": "code",
   "execution_count": 47,
   "id": "aad842fd",
   "metadata": {
    "ExecuteTime": {
     "end_time": "2021-06-23T14:18:58.758752Z",
     "start_time": "2021-06-23T14:18:58.751752Z"
    },
    "hidden": true
   },
   "outputs": [
    {
     "data": {
      "text/plain": [
       "False"
      ]
     },
     "execution_count": 47,
     "metadata": {},
     "output_type": "execute_result"
    }
   ],
   "source": [
    "# 6. Verifique se o nome termina com a letra J\n",
    "nome_completo.endswith('J')"
   ]
  },
  {
   "cell_type": "code",
   "execution_count": 49,
   "id": "2b772af8",
   "metadata": {
    "ExecuteTime": {
     "end_time": "2021-06-23T14:20:30.720979Z",
     "start_time": "2021-06-23T14:20:30.694987Z"
    },
    "hidden": true
   },
   "outputs": [
    {
     "data": {
      "text/plain": [
       "'Nycole'"
      ]
     },
     "execution_count": 49,
     "metadata": {},
     "output_type": "execute_result"
    }
   ],
   "source": [
    "# 7. Fatie a string para apenas o primeiro nome\n",
    "nome_completo[:6]"
   ]
  },
  {
   "cell_type": "code",
   "execution_count": 51,
   "id": "ca440c4d",
   "metadata": {
    "ExecuteTime": {
     "end_time": "2021-06-23T14:22:18.537456Z",
     "start_time": "2021-06-23T14:22:18.529455Z"
    },
    "hidden": true
   },
   "outputs": [
    {
     "data": {
      "text/plain": [
       "'Ncl o atsXve'"
      ]
     },
     "execution_count": 51,
     "metadata": {},
     "output_type": "execute_result"
    }
   ],
   "source": [
    "# 8. Fatie a string de 2 em 2\n",
    "nome_completo[::2]"
   ]
  },
  {
   "cell_type": "code",
   "execution_count": 53,
   "id": "3f86f65c",
   "metadata": {
    "ExecuteTime": {
     "end_time": "2021-06-23T14:24:03.738549Z",
     "start_time": "2021-06-23T14:24:03.694555Z"
    },
    "hidden": true
   },
   "outputs": [
    {
     "data": {
      "text/plain": [
       "24"
      ]
     },
     "execution_count": 53,
     "metadata": {},
     "output_type": "execute_result"
    }
   ],
   "source": [
    "# 9. Considerando os espaços, qual o tamanho do seu nome?\n",
    "len(nome_completo)"
   ]
  },
  {
   "cell_type": "markdown",
   "id": "ce67ad6d",
   "metadata": {
    "heading_collapsed": true
   },
   "source": [
    "# Exercícios - Listas"
   ]
  },
  {
   "cell_type": "code",
   "execution_count": 69,
   "id": "0a2efb8a",
   "metadata": {
    "ExecuteTime": {
     "end_time": "2021-06-23T14:45:25.712042Z",
     "start_time": "2021-06-23T14:45:25.673046Z"
    },
    "hidden": true
   },
   "outputs": [],
   "source": [
    "# 2. Crie uma lista com nomes de 4 times de futebol\n",
    "times_de_futebol = ['São Paulo', 'Palmeiras', 'Coritiba', 'Cruzeiro']"
   ]
  },
  {
   "cell_type": "code",
   "execution_count": 70,
   "id": "23942835",
   "metadata": {
    "ExecuteTime": {
     "end_time": "2021-06-23T14:45:26.261907Z",
     "start_time": "2021-06-23T14:45:26.252909Z"
    },
    "hidden": true
   },
   "outputs": [
    {
     "data": {
      "text/plain": [
       "'Coritiba'"
      ]
     },
     "execution_count": 70,
     "metadata": {},
     "output_type": "execute_result"
    }
   ],
   "source": [
    "# 3. Acesse o time que está na terceira posição\n",
    "times_de_futebol[2]"
   ]
  },
  {
   "cell_type": "code",
   "execution_count": 77,
   "id": "32da513e",
   "metadata": {
    "ExecuteTime": {
     "end_time": "2021-06-23T14:47:11.691946Z",
     "start_time": "2021-06-23T14:47:11.683949Z"
    },
    "code_folding": [
     0
    ],
    "hidden": true
   },
   "outputs": [
    {
     "data": {
      "text/plain": [
       "'Cruzeiro'"
      ]
     },
     "execution_count": 77,
     "metadata": {},
     "output_type": "execute_result"
    }
   ],
   "source": [
    "# QUESTION\n",
    "# 4. Crie uma nova lista com duas listas de 3 times de futebol, cada uma de uma divisão diferente\n",
    "\n",
    "lista_time_de_futebol = ['São Paulo', 'Coritiba', 'Cruzeiro'],['Serie A', 'Serie B', 'Serie C']\n",
    "lista_time_de_futebol[0][2]"
   ]
  },
  {
   "cell_type": "code",
   "execution_count": 82,
   "id": "955da29d",
   "metadata": {
    "ExecuteTime": {
     "end_time": "2021-06-23T14:52:19.205144Z",
     "start_time": "2021-06-23T14:52:19.196146Z"
    },
    "code_folding": [
     0
    ],
    "hidden": true
   },
   "outputs": [
    {
     "data": {
      "text/plain": [
       "['real', 'libra', 'euro', 'dólar', 'peso']"
      ]
     },
     "execution_count": 82,
     "metadata": {},
     "output_type": "execute_result"
    }
   ],
   "source": [
    "# QUESTION\n",
    "# 5. Crie uma lista com 3 diferentes moedas. Acrescente mais duas outras moedas a essa mesma lista\n",
    "moedas = ['real','libra','euro']\n",
    "#dá para colocar dois ao mesmo tempo?\n",
    "moedas.append('dólar')\n",
    "moedas.append('peso')\n",
    "moedas"
   ]
  },
  {
   "cell_type": "markdown",
   "id": "cd7396a2",
   "metadata": {},
   "source": [
    "# Exercícios - Dicionário"
   ]
  },
  {
   "cell_type": "code",
   "execution_count": 93,
   "id": "f27bc6f8",
   "metadata": {
    "ExecuteTime": {
     "end_time": "2021-06-23T15:23:43.014147Z",
     "start_time": "2021-06-23T15:23:43.004148Z"
    },
    "code_folding": []
   },
   "outputs": [
    {
     "data": {
      "text/plain": [
       "{'Segunda-feira: Àgua'}"
      ]
     },
     "execution_count": 93,
     "metadata": {},
     "output_type": "execute_result"
    }
   ],
   "source": [
    "# QUESTION\n",
    "# porque ele msotrou ao contrário?\n",
    "# 2. Crie um dicionário chamado cardápio em que as chaves são os dias da semana e os respectivos valores sejam os pratos do dia\n",
    "cardapio = {'dia da semana:' 'Segunda-Feira', 'bebida do dia:' 'Àgua' }\n",
    "cardapio2 = {'Segunda-feira:' ' Àgua'}\n",
    "cardapio2"
   ]
  },
  {
   "cell_type": "code",
   "execution_count": 90,
   "id": "b4aa43a4",
   "metadata": {
    "ExecuteTime": {
     "end_time": "2021-06-23T15:22:52.516104Z",
     "start_time": "2021-06-23T15:22:52.505104Z"
    },
    "code_folding": []
   },
   "outputs": [
    {
     "data": {
      "text/plain": [
       "{'hemacias:4.71',\n",
       " 'hematocrito:41.2',\n",
       " 'hemoglobina:14.1',\n",
       " 'linfocitos:38',\n",
       " 'monocitos:7',\n",
       " 'resultado:saúdavel'}"
      ]
     },
     "execution_count": 90,
     "metadata": {},
     "output_type": "execute_result"
    }
   ],
   "source": [
    "# 3. Crie um dicionário chamado hemograma\n",
    "hemograma = {'hemacias:' '4.71', 'hemoglobina:' '14.1', 'hematocrito:' '41.2', 'linfocitos:' '38', 'monocitos:' '7', 'resultado:' 'saúdavel' }\n",
    "hemograma"
   ]
  },
  {
   "cell_type": "code",
   "execution_count": 3,
   "id": "6937fef7",
   "metadata": {
    "ExecuteTime": {
     "end_time": "2021-06-19T16:19:35.184639Z",
     "start_time": "2021-06-19T16:19:35.140648Z"
    }
   },
   "outputs": [
    {
     "data": {
      "text/plain": [
       "False"
      ]
     },
     "execution_count": 3,
     "metadata": {},
     "output_type": "execute_result"
    }
   ],
   "source": [
    "# Teste as seguintes realações\n",
    "x > 7"
   ]
  },
  {
   "cell_type": "code",
   "execution_count": 5,
   "id": "eb156e06",
   "metadata": {
    "ExecuteTime": {
     "end_time": "2021-06-19T16:27:42.522242Z",
     "start_time": "2021-06-19T16:27:42.510245Z"
    }
   },
   "outputs": [
    {
     "data": {
      "text/plain": [
       "12.0"
      ]
     },
     "execution_count": 5,
     "metadata": {},
     "output_type": "execute_result"
    }
   ],
   "source": [
    "x * y"
   ]
  },
  {
   "cell_type": "code",
   "execution_count": 15,
   "id": "8d769c66",
   "metadata": {
    "ExecuteTime": {
     "end_time": "2021-06-19T17:09:26.665002Z",
     "start_time": "2021-06-19T17:09:26.639007Z"
    }
   },
   "outputs": [
    {
     "data": {
      "text/plain": [
       "['abacate', 'coisa']"
      ]
     },
     "execution_count": 15,
     "metadata": {},
     "output_type": "execute_result"
    }
   ],
   "source": [
    "lista = ['abacate','coisa']\n",
    "lista[:2:1]"
   ]
  },
  {
   "cell_type": "code",
   "execution_count": 19,
   "id": "bdf84173",
   "metadata": {
    "ExecuteTime": {
     "end_time": "2021-06-19T17:10:18.610098Z",
     "start_time": "2021-06-19T17:10:18.603098Z"
    }
   },
   "outputs": [],
   "source": [
    "lista.append('ola')"
   ]
  },
  {
   "cell_type": "code",
   "execution_count": 26,
   "id": "87b408f3",
   "metadata": {
    "ExecuteTime": {
     "end_time": "2021-06-19T17:24:48.282309Z",
     "start_time": "2021-06-19T17:24:48.274309Z"
    }
   },
   "outputs": [],
   "source": [
    "tupla1 = 1, 3.14, 'abacate'"
   ]
  },
  {
   "cell_type": "code",
   "execution_count": 30,
   "id": "bbfd2c29",
   "metadata": {
    "ExecuteTime": {
     "end_time": "2021-06-19T17:29:57.299738Z",
     "start_time": "2021-06-19T17:29:57.291738Z"
    }
   },
   "outputs": [],
   "source": [
    "colegas = {'João': '21', 'Maria': '33'}"
   ]
  },
  {
   "cell_type": "code",
   "execution_count": 38,
   "id": "7331c641",
   "metadata": {
    "ExecuteTime": {
     "end_time": "2021-06-19T19:08:46.680343Z",
     "start_time": "2021-06-19T19:08:40.916189Z"
    }
   },
   "outputs": [
    {
     "name": "stdout",
     "output_type": "stream",
     "text": [
      "Qual sua altura: 1.5\n"
     ]
    }
   ],
   "source": [
    "altura = float(input('Qual sua altura: ') )"
   ]
  },
  {
   "cell_type": "code",
   "execution_count": 51,
   "id": "1420c89e",
   "metadata": {
    "ExecuteTime": {
     "end_time": "2021-06-19T19:47:29.640537Z",
     "start_time": "2021-06-19T19:47:21.960318Z"
    },
    "code_folding": []
   },
   "outputs": [
    {
     "name": "stdout",
     "output_type": "stream",
     "text": [
      "A temperatura hoje é: 32\n",
      "Hoje esta muito quente!\n",
      "fim\n"
     ]
    }
   ],
   "source": [
    "temperatura = int(input('A temperatura hoje é: '))\n",
    "if (temperatura > 30):\n",
    "    print('Hoje esta muito quente!')\n",
    "elif (temperatura > 31):\n",
    "    print('31')\n",
    "else:\n",
    "    print('A temperatura hoje esta agradável!')\n",
    "print('fim')"
   ]
  },
  {
   "cell_type": "code",
   "execution_count": null,
   "id": "7eceec51",
   "metadata": {
    "ExecuteTime": {
     "end_time": "2021-06-19T20:20:35.648773Z",
     "start_time": "2021-06-19T20:20:16.369Z"
    }
   },
   "outputs": [],
   "source": [
    "multiplos = [1, 2, 3, 4, 5, 6, 8, 9, 10]"
   ]
  },
  {
   "cell_type": "code",
   "execution_count": null,
   "id": "cd8f5891",
   "metadata": {
    "ExecuteTime": {
     "end_time": "2021-06-19T20:20:35.663770Z",
     "start_time": "2021-06-19T20:20:17.065Z"
    }
   },
   "outputs": [],
   "source": [
    "number = int(input('DIgite um numero entre 0 e 10: ') )"
   ]
  },
  {
   "cell_type": "code",
   "execution_count": null,
   "id": "a4359f06",
   "metadata": {
    "ExecuteTime": {
     "end_time": "2021-06-19T20:20:35.680768Z",
     "start_time": "2021-06-19T20:20:17.279Z"
    }
   },
   "outputs": [],
   "source": [
    "for i in multiplos:\n",
    "    print(number * 1)\n",
    "    print(number * 2)"
   ]
  },
  {
   "cell_type": "code",
   "execution_count": 57,
   "id": "463e7bd4",
   "metadata": {
    "ExecuteTime": {
     "end_time": "2021-06-19T20:32:40.944335Z",
     "start_time": "2021-06-19T20:32:38.730189Z"
    }
   },
   "outputs": [
    {
     "name": "stdout",
     "output_type": "stream",
     "text": [
      "Digite um número entre 2 e 15: 8\n",
      "O fatorial de 8 é 0\n"
     ]
    }
   ],
   "source": [
    "valor = int(input('Digite um número entre 2 e 15: '))\n",
    "fat = 0\n",
    "cont = 0\n",
    "while cont < valor:\n",
    "    fat = fat * valor\n",
    "    cont = cont + 1\n",
    "print('O fatorial de %d é %d' %(valor, fat))"
   ]
  }
 ],
 "metadata": {
  "kernelspec": {
   "display_name": "Python 3",
   "language": "python",
   "name": "python3"
  },
  "language_info": {
   "codemirror_mode": {
    "name": "ipython",
    "version": 3
   },
   "file_extension": ".py",
   "mimetype": "text/x-python",
   "name": "python",
   "nbconvert_exporter": "python",
   "pygments_lexer": "ipython3",
   "version": "3.8.8"
  },
  "varInspector": {
   "cols": {
    "lenName": 16,
    "lenType": 16,
    "lenVar": 40
   },
   "kernels_config": {
    "python": {
     "delete_cmd_postfix": "",
     "delete_cmd_prefix": "del ",
     "library": "var_list.py",
     "varRefreshCmd": "print(var_dic_list())"
    },
    "r": {
     "delete_cmd_postfix": ") ",
     "delete_cmd_prefix": "rm(",
     "library": "var_list.r",
     "varRefreshCmd": "cat(var_dic_list()) "
    }
   },
   "types_to_exclude": [
    "module",
    "function",
    "builtin_function_or_method",
    "instance",
    "_Feature"
   ],
   "window_display": false
  }
 },
 "nbformat": 4,
 "nbformat_minor": 5
}
