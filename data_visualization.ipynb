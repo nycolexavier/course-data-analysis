{
 "cells": [
  {
   "cell_type": "markdown",
   "id": "55b325c0",
   "metadata": {
    "heading_collapsed": true
   },
   "source": [
    "# Exercícios - Entendimento de Negócio"
   ]
  },
  {
   "cell_type": "code",
   "execution_count": 1,
   "id": "dcca2ec3",
   "metadata": {
    "ExecuteTime": {
     "end_time": "2021-07-03T00:35:00.939827Z",
     "start_time": "2021-07-03T00:35:00.934827Z"
    },
    "hidden": true
   },
   "outputs": [],
   "source": [
    "# 1.Pense em um problema a ser resolvido e defina-o de maneira clara e objetiva."
   ]
  },
  {
   "cell_type": "code",
   "execution_count": 2,
   "id": "65826098",
   "metadata": {
    "ExecuteTime": {
     "end_time": "2021-07-03T00:35:22.017936Z",
     "start_time": "2021-07-03T00:35:22.013935Z"
    },
    "hidden": true
   },
   "outputs": [],
   "source": [
    "# 2. Qual a pergunta a ser respondida?"
   ]
  },
  {
   "cell_type": "code",
   "execution_count": 3,
   "id": "6085470d",
   "metadata": {
    "ExecuteTime": {
     "end_time": "2021-07-03T00:35:27.610635Z",
     "start_time": "2021-07-03T00:35:27.590638Z"
    },
    "hidden": true
   },
   "outputs": [],
   "source": [
    "# 3. Qual sua hipótese?"
   ]
  },
  {
   "cell_type": "code",
   "execution_count": 4,
   "id": "91327b28",
   "metadata": {
    "ExecuteTime": {
     "end_time": "2021-07-03T00:35:35.572787Z",
     "start_time": "2021-07-03T00:35:35.568787Z"
    },
    "hidden": true
   },
   "outputs": [],
   "source": [
    "# 4. Quais os dados necessários?"
   ]
  },
  {
   "cell_type": "code",
   "execution_count": 5,
   "id": "b4029898",
   "metadata": {
    "ExecuteTime": {
     "end_time": "2021-07-03T00:35:43.987832Z",
     "start_time": "2021-07-03T00:35:43.982834Z"
    },
    "hidden": true
   },
   "outputs": [],
   "source": [
    "# 5.  Como medir seus resultados? Como saber se meu modelo é bom?"
   ]
  },
  {
   "cell_type": "code",
   "execution_count": 6,
   "id": "92fd263e",
   "metadata": {
    "ExecuteTime": {
     "end_time": "2021-07-03T00:37:27.700755Z",
     "start_time": "2021-07-03T00:37:27.695756Z"
    },
    "hidden": true
   },
   "outputs": [],
   "source": [
    "# 6. Quem usaria os resultados obtidos?"
   ]
  },
  {
   "cell_type": "markdown",
   "id": "3d66211f",
   "metadata": {
    "heading_collapsed": true
   },
   "source": [
    "# Exercícios - Matplotlib"
   ]
  },
  {
   "cell_type": "code",
   "execution_count": 8,
   "id": "3de43ea3",
   "metadata": {
    "ExecuteTime": {
     "end_time": "2021-07-03T00:46:25.388912Z",
     "start_time": "2021-07-03T00:46:25.384914Z"
    },
    "hidden": true
   },
   "outputs": [],
   "source": [
    "# 1. Crie dois arrays x e y com as listas [-3,-2.5,-2,-1,0,1,2,2.5,3] e [-27,-15.62,-8,-1,0,1,8,15.62,27]."
   ]
  },
  {
   "cell_type": "code",
   "execution_count": 9,
   "id": "4e97a6e2",
   "metadata": {
    "ExecuteTime": {
     "end_time": "2021-07-03T00:46:30.814654Z",
     "start_time": "2021-07-03T00:46:30.808655Z"
    },
    "hidden": true
   },
   "outputs": [],
   "source": [
    "# 2. Use a função plot() e faça um gráfico de x e y."
   ]
  },
  {
   "cell_type": "code",
   "execution_count": 10,
   "id": "b4400fa9",
   "metadata": {
    "ExecuteTime": {
     "end_time": "2021-07-03T00:46:50.156162Z",
     "start_time": "2021-07-03T00:46:50.152166Z"
    },
    "hidden": true
   },
   "outputs": [],
   "source": [
    "# 3. Use a função xlabel() para adicionar o nome “Valor de X” ao eixo x. Deixe com fonte de tamanho 15."
   ]
  },
  {
   "cell_type": "code",
   "execution_count": 11,
   "id": "dedf3287",
   "metadata": {
    "ExecuteTime": {
     "end_time": "2021-07-03T00:46:59.675955Z",
     "start_time": "2021-07-03T00:46:59.671956Z"
    },
    "hidden": true
   },
   "outputs": [],
   "source": [
    "# 4. Use a função ylabel() para adicionar o nome “Valor de Y” ao eixo y. Deixe com fonte de tamanho 15."
   ]
  },
  {
   "cell_type": "code",
   "execution_count": 12,
   "id": "d4c2ea79",
   "metadata": {
    "ExecuteTime": {
     "end_time": "2021-07-03T00:47:06.924272Z",
     "start_time": "2021-07-03T00:47:06.920273Z"
    },
    "hidden": true
   },
   "outputs": [],
   "source": [
    "# 5. Use a função legend() para adicionar o nome “Função Cúbica” ao gráfico. Deixe com fonte de tamanho 20."
   ]
  },
  {
   "cell_type": "code",
   "execution_count": 13,
   "id": "b3d79b03",
   "metadata": {
    "ExecuteTime": {
     "end_time": "2021-07-03T00:47:55.084088Z",
     "start_time": "2021-07-03T00:47:55.080088Z"
    },
    "hidden": true
   },
   "outputs": [],
   "source": [
    "# 6. Rode novamente seu gráfico, mas mude agora a linha para a cor magenta."
   ]
  },
  {
   "cell_type": "markdown",
   "id": "a2843121",
   "metadata": {
    "heading_collapsed": true
   },
   "source": [
    "# Exercícios - Seaborn"
   ]
  },
  {
   "cell_type": "code",
   "execution_count": 15,
   "id": "04de322c",
   "metadata": {
    "ExecuteTime": {
     "end_time": "2021-07-03T00:49:35.964666Z",
     "start_time": "2021-07-03T00:49:35.961703Z"
    },
    "hidden": true
   },
   "outputs": [],
   "source": [
    "# 1. Importe a biblioteca Seaborn"
   ]
  },
  {
   "cell_type": "code",
   "execution_count": 16,
   "id": "57a9d145",
   "metadata": {
    "ExecuteTime": {
     "end_time": "2021-07-03T00:49:42.750090Z",
     "start_time": "2021-07-03T00:49:42.745091Z"
    },
    "hidden": true
   },
   "outputs": [],
   "source": [
    "# 2. Use a função load_dataset() e coloque o dataset exercises num dataframe chamado exercicios."
   ]
  },
  {
   "cell_type": "code",
   "execution_count": 17,
   "id": "5a85cd96",
   "metadata": {
    "ExecuteTime": {
     "end_time": "2021-07-03T00:49:51.152139Z",
     "start_time": "2021-07-03T00:49:51.148139Z"
    },
    "hidden": true
   },
   "outputs": [],
   "source": [
    "# 3. Use a função set_style() e mude para ‘dark’."
   ]
  },
  {
   "cell_type": "code",
   "execution_count": 18,
   "id": "003252f5",
   "metadata": {
    "ExecuteTime": {
     "end_time": "2021-07-03T00:49:59.319242Z",
     "start_time": "2021-07-03T00:49:59.314245Z"
    },
    "hidden": true
   },
   "outputs": [],
   "source": [
    "# 4. Faça o histograma da variável pulse usando a função distplot() e o argumento kde=False."
   ]
  },
  {
   "cell_type": "code",
   "execution_count": 19,
   "id": "7df009ac",
   "metadata": {
    "ExecuteTime": {
     "end_time": "2021-07-03T00:50:07.772280Z",
     "start_time": "2021-07-03T00:50:07.769279Z"
    },
    "hidden": true
   },
   "outputs": [],
   "source": [
    "# 5. Agora faça a distribuição de densidade da mesma variável, mas utilizando o argumento hist=False."
   ]
  },
  {
   "cell_type": "code",
   "execution_count": 20,
   "id": "fc0c3d0b",
   "metadata": {
    "ExecuteTime": {
     "end_time": "2021-07-03T00:50:45.332562Z",
     "start_time": "2021-07-03T00:50:45.328560Z"
    },
    "hidden": true
   },
   "outputs": [],
   "source": [
    "# 6. Use a função swarplot() e análise a relação entre as variáveis kind (x) e pulse (y)"
   ]
  },
  {
   "cell_type": "markdown",
   "id": "6e2b5bfc",
   "metadata": {
    "heading_collapsed": true
   },
   "source": [
    "# Exercícios - gráficos"
   ]
  },
  {
   "cell_type": "code",
   "execution_count": 21,
   "id": "10ffbfa9",
   "metadata": {
    "ExecuteTime": {
     "end_time": "2021-07-03T00:54:09.483161Z",
     "start_time": "2021-07-03T00:54:09.477160Z"
    },
    "hidden": true
   },
   "outputs": [],
   "source": [
    "# 1. Utilizando os datasets do Seaborn, crie o dataframe voo com o datasets flights."
   ]
  },
  {
   "cell_type": "code",
   "execution_count": 22,
   "id": "c361ca0e",
   "metadata": {
    "ExecuteTime": {
     "end_time": "2021-07-03T00:54:16.189603Z",
     "start_time": "2021-07-03T00:54:16.185609Z"
    },
    "hidden": true
   },
   "outputs": [],
   "source": [
    "# 2. Faça um gráfico de barras com as variáveis year e passengers."
   ]
  },
  {
   "cell_type": "code",
   "execution_count": 23,
   "id": "dfaa6a1d",
   "metadata": {
    "ExecuteTime": {
     "end_time": "2021-07-03T00:54:24.189746Z",
     "start_time": "2021-07-03T00:54:24.185750Z"
    },
    "hidden": true
   },
   "outputs": [],
   "source": [
    "# 3. Que informação podemos extrair desse gráfico?"
   ]
  },
  {
   "cell_type": "code",
   "execution_count": 24,
   "id": "48c7182a",
   "metadata": {
    "ExecuteTime": {
     "end_time": "2021-07-03T00:54:30.553269Z",
     "start_time": "2021-07-03T00:54:30.549274Z"
    },
    "hidden": true
   },
   "outputs": [],
   "source": [
    "# 4. Use a função boxplot() e verifique a variável passengers."
   ]
  },
  {
   "cell_type": "code",
   "execution_count": 25,
   "id": "938ce6d3",
   "metadata": {
    "ExecuteTime": {
     "end_time": "2021-07-03T00:54:36.352921Z",
     "start_time": "2021-07-03T00:54:36.347922Z"
    },
    "hidden": true
   },
   "outputs": [],
   "source": [
    "# 5. O que podemos depreender desse gráfico?"
   ]
  },
  {
   "cell_type": "code",
   "execution_count": 26,
   "id": "25ef5fde",
   "metadata": {
    "ExecuteTime": {
     "end_time": "2021-07-03T00:54:43.034371Z",
     "start_time": "2021-07-03T00:54:43.029375Z"
    },
    "hidden": true
   },
   "outputs": [],
   "source": [
    "# 6. Qual a diferença entre os resultados obtidos com o gráfico de barras e o boxplot?"
   ]
  },
  {
   "cell_type": "code",
   "execution_count": 27,
   "id": "52d51049",
   "metadata": {
    "ExecuteTime": {
     "end_time": "2021-07-03T00:54:49.152951Z",
     "start_time": "2021-07-03T00:54:49.147952Z"
    },
    "hidden": true
   },
   "outputs": [],
   "source": [
    "# 7. Faça um gráfico de barras com as variáveis month e passengers."
   ]
  },
  {
   "cell_type": "code",
   "execution_count": null,
   "id": "59570d60",
   "metadata": {
    "hidden": true
   },
   "outputs": [],
   "source": [
    "# 8. Qual conclusão podemos extrair desse gráfico?"
   ]
  }
 ],
 "metadata": {
  "kernelspec": {
   "display_name": "Python 3",
   "language": "python",
   "name": "python3"
  },
  "language_info": {
   "codemirror_mode": {
    "name": "ipython",
    "version": 3
   },
   "file_extension": ".py",
   "mimetype": "text/x-python",
   "name": "python",
   "nbconvert_exporter": "python",
   "pygments_lexer": "ipython3",
   "version": "3.8.8"
  },
  "varInspector": {
   "cols": {
    "lenName": 16,
    "lenType": 16,
    "lenVar": 40
   },
   "kernels_config": {
    "python": {
     "delete_cmd_postfix": "",
     "delete_cmd_prefix": "del ",
     "library": "var_list.py",
     "varRefreshCmd": "print(var_dic_list())"
    },
    "r": {
     "delete_cmd_postfix": ") ",
     "delete_cmd_prefix": "rm(",
     "library": "var_list.r",
     "varRefreshCmd": "cat(var_dic_list()) "
    }
   },
   "types_to_exclude": [
    "module",
    "function",
    "builtin_function_or_method",
    "instance",
    "_Feature"
   ],
   "window_display": false
  }
 },
 "nbformat": 4,
 "nbformat_minor": 5
}
